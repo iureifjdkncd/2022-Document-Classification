{
 "cells": [
  {
   "cell_type": "code",
   "execution_count": 2,
   "id": "a6c14cbc",
   "metadata": {},
   "outputs": [],
   "source": [
    "import pandas as pd\n",
    "import numpy as np\n",
    "from sklearn.model_selection import train_test_split\n",
    "from sklearn.metrics import classification_report\n",
    "from sklearn.preprocessing import LabelEncoder\n",
    "import tensorflow as tf\n",
    "from tensorflow.keras.models import Sequential\n",
    "from tensorflow.keras.layers import Dense, LSTM, Embedding, Dropout\n",
    "from tensorflow.keras.callbacks import ModelCheckpoint, EarlyStopping\n",
    "import logging\n",
    "import datetime"
   ]
  },
  {
   "cell_type": "code",
   "execution_count": 2,
   "id": "1fe0d584",
   "metadata": {},
   "outputs": [],
   "source": [
    "# 로그 생성\n",
    "logger = logging.getLogger()\n",
    "\n",
    "# 로그의 출력 기준 설정\n",
    "logger.setLevel(logging.INFO)\n",
    "\n",
    "# log 출력 형식\n",
    "formatter = logging.Formatter('%(asctime)s - %(name)s - %(levelname)s - %(message)s')\n",
    "\n",
    "# log 출력\n",
    "stream_handler = logging.StreamHandler()\n",
    "stream_handler.setFormatter(formatter)\n",
    "logger.addHandler(stream_handler)\n",
    "\n",
    "# log를 파일에 출력\n",
    "file_handler = logging.FileHandler('D:\\\\통계청 공모전\\\\코드\\\\모델학습및예측(attention)_{:%Y%m%d}.log'.format(datetime.datetime.now()), \n",
    "                                   encoding='utf-8')\n",
    "file_handler.setFormatter(formatter)\n",
    "logger.addHandler(file_handler)"
   ]
  },
  {
   "cell_type": "code",
   "execution_count": 3,
   "id": "3ac6cfcb",
   "metadata": {},
   "outputs": [
    {
     "name": "stderr",
     "output_type": "stream",
     "text": [
      "C:\\Users\\user\\anaconda3\\lib\\site-packages\\IPython\\core\\interactiveshell.py:3444: DtypeWarning: Columns (0) have mixed types.Specify dtype option on import or set low_memory=False.\n",
      "  exec(code_obj, self.user_global_ns, self.user_ns)\n"
     ]
    },
    {
     "data": {
      "text/html": [
       "<div>\n",
       "<style scoped>\n",
       "    .dataframe tbody tr th:only-of-type {\n",
       "        vertical-align: middle;\n",
       "    }\n",
       "\n",
       "    .dataframe tbody tr th {\n",
       "        vertical-align: top;\n",
       "    }\n",
       "\n",
       "    .dataframe thead th {\n",
       "        text-align: right;\n",
       "    }\n",
       "</style>\n",
       "<table border=\"1\" class=\"dataframe\">\n",
       "  <thead>\n",
       "    <tr style=\"text-align: right;\">\n",
       "      <th></th>\n",
       "      <th>digit_1</th>\n",
       "      <th>digit_2</th>\n",
       "      <th>digit_3</th>\n",
       "      <th>Full Text</th>\n",
       "      <th>clean_text</th>\n",
       "    </tr>\n",
       "  </thead>\n",
       "  <tbody>\n",
       "    <tr>\n",
       "      <th>0</th>\n",
       "      <td>S</td>\n",
       "      <td>95.0</td>\n",
       "      <td>952.0</td>\n",
       "      <td>카센터에서 자동차부분정비 타이어오일교환</td>\n",
       "      <td>카 센터 자동차 부분 정비 타이어 오일 교환</td>\n",
       "    </tr>\n",
       "    <tr>\n",
       "      <th>1</th>\n",
       "      <td>G</td>\n",
       "      <td>47.0</td>\n",
       "      <td>472.0</td>\n",
       "      <td>상점내에서 일반인을 대상으로 채소 과일판매</td>\n",
       "      <td>상점 내 일반인 대상 채소 과일 판매</td>\n",
       "    </tr>\n",
       "    <tr>\n",
       "      <th>2</th>\n",
       "      <td>G</td>\n",
       "      <td>46.0</td>\n",
       "      <td>467.0</td>\n",
       "      <td>절단하여사업체에도매 공업용고무를가지고 합성고무도매</td>\n",
       "      <td>절단 하여사 업체 에도 매 공업 용 고무 가지 고 합성 고무 도매</td>\n",
       "    </tr>\n",
       "    <tr>\n",
       "      <th>3</th>\n",
       "      <td>G</td>\n",
       "      <td>47.0</td>\n",
       "      <td>475.0</td>\n",
       "      <td>영업점에서 일반소비자에게 열쇠잠금장치</td>\n",
       "      <td>영업 점 일 반 소비자 열쇠 잠금장치</td>\n",
       "    </tr>\n",
       "    <tr>\n",
       "      <th>4</th>\n",
       "      <td>Q</td>\n",
       "      <td>87.0</td>\n",
       "      <td>872.0</td>\n",
       "      <td>어린이집 보호자의 위탁을 받아 취학전아동보육</td>\n",
       "      <td>어린이집 보호자 위탁 받아 취학 전 아동 보육</td>\n",
       "    </tr>\n",
       "    <tr>\n",
       "      <th>...</th>\n",
       "      <td>...</td>\n",
       "      <td>...</td>\n",
       "      <td>...</td>\n",
       "      <td>...</td>\n",
       "      <td>...</td>\n",
       "    </tr>\n",
       "    <tr>\n",
       "      <th>1099995</th>\n",
       "      <td>NaN</td>\n",
       "      <td>NaN</td>\n",
       "      <td>NaN</td>\n",
       "      <td>사업장에서 일반인대상으로 버섯농장</td>\n",
       "      <td>사업 장 일반인 대상 버섯 농장</td>\n",
       "    </tr>\n",
       "    <tr>\n",
       "      <th>1099996</th>\n",
       "      <td>NaN</td>\n",
       "      <td>NaN</td>\n",
       "      <td>NaN</td>\n",
       "      <td>한의원에서 외래환자위주고 치료</td>\n",
       "      <td>한의원 외래 환자 위주 고 치료</td>\n",
       "    </tr>\n",
       "    <tr>\n",
       "      <th>1099997</th>\n",
       "      <td>NaN</td>\n",
       "      <td>NaN</td>\n",
       "      <td>NaN</td>\n",
       "      <td>일반점포에서 소비자에게 그림판매</td>\n",
       "      <td>일 반 점포 소비자 그림 판매</td>\n",
       "    </tr>\n",
       "    <tr>\n",
       "      <th>1099998</th>\n",
       "      <td>NaN</td>\n",
       "      <td>NaN</td>\n",
       "      <td>NaN</td>\n",
       "      <td>사업장에서 일반인 학생대상으로 학습공간제공</td>\n",
       "      <td>사업 장 일반인 학생 대상 학습 공간 제공</td>\n",
       "    </tr>\n",
       "    <tr>\n",
       "      <th>1099999</th>\n",
       "      <td>NaN</td>\n",
       "      <td>NaN</td>\n",
       "      <td>NaN</td>\n",
       "      <td>사업장에서 대리현대아파트를 관리</td>\n",
       "      <td>사업 장 대리 현 대 아파트 관리</td>\n",
       "    </tr>\n",
       "  </tbody>\n",
       "</table>\n",
       "<p>1100000 rows × 5 columns</p>\n",
       "</div>"
      ],
      "text/plain": [
       "        digit_1  digit_2  digit_3                    Full Text  \\\n",
       "0             S     95.0    952.0        카센터에서 자동차부분정비 타이어오일교환   \n",
       "1             G     47.0    472.0      상점내에서 일반인을 대상으로 채소 과일판매   \n",
       "2             G     46.0    467.0  절단하여사업체에도매 공업용고무를가지고 합성고무도매   \n",
       "3             G     47.0    475.0         영업점에서 일반소비자에게 열쇠잠금장치   \n",
       "4             Q     87.0    872.0     어린이집 보호자의 위탁을 받아 취학전아동보육   \n",
       "...         ...      ...      ...                          ...   \n",
       "1099995     NaN      NaN      NaN           사업장에서 일반인대상으로 버섯농장   \n",
       "1099996     NaN      NaN      NaN             한의원에서 외래환자위주고 치료   \n",
       "1099997     NaN      NaN      NaN            일반점포에서 소비자에게 그림판매   \n",
       "1099998     NaN      NaN      NaN      사업장에서 일반인 학생대상으로 학습공간제공   \n",
       "1099999     NaN      NaN      NaN            사업장에서 대리현대아파트를 관리   \n",
       "\n",
       "                                   clean_text  \n",
       "0                    카 센터 자동차 부분 정비 타이어 오일 교환  \n",
       "1                        상점 내 일반인 대상 채소 과일 판매  \n",
       "2        절단 하여사 업체 에도 매 공업 용 고무 가지 고 합성 고무 도매  \n",
       "3                        영업 점 일 반 소비자 열쇠 잠금장치  \n",
       "4                   어린이집 보호자 위탁 받아 취학 전 아동 보육  \n",
       "...                                       ...  \n",
       "1099995                     사업 장 일반인 대상 버섯 농장  \n",
       "1099996                     한의원 외래 환자 위주 고 치료  \n",
       "1099997                      일 반 점포 소비자 그림 판매  \n",
       "1099998               사업 장 일반인 학생 대상 학습 공간 제공  \n",
       "1099999                    사업 장 대리 현 대 아파트 관리  \n",
       "\n",
       "[1100000 rows x 5 columns]"
      ]
     },
     "execution_count": 3,
     "metadata": {},
     "output_type": "execute_result"
    }
   ],
   "source": [
    "df = pd.read_csv('../최종 전처리.csv')\n",
    "df"
   ]
  },
  {
   "cell_type": "code",
   "execution_count": 4,
   "id": "2fe6a41a",
   "metadata": {},
   "outputs": [
    {
     "data": {
      "text/html": [
       "<div>\n",
       "<style scoped>\n",
       "    .dataframe tbody tr th:only-of-type {\n",
       "        vertical-align: middle;\n",
       "    }\n",
       "\n",
       "    .dataframe tbody tr th {\n",
       "        vertical-align: top;\n",
       "    }\n",
       "\n",
       "    .dataframe thead th {\n",
       "        text-align: right;\n",
       "    }\n",
       "</style>\n",
       "<table border=\"1\" class=\"dataframe\">\n",
       "  <thead>\n",
       "    <tr style=\"text-align: right;\">\n",
       "      <th></th>\n",
       "      <th>digit_1</th>\n",
       "      <th>digit_2</th>\n",
       "      <th>digit_3</th>\n",
       "      <th>Full Text</th>\n",
       "      <th>clean_text</th>\n",
       "    </tr>\n",
       "  </thead>\n",
       "  <tbody>\n",
       "    <tr>\n",
       "      <th>0</th>\n",
       "      <td>S</td>\n",
       "      <td>95.0</td>\n",
       "      <td>952.0</td>\n",
       "      <td>카센터에서 자동차부분정비 타이어오일교환</td>\n",
       "      <td>카 센터 자동차 부분 정비 타이어 오일 교환</td>\n",
       "    </tr>\n",
       "    <tr>\n",
       "      <th>1</th>\n",
       "      <td>G</td>\n",
       "      <td>47.0</td>\n",
       "      <td>472.0</td>\n",
       "      <td>상점내에서 일반인을 대상으로 채소 과일판매</td>\n",
       "      <td>상점 내 일반인 대상 채소 과일 판매</td>\n",
       "    </tr>\n",
       "    <tr>\n",
       "      <th>2</th>\n",
       "      <td>G</td>\n",
       "      <td>46.0</td>\n",
       "      <td>467.0</td>\n",
       "      <td>절단하여사업체에도매 공업용고무를가지고 합성고무도매</td>\n",
       "      <td>절단 하여사 업체 에도 매 공업 용 고무 가지 고 합성 고무 도매</td>\n",
       "    </tr>\n",
       "    <tr>\n",
       "      <th>3</th>\n",
       "      <td>G</td>\n",
       "      <td>47.0</td>\n",
       "      <td>475.0</td>\n",
       "      <td>영업점에서 일반소비자에게 열쇠잠금장치</td>\n",
       "      <td>영업 점 일 반 소비자 열쇠 잠금장치</td>\n",
       "    </tr>\n",
       "    <tr>\n",
       "      <th>4</th>\n",
       "      <td>Q</td>\n",
       "      <td>87.0</td>\n",
       "      <td>872.0</td>\n",
       "      <td>어린이집 보호자의 위탁을 받아 취학전아동보육</td>\n",
       "      <td>어린이집 보호자 위탁 받아 취학 전 아동 보육</td>\n",
       "    </tr>\n",
       "    <tr>\n",
       "      <th>...</th>\n",
       "      <td>...</td>\n",
       "      <td>...</td>\n",
       "      <td>...</td>\n",
       "      <td>...</td>\n",
       "      <td>...</td>\n",
       "    </tr>\n",
       "    <tr>\n",
       "      <th>999995</th>\n",
       "      <td>C</td>\n",
       "      <td>13.0</td>\n",
       "      <td>134.0</td>\n",
       "      <td>제품입고 워싱 청바지워싱</td>\n",
       "      <td>제품 입고 워싱 청바지 워싱</td>\n",
       "    </tr>\n",
       "    <tr>\n",
       "      <th>999996</th>\n",
       "      <td>F</td>\n",
       "      <td>42.0</td>\n",
       "      <td>424.0</td>\n",
       "      <td>현장에서 고객의요청에의해 실내인테리어</td>\n",
       "      <td>현장 고객 요청 에의 해 실내 인테리어</td>\n",
       "    </tr>\n",
       "    <tr>\n",
       "      <th>999997</th>\n",
       "      <td>G</td>\n",
       "      <td>47.0</td>\n",
       "      <td>474.0</td>\n",
       "      <td>영업점에서 일반소비자에게 여성의류 판매</td>\n",
       "      <td>영업 점 일 반 소비자 여성 의류 판매</td>\n",
       "    </tr>\n",
       "    <tr>\n",
       "      <th>999998</th>\n",
       "      <td>P</td>\n",
       "      <td>85.0</td>\n",
       "      <td>856.0</td>\n",
       "      <td>사업장에서 일반고객을대상으로 필라테스</td>\n",
       "      <td>사업 장 일 반 고객 대상 필라테스</td>\n",
       "    </tr>\n",
       "    <tr>\n",
       "      <th>999999</th>\n",
       "      <td>I</td>\n",
       "      <td>56.0</td>\n",
       "      <td>561.0</td>\n",
       "      <td>사업장에서 접객시설을 갖추고 한식 미역구 판매</td>\n",
       "      <td>사업 장 접객 시설 갖추고 한식 미역 구 판매</td>\n",
       "    </tr>\n",
       "  </tbody>\n",
       "</table>\n",
       "<p>1000000 rows × 5 columns</p>\n",
       "</div>"
      ],
      "text/plain": [
       "       digit_1  digit_2  digit_3                    Full Text  \\\n",
       "0            S     95.0    952.0        카센터에서 자동차부분정비 타이어오일교환   \n",
       "1            G     47.0    472.0      상점내에서 일반인을 대상으로 채소 과일판매   \n",
       "2            G     46.0    467.0  절단하여사업체에도매 공업용고무를가지고 합성고무도매   \n",
       "3            G     47.0    475.0         영업점에서 일반소비자에게 열쇠잠금장치   \n",
       "4            Q     87.0    872.0     어린이집 보호자의 위탁을 받아 취학전아동보육   \n",
       "...        ...      ...      ...                          ...   \n",
       "999995       C     13.0    134.0                제품입고 워싱 청바지워싱   \n",
       "999996       F     42.0    424.0         현장에서 고객의요청에의해 실내인테리어   \n",
       "999997       G     47.0    474.0        영업점에서 일반소비자에게 여성의류 판매   \n",
       "999998       P     85.0    856.0         사업장에서 일반고객을대상으로 필라테스   \n",
       "999999       I     56.0    561.0    사업장에서 접객시설을 갖추고 한식 미역구 판매   \n",
       "\n",
       "                                  clean_text  \n",
       "0                   카 센터 자동차 부분 정비 타이어 오일 교환  \n",
       "1                       상점 내 일반인 대상 채소 과일 판매  \n",
       "2       절단 하여사 업체 에도 매 공업 용 고무 가지 고 합성 고무 도매  \n",
       "3                       영업 점 일 반 소비자 열쇠 잠금장치  \n",
       "4                  어린이집 보호자 위탁 받아 취학 전 아동 보육  \n",
       "...                                      ...  \n",
       "999995                       제품 입고 워싱 청바지 워싱  \n",
       "999996                 현장 고객 요청 에의 해 실내 인테리어  \n",
       "999997                 영업 점 일 반 소비자 여성 의류 판매  \n",
       "999998                   사업 장 일 반 고객 대상 필라테스  \n",
       "999999             사업 장 접객 시설 갖추고 한식 미역 구 판매  \n",
       "\n",
       "[1000000 rows x 5 columns]"
      ]
     },
     "execution_count": 4,
     "metadata": {},
     "output_type": "execute_result"
    }
   ],
   "source": [
    "train = df[:1000000]\n",
    "train"
   ]
  },
  {
   "cell_type": "code",
   "execution_count": 5,
   "id": "72d9965b",
   "metadata": {},
   "outputs": [
    {
     "name": "stderr",
     "output_type": "stream",
     "text": [
      "C:\\Users\\user\\AppData\\Local\\Temp/ipykernel_19480/3867300257.py:2: SettingWithCopyWarning: \n",
      "A value is trying to be set on a copy of a slice from a DataFrame.\n",
      "Try using .loc[row_indexer,col_indexer] = value instead\n",
      "\n",
      "See the caveats in the documentation: https://pandas.pydata.org/pandas-docs/stable/user_guide/indexing.html#returning-a-view-versus-a-copy\n",
      "  train['digit_1'] = encoder1.fit_transform(train['digit_1'])\n"
     ]
    },
    {
     "data": {
      "text/plain": [
       "19"
      ]
     },
     "execution_count": 5,
     "metadata": {},
     "output_type": "execute_result"
    }
   ],
   "source": [
    "encoder1 = LabelEncoder()\n",
    "train['digit_1'] = encoder1.fit_transform(train['digit_1'])\n",
    "train['digit_1'].nunique()"
   ]
  },
  {
   "cell_type": "code",
   "execution_count": 6,
   "id": "6563ccd2",
   "metadata": {},
   "outputs": [
    {
     "name": "stderr",
     "output_type": "stream",
     "text": [
      "C:\\Users\\user\\AppData\\Local\\Temp/ipykernel_19480/2282110248.py:2: SettingWithCopyWarning: \n",
      "A value is trying to be set on a copy of a slice from a DataFrame.\n",
      "Try using .loc[row_indexer,col_indexer] = value instead\n",
      "\n",
      "See the caveats in the documentation: https://pandas.pydata.org/pandas-docs/stable/user_guide/indexing.html#returning-a-view-versus-a-copy\n",
      "  train['digit_2'] = encoder2.fit_transform(train['digit_2'])\n"
     ]
    },
    {
     "data": {
      "text/plain": [
       "74"
      ]
     },
     "execution_count": 6,
     "metadata": {},
     "output_type": "execute_result"
    }
   ],
   "source": [
    "encoder2 = LabelEncoder()\n",
    "train['digit_2'] = encoder2.fit_transform(train['digit_2'])\n",
    "train['digit_2'].nunique()"
   ]
  },
  {
   "cell_type": "code",
   "execution_count": 7,
   "id": "a3d90e0c",
   "metadata": {},
   "outputs": [
    {
     "name": "stderr",
     "output_type": "stream",
     "text": [
      "C:\\Users\\user\\AppData\\Local\\Temp/ipykernel_19480/781095071.py:2: SettingWithCopyWarning: \n",
      "A value is trying to be set on a copy of a slice from a DataFrame.\n",
      "Try using .loc[row_indexer,col_indexer] = value instead\n",
      "\n",
      "See the caveats in the documentation: https://pandas.pydata.org/pandas-docs/stable/user_guide/indexing.html#returning-a-view-versus-a-copy\n",
      "  train['digit_3'] = encoder3.fit_transform(train['digit_3'])\n"
     ]
    },
    {
     "data": {
      "text/plain": [
       "225"
      ]
     },
     "execution_count": 7,
     "metadata": {},
     "output_type": "execute_result"
    }
   ],
   "source": [
    "encoder3 = LabelEncoder()\n",
    "train['digit_3'] = encoder3.fit_transform(train['digit_3'])\n",
    "train['digit_3'].nunique()"
   ]
  },
  {
   "cell_type": "code",
   "execution_count": 8,
   "id": "8a4de6c0",
   "metadata": {},
   "outputs": [],
   "source": [
    "text = np.load('D:/통계청 공모전/text.npy', allow_pickle=True)"
   ]
  },
  {
   "cell_type": "markdown",
   "id": "c962a885",
   "metadata": {},
   "source": [
    "# 시퀀스 패딩"
   ]
  },
  {
   "cell_type": "code",
   "execution_count": 9,
   "id": "c8ab27ed",
   "metadata": {},
   "outputs": [
    {
     "name": "stderr",
     "output_type": "stream",
     "text": [
      "2022-04-13 02:38:07,312 - root - INFO - 시퀀스 패딩\n"
     ]
    }
   ],
   "source": [
    "logging.info('시퀀스 패딩')"
   ]
  },
  {
   "cell_type": "code",
   "execution_count": 10,
   "id": "e327888a",
   "metadata": {},
   "outputs": [
    {
     "data": {
      "text/plain": [
       "array([[   0,    0,    0, ...,  633, 1945, 3832],\n",
       "       [   0,    0,    0, ...,  296,  147,   12],\n",
       "       [   0,    0,    0, ..., 1304,  608,   23],\n",
       "       ...,\n",
       "       [   0,    0,    0, ..., 1444, 1030,   12],\n",
       "       [   0,    0,    0, ..., 1434, 1726,   49],\n",
       "       [   0,    0,    0, ...,   44, 1310,  203]])"
      ]
     },
     "execution_count": 10,
     "metadata": {},
     "output_type": "execute_result"
    }
   ],
   "source": [
    "max_len = 21 # 단어 개수 최댓값\n",
    "\n",
    "text = tf.keras.preprocessing.sequence.pad_sequences(text, maxlen=max_len)\n",
    "text"
   ]
  },
  {
   "cell_type": "code",
   "execution_count": 11,
   "id": "0863303c",
   "metadata": {},
   "outputs": [],
   "source": [
    "train_data = text[:1000000]\n",
    "test_data = text[1000000:]\n",
    "target1 = train['digit_1']\n",
    "\n",
    "X_train, X_test, y_train, y_test = train_test_split(train_data, target1, test_size=0.2, shuffle=True, stratify=target1)"
   ]
  },
  {
   "cell_type": "code",
   "execution_count": 12,
   "id": "1fbdecde",
   "metadata": {},
   "outputs": [
    {
     "data": {
      "text/plain": [
       "array([[    0,     0,     0, ..., 10054,  2285,   462],\n",
       "       [    0,     0,     0, ...,    67,   158,    79],\n",
       "       [    0,     0,     0, ...,   779,  2897,  4509],\n",
       "       ...,\n",
       "       [    0,     0,     0, ...,    95, 10049,   255],\n",
       "       [    0,     0,     0, ...,     0,  5890,   258],\n",
       "       [    0,     0,     0, ...,     0, 10166,  1009]])"
      ]
     },
     "execution_count": 12,
     "metadata": {},
     "output_type": "execute_result"
    }
   ],
   "source": [
    "X_train"
   ]
  },
  {
   "cell_type": "markdown",
   "id": "eea38865",
   "metadata": {},
   "source": [
    "# 멀티 헤드 어텐션"
   ]
  },
  {
   "cell_type": "code",
   "execution_count": 13,
   "id": "a314f5ca",
   "metadata": {},
   "outputs": [],
   "source": [
    "class MultiHeadAttention(tf.keras.layers.Layer):\n",
    "    def __init__(self, embedding_dim, num_heads=8):\n",
    "        super(MultiHeadAttention, self).__init__()\n",
    "        self.embedding_dim = embedding_dim # d_model\n",
    "        self.num_heads = num_heads\n",
    "\n",
    "        assert embedding_dim % self.num_heads == 0\n",
    "\n",
    "        self.projection_dim = embedding_dim // num_heads\n",
    "        self.query_dense = tf.keras.layers.Dense(embedding_dim)\n",
    "        self.key_dense = tf.keras.layers.Dense(embedding_dim)\n",
    "        self.value_dense = tf.keras.layers.Dense(embedding_dim)\n",
    "        self.dense = tf.keras.layers.Dense(embedding_dim)\n",
    "        \n",
    "    def get_config(self):\n",
    "        config = super().get_config().copy()\n",
    "        config.update({\n",
    "            'embedding_dim': 'self.embedding_dim',\n",
    "            'num_heads': 'self.num_heads',\n",
    "            'projection_dim': 'self.projection_dim',\n",
    "            'query_dense': 'self.query_dense',\n",
    "            'key_dense': 'self.key_dense',\n",
    "            'value_dense': 'self.value_dense',\n",
    "            'dense': 'self.dense'\n",
    "        })\n",
    "        return config\n",
    "\n",
    "    def scaled_dot_product_attention(self, query, key, value):\n",
    "        matmul_qk = tf.matmul(query, key, transpose_b=True)\n",
    "        depth = tf.cast(tf.shape(key)[-1], tf.float32)\n",
    "        logits = matmul_qk / tf.math.sqrt(depth)\n",
    "        attention_weights = tf.nn.softmax(logits, axis=-1)\n",
    "        output = tf.matmul(attention_weights, value)\n",
    "        return output, attention_weights\n",
    "\n",
    "    def split_heads(self, x, batch_size):\n",
    "        x = tf.reshape(x, (batch_size, -1, self.num_heads, self.projection_dim))\n",
    "        return tf.transpose(x, perm=[0, 2, 1, 3])\n",
    "\n",
    "    def call(self, inputs):\n",
    "        # x.shape = [batch_size, seq_len, embedding_dim]\n",
    "        batch_size = tf.shape(inputs)[0]\n",
    "\n",
    "        # (batch_size, seq_len, embedding_dim)\n",
    "        query = self.query_dense(inputs)\n",
    "        key = self.key_dense(inputs)\n",
    "        value = self.value_dense(inputs)\n",
    "\n",
    "        # (batch_size, num_heads, seq_len, projection_dim)\n",
    "        query = self.split_heads(query, batch_size)  \n",
    "        key = self.split_heads(key, batch_size)\n",
    "        value = self.split_heads(value, batch_size)\n",
    "\n",
    "        scaled_attention, _ = self.scaled_dot_product_attention(query, key, value)\n",
    "        # (batch_size, seq_len, num_heads, projection_dim)\n",
    "        scaled_attention = tf.transpose(scaled_attention, perm=[0, 2, 1, 3])  \n",
    "\n",
    "        # (batch_size, seq_len, embedding_dim)\n",
    "        concat_attention = tf.reshape(scaled_attention, (batch_size, -1, self.embedding_dim))\n",
    "        outputs = self.dense(concat_attention)\n",
    "        return outputs"
   ]
  },
  {
   "cell_type": "markdown",
   "id": "99fa7d6b",
   "metadata": {},
   "source": [
    "# 인코더 설계"
   ]
  },
  {
   "cell_type": "code",
   "execution_count": 14,
   "id": "9f93a58b",
   "metadata": {},
   "outputs": [],
   "source": [
    "class TransformerBlock(tf.keras.layers.Layer):\n",
    "    def __init__(self, embedding_dim, num_heads, dff, rate=0.1):\n",
    "        super(TransformerBlock, self).__init__()\n",
    "        self.att = MultiHeadAttention(embedding_dim, num_heads)\n",
    "        self.ffn = tf.keras.Sequential(\n",
    "            [tf.keras.layers.Dense(dff, activation=\"relu\"),\n",
    "             tf.keras.layers.Dense(embedding_dim),]\n",
    "        )\n",
    "        self.layernorm1 = tf.keras.layers.LayerNormalization(epsilon=1e-6)\n",
    "        self.layernorm2 = tf.keras.layers.LayerNormalization(epsilon=1e-6)\n",
    "        self.dropout1 = tf.keras.layers.Dropout(rate)\n",
    "        self.dropout2 = tf.keras.layers.Dropout(rate)\n",
    "        \n",
    "    def get_config(self):\n",
    "        config = super().get_config().copy()\n",
    "        config.update({\n",
    "            'att': 'self.att',\n",
    "            'ffn': 'self.ffn',\n",
    "            'layernorm1': 'self.layernorm1',\n",
    "            'layernorm2': 'self.layernorm2',\n",
    "            'dropout1': 'self.dropout1',\n",
    "            'dropout2': 'self.dropout2'\n",
    "        })\n",
    "        return config\n",
    "\n",
    "    def call(self, inputs, training):\n",
    "        attn_output = self.att(inputs) # 첫번째 서브층 : 멀티 헤드 어텐션\n",
    "        attn_output = self.dropout1(attn_output, training=training)\n",
    "        out1 = self.layernorm1(inputs + attn_output) # Add & Norm\n",
    "        ffn_output = self.ffn(out1) # 두번째 서브층 : 포지션 와이즈 피드 포워드 신경망\n",
    "        ffn_output = self.dropout2(ffn_output, training=training)\n",
    "        return self.layernorm2(out1 + ffn_output) # Add & Norm"
   ]
  },
  {
   "cell_type": "markdown",
   "id": "f9f402e7",
   "metadata": {},
   "source": [
    "# 포지션 임베딩"
   ]
  },
  {
   "cell_type": "code",
   "execution_count": 15,
   "id": "d9a25b35",
   "metadata": {},
   "outputs": [],
   "source": [
    "class TokenAndPositionEmbedding(tf.keras.layers.Layer):\n",
    "    def __init__(self, max_len, vocab_size, embedding_dim):\n",
    "        super(TokenAndPositionEmbedding, self).__init__()\n",
    "        self.token_emb = tf.keras.layers.Embedding(vocab_size, embedding_dim)\n",
    "        self.pos_emb = tf.keras.layers.Embedding(max_len, embedding_dim)\n",
    "\n",
    "    def get_config(self):\n",
    "        config = super().get_config().copy()\n",
    "        config.update({\n",
    "            'token_emb': 'self.token_emb',\n",
    "            'pos_emb': 'self.pos_emb'\n",
    "        })\n",
    "        return config\n",
    "        \n",
    "    def call(self, x):\n",
    "        max_len = tf.shape(x)[-1]\n",
    "        positions = tf.range(start=0, limit=max_len, delta=1)\n",
    "        positions = self.pos_emb(positions)\n",
    "        x = self.token_emb(x)\n",
    "        return x + positions"
   ]
  },
  {
   "cell_type": "markdown",
   "id": "8393f5a4",
   "metadata": {},
   "source": [
    "# Attention 학습 (digit_1)"
   ]
  },
  {
   "cell_type": "code",
   "execution_count": 16,
   "id": "c29bf3c5",
   "metadata": {},
   "outputs": [
    {
     "name": "stderr",
     "output_type": "stream",
     "text": [
      "2022-04-13 02:38:10,442 - root - INFO - digit_1 학습\n"
     ]
    }
   ],
   "source": [
    "logging.info('digit_1 학습')"
   ]
  },
  {
   "cell_type": "code",
   "execution_count": 17,
   "id": "8e5169ea",
   "metadata": {},
   "outputs": [],
   "source": [
    "embedding_dim = 128  # 각 단어의 임베딩 벡터의 차원\n",
    "num_heads = 2  # 어텐션 헤드의 수\n",
    "dff = 128  # 포지션 와이즈 피드 포워드 신경망의 은닉층의 크기\n",
    "vocab_size = 10760# sentencepiece와 동일\n",
    "max_len = 21 # 텍스트 최대 길이는 21\n",
    "\n",
    "inputs = tf.keras.layers.Input(shape=(max_len,))\n",
    "embedding_layer = TokenAndPositionEmbedding(max_len, vocab_size, embedding_dim)\n",
    "x = embedding_layer(inputs)\n",
    "transformer_block = TransformerBlock(embedding_dim, num_heads, dff)\n",
    "x = transformer_block(x)\n",
    "x = tf.keras.layers.GlobalAveragePooling1D()(x)\n",
    "x = tf.keras.layers.Dropout(0.1)(x)\n",
    "x = tf.keras.layers.Dense(20, activation=\"relu\")(x)\n",
    "x = tf.keras.layers.Dropout(0.1)(x)\n",
    "outputs = tf.keras.layers.Dense(19, activation=\"softmax\")(x) # digit_1 19개 카테고리\n",
    "\n",
    "model1 = tf.keras.Model(inputs=inputs, outputs=outputs)"
   ]
  },
  {
   "cell_type": "code",
   "execution_count": 18,
   "id": "c0788822",
   "metadata": {},
   "outputs": [],
   "source": [
    "es = EarlyStopping(monitor='accuracy', mode = 'auto', verbose=3, patience=4)\n",
    "mc1 = ModelCheckpoint('best_model1.h5', monitor='val_accuracy', mode = 'auto', verbose=1, save_best_only=True)"
   ]
  },
  {
   "cell_type": "code",
   "execution_count": 19,
   "id": "0945d920",
   "metadata": {},
   "outputs": [
    {
     "name": "stdout",
     "output_type": "stream",
     "text": [
      "Epoch 1/10\n",
      "20000/20000 [==============================] - 277s 14ms/step - loss: 0.1736 - accuracy: 0.9555 - val_loss: 0.1156 - val_accuracy: 0.9691\n",
      "\n",
      "Epoch 00001: val_accuracy improved from -inf to 0.96909, saving model to best_model1.h5\n",
      "Epoch 2/10\n",
      "20000/20000 [==============================] - 276s 14ms/step - loss: 0.1150 - accuracy: 0.9698 - val_loss: 0.1095 - val_accuracy: 0.9711\n",
      "\n",
      "Epoch 00002: val_accuracy improved from 0.96909 to 0.97109, saving model to best_model1.h5\n",
      "Epoch 3/10\n",
      "20000/20000 [==============================] - 275s 14ms/step - loss: 0.1029 - accuracy: 0.9726 - val_loss: 0.1088 - val_accuracy: 0.9713\n",
      "\n",
      "Epoch 00003: val_accuracy improved from 0.97109 to 0.97130, saving model to best_model1.h5\n",
      "Epoch 4/10\n",
      "20000/20000 [==============================] - 278s 14ms/step - loss: 0.0963 - accuracy: 0.9742 - val_loss: 0.1048 - val_accuracy: 0.9723\n",
      "\n",
      "Epoch 00004: val_accuracy improved from 0.97130 to 0.97229, saving model to best_model1.h5\n",
      "Epoch 5/10\n",
      "20000/20000 [==============================] - 278s 14ms/step - loss: 0.0910 - accuracy: 0.9755 - val_loss: 0.1045 - val_accuracy: 0.9727\n",
      "\n",
      "Epoch 00005: val_accuracy improved from 0.97229 to 0.97274, saving model to best_model1.h5\n",
      "Epoch 6/10\n",
      "20000/20000 [==============================] - 278s 14ms/step - loss: 0.0877 - accuracy: 0.9762 - val_loss: 0.1013 - val_accuracy: 0.9726\n",
      "\n",
      "Epoch 00006: val_accuracy did not improve from 0.97274\n",
      "Epoch 7/10\n",
      "20000/20000 [==============================] - 276s 14ms/step - loss: 0.0848 - accuracy: 0.9769 - val_loss: 0.1053 - val_accuracy: 0.9731\n",
      "\n",
      "Epoch 00007: val_accuracy improved from 0.97274 to 0.97314, saving model to best_model1.h5\n",
      "Epoch 8/10\n",
      "20000/20000 [==============================] - 279s 14ms/step - loss: 0.0831 - accuracy: 0.9774 - val_loss: 0.1047 - val_accuracy: 0.9722\n",
      "\n",
      "Epoch 00008: val_accuracy did not improve from 0.97314\n",
      "Epoch 9/10\n",
      "20000/20000 [==============================] - 277s 14ms/step - loss: 0.0820 - accuracy: 0.9775 - val_loss: 0.1042 - val_accuracy: 0.9730\n",
      "\n",
      "Epoch 00009: val_accuracy did not improve from 0.97314\n",
      "Epoch 10/10\n",
      "20000/20000 [==============================] - 279s 14ms/step - loss: 0.0813 - accuracy: 0.9777 - val_loss: 0.1051 - val_accuracy: 0.9725\n",
      "\n",
      "Epoch 00010: val_accuracy did not improve from 0.97314\n"
     ]
    }
   ],
   "source": [
    "model1.compile(loss='sparse_categorical_crossentropy', optimizer='adam', metrics=['accuracy'])\n",
    "history1 = model1.fit(X_train, y_train, batch_size=32, epochs=10, callbacks=[es, mc1], validation_split=0.2)"
   ]
  },
  {
   "cell_type": "code",
   "execution_count": 20,
   "id": "48f25875",
   "metadata": {},
   "outputs": [
    {
     "name": "stdout",
     "output_type": "stream",
     "text": [
      "6250/6250 [==============================] - 22s 3ms/step - loss: 0.1043 - accuracy: 0.9725\n",
      "테스트 정확도: 0.9725\n"
     ]
    }
   ],
   "source": [
    "print(\"테스트 정확도: %.4f\" % (model1.evaluate(X_test, y_test)[1]))"
   ]
  },
  {
   "cell_type": "code",
   "execution_count": 21,
   "id": "a8702188",
   "metadata": {},
   "outputs": [
    {
     "data": {
      "text/plain": [
       "array([[3.6744474e-09, 3.6862422e-23, 2.5232512e-09, ..., 4.9089958e-06,\n",
       "        9.6294284e-01, 6.7912370e-05],\n",
       "       [2.0091236e-11, 2.5880529e-28, 3.2671644e-06, ..., 4.0614084e-10,\n",
       "        7.1699736e-11, 1.9643352e-07],\n",
       "       [2.3981828e-13, 2.6054717e-25, 4.3806290e-07, ..., 1.1937420e-09,\n",
       "        5.3928972e-09, 4.3856162e-05],\n",
       "       ...,\n",
       "       [5.4284908e-14, 2.3214447e-28, 3.5151174e-08, ..., 9.9999118e-01,\n",
       "        5.8357130e-12, 8.7233120e-06],\n",
       "       [1.5016700e-01, 1.0709922e-10, 5.9273603e-05, ..., 1.7090443e-03,\n",
       "        8.6474710e-04, 2.2870956e-03],\n",
       "       [9.5380046e-06, 3.8843538e-15, 4.9531832e-03, ..., 1.4446202e-06,\n",
       "        1.2500817e-07, 2.2345599e-05]], dtype=float32)"
      ]
     },
     "execution_count": 21,
     "metadata": {},
     "output_type": "execute_result"
    }
   ],
   "source": [
    "pred1 = model1.predict(X_test)\n",
    "pred1"
   ]
  },
  {
   "cell_type": "code",
   "execution_count": 22,
   "id": "3b95612d",
   "metadata": {},
   "outputs": [
    {
     "data": {
      "text/plain": [
       "array([17,  6, 11, ..., 16, 14,  6], dtype=int64)"
      ]
     },
     "execution_count": 22,
     "metadata": {},
     "output_type": "execute_result"
    }
   ],
   "source": [
    "predict1 = []\n",
    "for i in range(pred1.shape[0]):\n",
    "    predict1.append(pred1[i].argmax())\n",
    "predict1 = np.array(predict1)\n",
    "predict1"
   ]
  },
  {
   "cell_type": "code",
   "execution_count": 23,
   "id": "42cef86c",
   "metadata": {},
   "outputs": [
    {
     "name": "stdout",
     "output_type": "stream",
     "text": [
      "Here is the classification report:\n",
      "              precision    recall  f1-score   support\n",
      "\n",
      "           0       0.77      0.75      0.76       213\n",
      "           1       0.90      0.84      0.87        85\n",
      "           2       0.95      0.96      0.96     21038\n",
      "           3       0.83      0.91      0.86       151\n",
      "           4       0.87      0.83      0.85       451\n",
      "           5       0.94      0.95      0.94      7010\n",
      "           6       0.98      0.98      0.98     49294\n",
      "           7       0.99      0.99      0.99     19608\n",
      "           8       0.99      0.99      0.99     37485\n",
      "           9       0.92      0.93      0.92      2172\n",
      "          10       0.98      0.97      0.97      2076\n",
      "          11       0.98      0.98      0.98      8028\n",
      "          12       0.94      0.92      0.93      5687\n",
      "          13       0.89      0.86      0.87      3540\n",
      "          14       0.91      0.92      0.91       593\n",
      "          15       0.97      0.97      0.97      9322\n",
      "          16       0.96      0.98      0.97      7218\n",
      "          17       0.95      0.96      0.96      5950\n",
      "          18       0.97      0.98      0.98     20079\n",
      "\n",
      "    accuracy                           0.97    200000\n",
      "   macro avg       0.93      0.93      0.93    200000\n",
      "weighted avg       0.97      0.97      0.97    200000\n",
      "\n"
     ]
    }
   ],
   "source": [
    "print ('Here is the classification report:')\n",
    "print (classification_report(y_test, predict1))"
   ]
  },
  {
   "cell_type": "markdown",
   "id": "b2ae65f4",
   "metadata": {},
   "source": [
    "# 모델개발용 데이터 예측 (digit_1)"
   ]
  },
  {
   "cell_type": "code",
   "execution_count": 24,
   "id": "cbff843e",
   "metadata": {},
   "outputs": [
    {
     "name": "stderr",
     "output_type": "stream",
     "text": [
      "2022-04-13 03:25:02,723 - root - INFO - 모델개발용 자료 digit_1 예측\n"
     ]
    }
   ],
   "source": [
    "logging.info('모델개발용 자료 digit_1 예측')"
   ]
  },
  {
   "cell_type": "code",
   "execution_count": 25,
   "id": "5d318894",
   "metadata": {},
   "outputs": [
    {
     "data": {
      "text/plain": [
       "array([[2.7055127e-17, 1.2330838e-30, 1.1963772e-06, ..., 1.7763506e-09,\n",
       "        2.4055899e-09, 2.0344249e-10],\n",
       "       [3.8351571e-09, 5.0636559e-23, 1.4673577e-04, ..., 1.0049971e-09,\n",
       "        1.4671987e-09, 5.0718063e-07],\n",
       "       [1.5753430e-12, 2.8529792e-24, 6.4361379e-06, ..., 1.2847735e-04,\n",
       "        4.8474963e-06, 9.9981493e-01],\n",
       "       ...,\n",
       "       [1.4143646e-07, 6.1266792e-19, 2.1509189e-04, ..., 3.7780251e-07,\n",
       "        9.2971635e-07, 1.6625205e-05],\n",
       "       [3.9354620e-07, 2.7546263e-16, 1.3227590e-06, ..., 1.3239908e-03,\n",
       "        7.8114200e-01, 1.0548651e-02],\n",
       "       [6.5728287e-08, 1.5419269e-16, 1.7324975e-05, ..., 5.2463741e-07,\n",
       "        2.7765286e-06, 2.8492982e-04]], dtype=float32)"
      ]
     },
     "execution_count": 25,
     "metadata": {},
     "output_type": "execute_result"
    }
   ],
   "source": [
    "digit1_pred = model1.predict(test_data)\n",
    "digit1_pred"
   ]
  },
  {
   "cell_type": "code",
   "execution_count": 26,
   "id": "07fe8cc7",
   "metadata": {},
   "outputs": [
    {
     "data": {
      "text/plain": [
       "array([ 8,  6, 18, ...,  6, 17, 11], dtype=int64)"
      ]
     },
     "execution_count": 26,
     "metadata": {},
     "output_type": "execute_result"
    }
   ],
   "source": [
    "digit1_predict = []\n",
    "for i in range(digit1_pred.shape[0]):\n",
    "    digit1_predict.append(digit1_pred[i].argmax())\n",
    "digit1_predict = np.array(digit1_predict)\n",
    "digit1_predict"
   ]
  },
  {
   "cell_type": "code",
   "execution_count": 27,
   "id": "b88cf75b",
   "metadata": {},
   "outputs": [
    {
     "data": {
      "text/plain": [
       "array(['I', 'G', 'S', ..., 'G', 'R', 'L'], dtype=object)"
      ]
     },
     "execution_count": 27,
     "metadata": {},
     "output_type": "execute_result"
    }
   ],
   "source": [
    "digit1_predict = encoder1.inverse_transform(digit1_predict)\n",
    "digit1_predict"
   ]
  },
  {
   "cell_type": "markdown",
   "id": "125bdcd1",
   "metadata": {},
   "source": [
    "# Attention 학습 (digit_2)"
   ]
  },
  {
   "cell_type": "code",
   "execution_count": 28,
   "id": "e8ccdf8b",
   "metadata": {},
   "outputs": [
    {
     "name": "stderr",
     "output_type": "stream",
     "text": [
      "2022-04-13 03:25:09,682 - root - INFO - digit_2 학습\n"
     ]
    }
   ],
   "source": [
    "logging.info('digit_2 학습')"
   ]
  },
  {
   "cell_type": "code",
   "execution_count": 29,
   "id": "1ff599dd",
   "metadata": {},
   "outputs": [],
   "source": [
    "target2 = train['digit_2']\n",
    "# digit_2에 1개만 가지고 있는 카테고리 존재하므로 stratify=target2하면 에러 발생\n",
    "X_train, X_test, y_train, y_test = train_test_split(train_data, target2, test_size=0.2, shuffle=True)"
   ]
  },
  {
   "cell_type": "code",
   "execution_count": 30,
   "id": "371044b5",
   "metadata": {},
   "outputs": [],
   "source": [
    "embedding_dim = 128  # 각 단어의 임베딩 벡터의 차원\n",
    "num_heads = 2  # 어텐션 헤드의 수\n",
    "dff = 128  # 포지션 와이즈 피드 포워드 신경망의 은닉층의 크기\n",
    "vocab_size = 10760# sentencepiece와 동일\n",
    "max_len = 21 # 텍스트 최대 길이는 21\n",
    "\n",
    "inputs = tf.keras.layers.Input(shape=(max_len,))\n",
    "embedding_layer = TokenAndPositionEmbedding(max_len, vocab_size, embedding_dim)\n",
    "x = embedding_layer(inputs)\n",
    "transformer_block = TransformerBlock(embedding_dim, num_heads, dff)\n",
    "x = transformer_block(x)\n",
    "x = tf.keras.layers.GlobalAveragePooling1D()(x)\n",
    "x = tf.keras.layers.Dropout(0.1)(x)\n",
    "x = tf.keras.layers.Dense(20, activation=\"relu\")(x)\n",
    "x = tf.keras.layers.Dropout(0.1)(x)\n",
    "outputs = tf.keras.layers.Dense(74, activation=\"softmax\")(x) # digit_2 74개 카테고리\n",
    "\n",
    "model2 = tf.keras.Model(inputs=inputs, outputs=outputs)"
   ]
  },
  {
   "cell_type": "code",
   "execution_count": 31,
   "id": "684f91ad",
   "metadata": {},
   "outputs": [],
   "source": [
    "# earlystopping은 위에 정의되었으므로 checkpoint만 정의\n",
    "mc2 = ModelCheckpoint('best_model2.h5', monitor='val_accuracy', mode = 'auto', verbose=1, save_best_only=True)"
   ]
  },
  {
   "cell_type": "code",
   "execution_count": 32,
   "id": "70ae729b",
   "metadata": {},
   "outputs": [
    {
     "name": "stdout",
     "output_type": "stream",
     "text": [
      "Epoch 1/10\n",
      "20000/20000 [==============================] - 286s 14ms/step - loss: 0.4044 - accuracy: 0.8988 - val_loss: 0.2709 - val_accuracy: 0.9269\n",
      "\n",
      "Epoch 00001: val_accuracy improved from -inf to 0.92686, saving model to best_model2.h5\n",
      "Epoch 2/10\n",
      "20000/20000 [==============================] - 286s 14ms/step - loss: 0.2825 - accuracy: 0.9262 - val_loss: 0.2523 - val_accuracy: 0.9316\n",
      "\n",
      "Epoch 00002: val_accuracy improved from 0.92686 to 0.93158, saving model to best_model2.h5\n",
      "Epoch 3/10\n",
      "20000/20000 [==============================] - 285s 14ms/step - loss: 0.2545 - accuracy: 0.9323 - val_loss: 0.2427 - val_accuracy: 0.9338\n",
      "\n",
      "Epoch 00003: val_accuracy improved from 0.93158 to 0.93378, saving model to best_model2.h5\n",
      "Epoch 4/10\n",
      "20000/20000 [==============================] - 285s 14ms/step - loss: 0.2384 - accuracy: 0.9363 - val_loss: 0.2430 - val_accuracy: 0.9364\n",
      "\n",
      "Epoch 00004: val_accuracy improved from 0.93378 to 0.93641, saving model to best_model2.h5\n",
      "Epoch 5/10\n",
      "20000/20000 [==============================] - 285s 14ms/step - loss: 0.2274 - accuracy: 0.9389 - val_loss: 0.2362 - val_accuracy: 0.9377\n",
      "\n",
      "Epoch 00005: val_accuracy improved from 0.93641 to 0.93774, saving model to best_model2.h5\n",
      "Epoch 6/10\n",
      "20000/20000 [==============================] - 286s 14ms/step - loss: 0.2191 - accuracy: 0.9414 - val_loss: 0.2444 - val_accuracy: 0.9374\n",
      "\n",
      "Epoch 00006: val_accuracy did not improve from 0.93774\n",
      "Epoch 7/10\n",
      "20000/20000 [==============================] - 285s 14ms/step - loss: 0.2131 - accuracy: 0.9424 - val_loss: 0.2409 - val_accuracy: 0.9378\n",
      "\n",
      "Epoch 00007: val_accuracy improved from 0.93774 to 0.93784, saving model to best_model2.h5\n",
      "Epoch 8/10\n",
      "20000/20000 [==============================] - 285s 14ms/step - loss: 0.2073 - accuracy: 0.9436 - val_loss: 0.2387 - val_accuracy: 0.9380\n",
      "\n",
      "Epoch 00008: val_accuracy improved from 0.93784 to 0.93796, saving model to best_model2.h5\n",
      "Epoch 9/10\n",
      "20000/20000 [==============================] - 285s 14ms/step - loss: 0.2051 - accuracy: 0.9444 - val_loss: 0.2458 - val_accuracy: 0.9366\n",
      "\n",
      "Epoch 00009: val_accuracy did not improve from 0.93796\n",
      "Epoch 10/10\n",
      "20000/20000 [==============================] - 285s 14ms/step - loss: 0.2029 - accuracy: 0.9450 - val_loss: 0.2456 - val_accuracy: 0.9374\n",
      "\n",
      "Epoch 00010: val_accuracy did not improve from 0.93796\n"
     ]
    }
   ],
   "source": [
    "model2.compile(loss='sparse_categorical_crossentropy', optimizer='adam', metrics=['accuracy'])\n",
    "history2 = model2.fit(X_train, y_train, batch_size=32, epochs=10, callbacks=[es, mc2], validation_split=0.2)"
   ]
  },
  {
   "cell_type": "code",
   "execution_count": 33,
   "id": "4937e968",
   "metadata": {},
   "outputs": [
    {
     "name": "stdout",
     "output_type": "stream",
     "text": [
      "6250/6250 [==============================] - 21s 3ms/step - loss: 0.2487 - accuracy: 0.9369\n",
      "테스트 정확도: 0.9369\n"
     ]
    }
   ],
   "source": [
    "print(\"테스트 정확도: %.4f\" % (model2.evaluate(X_test, y_test)[1]))"
   ]
  },
  {
   "cell_type": "code",
   "execution_count": 34,
   "id": "013cd1c0",
   "metadata": {},
   "outputs": [
    {
     "data": {
      "text/plain": [
       "array([[8.0574332e-24, 1.0459219e-35, 2.6236847e-36, ..., 2.3963528e-18,\n",
       "        3.7517708e-11, 6.0947419e-12],\n",
       "       [1.1395154e-09, 3.1561897e-17, 2.4935400e-20, ..., 5.8731486e-09,\n",
       "        1.3013868e-06, 1.1577843e-06],\n",
       "       [2.5615198e-06, 3.5633482e-12, 9.2864583e-13, ..., 6.8958349e-07,\n",
       "        3.4945526e-05, 4.3379541e-06],\n",
       "       ...,\n",
       "       [8.0337458e-08, 3.2540022e-20, 1.0309625e-12, ..., 9.9039418e-08,\n",
       "        1.7358650e-07, 1.2801241e-10],\n",
       "       [7.4235774e-12, 6.7201246e-24, 5.3819610e-17, ..., 7.9964689e-12,\n",
       "        1.7829249e-10, 3.9351780e-09],\n",
       "       [1.1130115e-05, 1.7127410e-16, 1.3721958e-11, ..., 1.7990868e-06,\n",
       "        2.0121060e-09, 2.5641193e-06]], dtype=float32)"
      ]
     },
     "execution_count": 34,
     "metadata": {},
     "output_type": "execute_result"
    }
   ],
   "source": [
    "pred2 = model2.predict(X_test)\n",
    "pred2"
   ]
  },
  {
   "cell_type": "code",
   "execution_count": 35,
   "id": "d309b8cc",
   "metadata": {},
   "outputs": [
    {
     "data": {
      "text/plain": [
       "array([42, 41, 41, ..., 40, 47,  7], dtype=int64)"
      ]
     },
     "execution_count": 35,
     "metadata": {},
     "output_type": "execute_result"
    }
   ],
   "source": [
    "predict2 = []\n",
    "for i in range(pred2.shape[0]):\n",
    "    predict2.append(pred2[i].argmax())\n",
    "predict2 = np.array(predict2)\n",
    "predict2"
   ]
  },
  {
   "cell_type": "code",
   "execution_count": 36,
   "id": "853401fc",
   "metadata": {},
   "outputs": [
    {
     "name": "stdout",
     "output_type": "stream",
     "text": [
      "Here is the classification report:\n",
      "              precision    recall  f1-score   support\n",
      "\n",
      "           0       0.75      0.69      0.72       146\n",
      "           1       0.78      0.82      0.80        22\n",
      "           2       0.80      0.67      0.73        18\n",
      "           4       0.00      0.00      0.00         2\n",
      "           5       0.77      0.82      0.80        88\n",
      "           7       0.91      0.91      0.91      2896\n",
      "           8       0.77      0.62      0.68        81\n",
      "          10       0.85      0.81      0.83      1060\n",
      "          11       0.87      0.92      0.89      1082\n",
      "          12       0.88      0.78      0.83       265\n",
      "          13       0.66      0.79      0.72       316\n",
      "          14       0.82      0.78      0.80       370\n",
      "          15       0.89      0.88      0.89       815\n",
      "          16       0.67      0.40      0.50        20\n",
      "          17       0.72      0.60      0.66       657\n",
      "          18       0.57      0.16      0.25        83\n",
      "          19       0.68      0.76      0.71      1193\n",
      "          20       0.82      0.81      0.82       569\n",
      "          21       0.65      0.37      0.47       444\n",
      "          22       0.74      0.71      0.72      3451\n",
      "          23       0.69      0.63      0.66       699\n",
      "          24       0.63      0.66      0.64       673\n",
      "          25       0.70      0.69      0.69      1064\n",
      "          26       0.59      0.74      0.66      2455\n",
      "          27       0.62      0.42      0.50       553\n",
      "          28       0.68      0.47      0.56       211\n",
      "          29       0.89      0.78      0.83       621\n",
      "          30       0.78      0.73      0.76       893\n",
      "          31       0.83      0.86      0.84       682\n",
      "          32       0.87      0.88      0.88       160\n",
      "          33       0.90      0.82      0.86        33\n",
      "          34       0.81      0.79      0.80        90\n",
      "          35       0.82      0.88      0.85       326\n",
      "          36       1.00      0.33      0.50         6\n",
      "          37       0.87      0.79      0.82      1440\n",
      "          38       0.91      0.91      0.91      5615\n",
      "          39       0.92      0.95      0.94      1541\n",
      "          40       0.93      0.91      0.92     15360\n",
      "          41       0.94      0.97      0.95     32108\n",
      "          42       0.99      1.00      0.99     18011\n",
      "          43       0.88      0.81      0.85        64\n",
      "          44       0.33      0.50      0.40         6\n",
      "          45       0.95      0.90      0.92      1459\n",
      "          46       0.99      0.99      0.99      2811\n",
      "          47       0.99      0.99      0.99     34766\n",
      "          48       0.84      0.90      0.87      1057\n",
      "          49       0.87      0.83      0.85       328\n",
      "          50       0.92      0.50      0.65        44\n",
      "          51       0.91      0.85      0.88       217\n",
      "          52       0.81      0.58      0.67       399\n",
      "          53       0.79      0.66      0.72       176\n",
      "          54       0.94      0.96      0.95      1040\n",
      "          55       0.87      0.85      0.86       360\n",
      "          56       0.89      0.81      0.85       650\n",
      "          57       0.98      0.98      0.98      7952\n",
      "          58       0.80      0.90      0.85       366\n",
      "          59       0.92      0.92      0.92      2776\n",
      "          60       0.89      0.94      0.91      1491\n",
      "          61       0.91      0.91      0.91      1106\n",
      "          62       0.83      0.87      0.85       597\n",
      "          63       0.89      0.85      0.87      2177\n",
      "          64       0.87      0.90      0.88       897\n",
      "          65       0.90      0.90      0.90       604\n",
      "          66       0.97      0.97      0.97      9277\n",
      "          67       0.99      0.97      0.98      3648\n",
      "          68       0.94      0.96      0.95      3665\n",
      "          69       0.91      0.88      0.90       956\n",
      "          70       0.95      0.97      0.96      4992\n",
      "          71       0.96      0.95      0.95      4827\n",
      "          72       0.96      0.95      0.95      4033\n",
      "          73       0.99      0.99      0.99     11140\n",
      "\n",
      "    accuracy                           0.94    200000\n",
      "   macro avg       0.83      0.78      0.80    200000\n",
      "weighted avg       0.94      0.94      0.94    200000\n",
      "\n"
     ]
    },
    {
     "name": "stderr",
     "output_type": "stream",
     "text": [
      "C:\\Users\\user\\anaconda3\\lib\\site-packages\\sklearn\\metrics\\_classification.py:1248: UndefinedMetricWarning: Precision and F-score are ill-defined and being set to 0.0 in labels with no predicted samples. Use `zero_division` parameter to control this behavior.\n",
      "  _warn_prf(average, modifier, msg_start, len(result))\n",
      "C:\\Users\\user\\anaconda3\\lib\\site-packages\\sklearn\\metrics\\_classification.py:1248: UndefinedMetricWarning: Precision and F-score are ill-defined and being set to 0.0 in labels with no predicted samples. Use `zero_division` parameter to control this behavior.\n",
      "  _warn_prf(average, modifier, msg_start, len(result))\n",
      "C:\\Users\\user\\anaconda3\\lib\\site-packages\\sklearn\\metrics\\_classification.py:1248: UndefinedMetricWarning: Precision and F-score are ill-defined and being set to 0.0 in labels with no predicted samples. Use `zero_division` parameter to control this behavior.\n",
      "  _warn_prf(average, modifier, msg_start, len(result))\n"
     ]
    }
   ],
   "source": [
    "print ('Here is the classification report:')\n",
    "print (classification_report(y_test, predict2))"
   ]
  },
  {
   "cell_type": "markdown",
   "id": "13372b62",
   "metadata": {},
   "source": [
    "# 모델개발용 데이터 예측 (digit_2)"
   ]
  },
  {
   "cell_type": "code",
   "execution_count": 37,
   "id": "d9ce4373",
   "metadata": {},
   "outputs": [
    {
     "name": "stderr",
     "output_type": "stream",
     "text": [
      "2022-04-13 04:13:18,696 - root - INFO - 모델개발용 자료 digit_2 예측\n"
     ]
    }
   ],
   "source": [
    "logging.info('모델개발용 자료 digit_2 예측')"
   ]
  },
  {
   "cell_type": "code",
   "execution_count": 38,
   "id": "7aaa4038",
   "metadata": {},
   "outputs": [
    {
     "data": {
      "text/plain": [
       "array([[6.44739817e-12, 9.83577892e-27, 6.82150167e-18, ...,\n",
       "        2.50037231e-12, 9.66002712e-12, 1.10629936e-10],\n",
       "       [4.82672213e-08, 1.31892915e-18, 8.15208914e-16, ...,\n",
       "        1.35204319e-08, 6.00098602e-08, 6.82187806e-10],\n",
       "       [1.91612894e-08, 4.37279053e-19, 1.86410827e-14, ...,\n",
       "        9.99920487e-01, 1.67164527e-14, 6.89315243e-07],\n",
       "       ...,\n",
       "       [4.49446702e-10, 6.98911700e-18, 8.07844963e-22, ...,\n",
       "        1.62120473e-09, 3.24203342e-07, 7.65308926e-07],\n",
       "       [6.88958959e-11, 7.63807293e-08, 1.30734490e-17, ...,\n",
       "        3.07126157e-03, 3.06107015e-11, 6.35455654e-04],\n",
       "       [4.66152182e-13, 1.14733694e-15, 6.95590031e-23, ...,\n",
       "        1.96713845e-05, 3.24795940e-10, 7.49731726e-08]], dtype=float32)"
      ]
     },
     "execution_count": 38,
     "metadata": {},
     "output_type": "execute_result"
    }
   ],
   "source": [
    "digit2_pred = model2.predict(test_data)\n",
    "digit2_pred"
   ]
  },
  {
   "cell_type": "code",
   "execution_count": 39,
   "id": "1a6e5b59",
   "metadata": {},
   "outputs": [
    {
     "data": {
      "text/plain": [
       "array([47, 40, 71, ..., 41, 69, 57], dtype=int64)"
      ]
     },
     "execution_count": 39,
     "metadata": {},
     "output_type": "execute_result"
    }
   ],
   "source": [
    "digit2_predict = []\n",
    "for i in range(digit2_pred.shape[0]):\n",
    "    digit2_predict.append(digit2_pred[i].argmax())\n",
    "digit2_predict = np.array(digit2_predict)\n",
    "digit2_predict"
   ]
  },
  {
   "cell_type": "code",
   "execution_count": 40,
   "id": "fb715919",
   "metadata": {},
   "outputs": [
    {
     "data": {
      "text/plain": [
       "array([56., 46., 94., ..., 47., 90., 68.])"
      ]
     },
     "execution_count": 40,
     "metadata": {},
     "output_type": "execute_result"
    }
   ],
   "source": [
    "digit2_predict = encoder2.inverse_transform(digit2_predict)\n",
    "digit2_predict"
   ]
  },
  {
   "cell_type": "markdown",
   "id": "f05fb4c8",
   "metadata": {},
   "source": [
    "# Attention 학습 (digit_3)"
   ]
  },
  {
   "cell_type": "code",
   "execution_count": 41,
   "id": "5cb78f00",
   "metadata": {},
   "outputs": [
    {
     "name": "stderr",
     "output_type": "stream",
     "text": [
      "2022-04-13 04:13:25,449 - root - INFO - digit_3 학습\n"
     ]
    }
   ],
   "source": [
    "logging.info('digit_3 학습')"
   ]
  },
  {
   "cell_type": "code",
   "execution_count": 42,
   "id": "85a1631e",
   "metadata": {},
   "outputs": [],
   "source": [
    "target3 = train['digit_3']\n",
    "# digit_3에 1개만 가지고 있는 카테고리 존재하므로 stratify=target3하면 에러 발생\n",
    "X_train, X_test, y_train, y_test = train_test_split(train_data, target3, test_size=0.2, shuffle=True)"
   ]
  },
  {
   "cell_type": "code",
   "execution_count": 43,
   "id": "9aa7c215",
   "metadata": {},
   "outputs": [],
   "source": [
    "embedding_dim = 128  # 각 단어의 임베딩 벡터의 차원\n",
    "num_heads = 2  # 어텐션 헤드의 수\n",
    "dff = 128  # 포지션 와이즈 피드 포워드 신경망의 은닉층의 크기\n",
    "vocab_size = 10760# sentencepiece와 동일\n",
    "max_len = 21 # 텍스트 최대 길이는 21\n",
    "\n",
    "inputs = tf.keras.layers.Input(shape=(max_len,))\n",
    "embedding_layer = TokenAndPositionEmbedding(max_len, vocab_size, embedding_dim)\n",
    "x = embedding_layer(inputs)\n",
    "transformer_block = TransformerBlock(embedding_dim, num_heads, dff)\n",
    "x = transformer_block(x)\n",
    "x = tf.keras.layers.GlobalAveragePooling1D()(x)\n",
    "x = tf.keras.layers.Dropout(0.1)(x)\n",
    "x = tf.keras.layers.Dense(20, activation=\"relu\")(x)\n",
    "x = tf.keras.layers.Dropout(0.1)(x)\n",
    "outputs = tf.keras.layers.Dense(225, activation=\"softmax\")(x) # digit_3 225개 카테고리\n",
    "\n",
    "model3 = tf.keras.Model(inputs=inputs, outputs=outputs)"
   ]
  },
  {
   "cell_type": "code",
   "execution_count": 44,
   "id": "90c2ef9c",
   "metadata": {},
   "outputs": [],
   "source": [
    "# earlystopping은 위에 정의되었으므로 checkpoint만 정의\n",
    "mc3 = ModelCheckpoint('best_model3.h5', monitor='val_accuracy', mode = 'auto', verbose=1, save_best_only=True)"
   ]
  },
  {
   "cell_type": "code",
   "execution_count": 45,
   "id": "4eede754",
   "metadata": {},
   "outputs": [
    {
     "name": "stdout",
     "output_type": "stream",
     "text": [
      "Epoch 1/10\n",
      "20000/20000 [==============================] - 281s 14ms/step - loss: 0.6882 - accuracy: 0.8374 - val_loss: 0.4336 - val_accuracy: 0.8902\n",
      "\n",
      "Epoch 00001: val_accuracy improved from -inf to 0.89018, saving model to best_model3.h5\n",
      "Epoch 2/10\n",
      "20000/20000 [==============================] - 281s 14ms/step - loss: 0.4764 - accuracy: 0.8821 - val_loss: 0.4078 - val_accuracy: 0.8987\n",
      "\n",
      "Epoch 00002: val_accuracy improved from 0.89018 to 0.89866, saving model to best_model3.h5\n",
      "Epoch 3/10\n",
      "20000/20000 [==============================] - 280s 14ms/step - loss: 0.4322 - accuracy: 0.8926 - val_loss: 0.3877 - val_accuracy: 0.9031\n",
      "\n",
      "Epoch 00003: val_accuracy improved from 0.89866 to 0.90307, saving model to best_model3.h5\n",
      "Epoch 4/10\n",
      "20000/20000 [==============================] - 280s 14ms/step - loss: 0.4074 - accuracy: 0.8983 - val_loss: 0.3805 - val_accuracy: 0.9052\n",
      "\n",
      "Epoch 00004: val_accuracy improved from 0.90307 to 0.90520, saving model to best_model3.h5\n",
      "Epoch 5/10\n",
      "20000/20000 [==============================] - 280s 14ms/step - loss: 0.3889 - accuracy: 0.9024 - val_loss: 0.3825 - val_accuracy: 0.9053\n",
      "\n",
      "Epoch 00005: val_accuracy improved from 0.90520 to 0.90527, saving model to best_model3.h5\n",
      "Epoch 6/10\n",
      "20000/20000 [==============================] - 280s 14ms/step - loss: 0.3766 - accuracy: 0.9049 - val_loss: 0.3822 - val_accuracy: 0.9059\n",
      "\n",
      "Epoch 00006: val_accuracy improved from 0.90527 to 0.90591, saving model to best_model3.h5\n",
      "Epoch 7/10\n",
      "20000/20000 [==============================] - 279s 14ms/step - loss: 0.3668 - accuracy: 0.9070 - val_loss: 0.3838 - val_accuracy: 0.9068\n",
      "\n",
      "Epoch 00007: val_accuracy improved from 0.90591 to 0.90682, saving model to best_model3.h5\n",
      "Epoch 8/10\n",
      "20000/20000 [==============================] - 281s 14ms/step - loss: 0.3592 - accuracy: 0.9088 - val_loss: 0.3802 - val_accuracy: 0.9073\n",
      "\n",
      "Epoch 00008: val_accuracy improved from 0.90682 to 0.90726, saving model to best_model3.h5\n",
      "Epoch 9/10\n",
      "20000/20000 [==============================] - 280s 14ms/step - loss: 0.3531 - accuracy: 0.9105 - val_loss: 0.3884 - val_accuracy: 0.9071\n",
      "\n",
      "Epoch 00009: val_accuracy did not improve from 0.90726\n",
      "Epoch 10/10\n",
      "20000/20000 [==============================] - 281s 14ms/step - loss: 0.3483 - accuracy: 0.9113 - val_loss: 0.3809 - val_accuracy: 0.9078\n",
      "\n",
      "Epoch 00010: val_accuracy improved from 0.90726 to 0.90776, saving model to best_model3.h5\n"
     ]
    }
   ],
   "source": [
    "model3.compile(loss='sparse_categorical_crossentropy', optimizer='adam', metrics=['accuracy'])\n",
    "history3 = model3.fit(X_train, y_train, batch_size=32, epochs=10, callbacks=[es, mc3], validation_split=0.2)"
   ]
  },
  {
   "cell_type": "code",
   "execution_count": 46,
   "id": "1f5fb62b",
   "metadata": {},
   "outputs": [
    {
     "name": "stdout",
     "output_type": "stream",
     "text": [
      "6250/6250 [==============================] - 21s 3ms/step - loss: 0.3796 - accuracy: 0.9082\n",
      "테스트 정확도: 0.9082\n"
     ]
    }
   ],
   "source": [
    "print(\"테스트 정확도: %.4f\" % (model3.evaluate(X_test, y_test)[1]))"
   ]
  },
  {
   "cell_type": "code",
   "execution_count": 47,
   "id": "ed8fdcb3",
   "metadata": {},
   "outputs": [
    {
     "data": {
      "text/plain": [
       "array([[8.5577856e-18, 2.1199641e-24, 2.6724954e-16, ..., 1.1623575e-10,\n",
       "        6.0267655e-07, 2.0534596e-08],\n",
       "       [5.4744869e-21, 6.7136738e-29, 2.4174795e-17, ..., 1.9860389e-18,\n",
       "        9.2810850e-13, 7.3175160e-10],\n",
       "       [4.4705647e-26, 2.0512989e-34, 1.9087159e-23, ..., 1.5414659e-18,\n",
       "        9.9999988e-01, 4.8726982e-09],\n",
       "       ...,\n",
       "       [7.5610559e-12, 3.2844449e-13, 1.8069662e-11, ..., 3.9933337e-04,\n",
       "        5.7626945e-05, 7.8125631e-05],\n",
       "       [1.2891334e-09, 4.1403347e-18, 1.7705743e-08, ..., 7.3475235e-08,\n",
       "        9.6909480e-06, 8.1492288e-07],\n",
       "       [6.0042566e-20, 2.2408139e-19, 8.6936173e-21, ..., 8.3587710e-13,\n",
       "        2.2902345e-10, 4.7995630e-09]], dtype=float32)"
      ]
     },
     "execution_count": 47,
     "metadata": {},
     "output_type": "execute_result"
    }
   ],
   "source": [
    "pred3 = model3.predict(X_test)\n",
    "pred3"
   ]
  },
  {
   "cell_type": "code",
   "execution_count": 48,
   "id": "441d6fa2",
   "metadata": {},
   "outputs": [
    {
     "data": {
      "text/plain": [
       "array([114, 204, 223, ..., 216, 200, 147], dtype=int64)"
      ]
     },
     "execution_count": 48,
     "metadata": {},
     "output_type": "execute_result"
    }
   ],
   "source": [
    "predict3 = []\n",
    "for i in range(pred3.shape[0]):\n",
    "    predict3.append(pred3[i].argmax())\n",
    "predict3 = np.array(predict3)\n",
    "predict3"
   ]
  },
  {
   "cell_type": "code",
   "execution_count": 49,
   "id": "3b53603a",
   "metadata": {},
   "outputs": [
    {
     "name": "stdout",
     "output_type": "stream",
     "text": [
      "Here is the classification report:\n"
     ]
    },
    {
     "name": "stderr",
     "output_type": "stream",
     "text": [
      "C:\\Users\\user\\anaconda3\\lib\\site-packages\\sklearn\\metrics\\_classification.py:1248: UndefinedMetricWarning: Precision and F-score are ill-defined and being set to 0.0 in labels with no predicted samples. Use `zero_division` parameter to control this behavior.\n",
      "  _warn_prf(average, modifier, msg_start, len(result))\n",
      "C:\\Users\\user\\anaconda3\\lib\\site-packages\\sklearn\\metrics\\_classification.py:1248: UndefinedMetricWarning: Precision and F-score are ill-defined and being set to 0.0 in labels with no predicted samples. Use `zero_division` parameter to control this behavior.\n",
      "  _warn_prf(average, modifier, msg_start, len(result))\n"
     ]
    },
    {
     "name": "stdout",
     "output_type": "stream",
     "text": [
      "              precision    recall  f1-score   support\n",
      "\n",
      "           0       0.65      0.63      0.64        81\n",
      "           1       0.95      0.73      0.82        51\n",
      "           2       0.73      0.30      0.42        37\n",
      "           3       0.73      0.65      0.69        17\n",
      "           4       0.00      0.00      0.00         3\n",
      "           5       0.89      0.64      0.74        25\n",
      "           6       0.00      0.00      0.00         1\n",
      "           8       0.00      0.00      0.00         2\n",
      "           9       0.69      0.71      0.70        35\n",
      "          10       0.96      0.90      0.93        52\n",
      "          11       0.00      0.00      0.00         2\n",
      "          12       0.82      0.69      0.75       147\n",
      "          13       0.86      0.84      0.85       215\n",
      "          14       0.67      0.63      0.65       231\n",
      "          15       0.91      0.85      0.88       172\n",
      "          16       0.67      0.11      0.18        19\n",
      "          17       0.80      0.75      0.77       279\n",
      "          18       0.84      0.91      0.87      1917\n",
      "          19       0.79      0.81      0.80        59\n",
      "          20       0.79      0.64      0.71        47\n",
      "          21       0.50      0.23      0.32        26\n",
      "          23       0.70      0.60      0.64        95\n",
      "          24       0.74      0.79      0.77       565\n",
      "          25       0.56      0.61      0.58        41\n",
      "          26       0.79      0.62      0.70       199\n",
      "          27       0.55      0.43      0.48       169\n",
      "          28       0.79      0.93      0.85       809\n",
      "          29       0.69      0.75      0.72        12\n",
      "          30       0.86      0.48      0.62        52\n",
      "          31       0.85      0.56      0.67       118\n",
      "          32       0.80      0.79      0.79       160\n",
      "          33       0.87      0.66      0.75       110\n",
      "          34       0.75      0.43      0.55        63\n",
      "          35       0.66      0.68      0.67       280\n",
      "          36       0.00      0.00      0.00         8\n",
      "          37       0.00      0.00      0.00        47\n",
      "          38       0.85      0.80      0.82       216\n",
      "          39       0.52      0.57      0.54       120\n",
      "          40       0.87      0.90      0.89       829\n",
      "          41       1.00      0.25      0.40         8\n",
      "          42       1.00      0.33      0.50         3\n",
      "          43       0.58      0.37      0.45        19\n",
      "          44       0.44      0.23      0.31        77\n",
      "          45       0.51      0.53      0.52       114\n",
      "          46       0.74      0.74      0.74        68\n",
      "          47       0.48      0.66      0.55       312\n",
      "          48       0.00      0.00      0.00        12\n",
      "          49       0.00      0.00      0.00        10\n",
      "          50       0.38      0.26      0.31        31\n",
      "          51       0.00      0.00      0.00        31\n",
      "          52       0.64      0.72      0.67       177\n",
      "          53       0.65      0.77      0.71       984\n",
      "          54       0.75      0.68      0.71        91\n",
      "          55       0.76      0.66      0.70       141\n",
      "          56       0.87      0.81      0.84       167\n",
      "          57       0.70      0.74      0.72       206\n",
      "          58       0.69      0.38      0.49       254\n",
      "          59       0.54      0.33      0.41       102\n",
      "          60       0.69      0.51      0.59        81\n",
      "          61       0.68      0.72      0.70       849\n",
      "          62       0.00      0.00      0.00         8\n",
      "          63       0.62      0.79      0.70      2538\n",
      "          64       0.47      0.36      0.41        76\n",
      "          65       0.62      0.57      0.59       327\n",
      "          66       0.66      0.40      0.50        67\n",
      "          67       0.50      0.46      0.48       122\n",
      "          68       0.60      0.29      0.39        42\n",
      "          69       0.00      0.00      0.00         1\n",
      "          70       0.79      0.70      0.74       293\n",
      "          71       0.58      0.38      0.46       304\n",
      "          72       0.60      0.41      0.49        29\n",
      "          73       0.89      0.73      0.80        11\n",
      "          74       0.67      0.72      0.69       559\n",
      "          75       0.45      0.25      0.32        20\n",
      "          76       0.69      0.67      0.68        87\n",
      "          77       0.76      0.74      0.75       259\n",
      "          78       0.31      0.14      0.19       109\n",
      "          79       0.67      0.08      0.14        75\n",
      "          80       0.62      0.54      0.58       979\n",
      "          81       0.58      0.63      0.60      1441\n",
      "          82       0.00      0.00      0.00         5\n",
      "          83       0.73      0.43      0.54        70\n",
      "          84       0.48      0.37      0.42       474\n",
      "          85       0.00      0.00      0.00         4\n",
      "          86       0.70      0.72      0.71       138\n",
      "          87       0.43      0.15      0.22        20\n",
      "          88       0.53      0.36      0.43        22\n",
      "          89       1.00      0.10      0.17        21\n",
      "          90       0.77      0.82      0.80       627\n",
      "          91       0.83      0.63      0.72       117\n",
      "          92       0.75      0.17      0.27        18\n",
      "          93       0.68      0.54      0.60        70\n",
      "          94       0.71      0.63      0.67        46\n",
      "          95       0.76      0.77      0.76       689\n",
      "          96       0.86      0.88      0.87       665\n",
      "          97       0.90      0.94      0.92       127\n",
      "          98       1.00      0.10      0.18        20\n",
      "          99       0.60      0.75      0.67         4\n",
      "         100       0.69      0.77      0.73        31\n",
      "         101       0.76      0.91      0.83        80\n",
      "         102       0.76      0.89      0.82       126\n",
      "         103       0.80      0.51      0.63        70\n",
      "         104       0.70      0.57      0.63        99\n",
      "         105       0.50      0.50      0.50         4\n",
      "         106       0.90      0.85      0.88       771\n",
      "         107       0.67      0.75      0.71       623\n",
      "         108       0.81      0.77      0.79       942\n",
      "         109       0.84      0.86      0.85      1122\n",
      "         110       0.90      0.95      0.92       861\n",
      "         111       0.91      0.92      0.92      2183\n",
      "         112       0.74      0.24      0.37       115\n",
      "         113       0.86      0.69      0.77       324\n",
      "         114       0.97      0.97      0.97       437\n",
      "         115       0.93      0.88      0.91       928\n",
      "         116       0.89      0.78      0.83        86\n",
      "         117       0.84      0.69      0.76       487\n",
      "         118       0.84      0.69      0.76       523\n",
      "         119       0.90      0.90      0.90      3570\n",
      "         120       0.81      0.80      0.80      3699\n",
      "         121       0.85      0.82      0.84      2917\n",
      "         122       0.83      0.81      0.82      1630\n",
      "         123       0.86      0.83      0.85      2481\n",
      "         124       0.72      0.53      0.61       146\n",
      "         125       0.95      0.95      0.95      5097\n",
      "         126       0.89      0.89      0.89      5130\n",
      "         127       0.91      0.91      0.91      1856\n",
      "         128       0.94      0.96      0.95      7329\n",
      "         129       0.86      0.86      0.86      2734\n",
      "         130       0.91      0.85      0.88      1425\n",
      "         131       0.97      0.98      0.97       863\n",
      "         132       0.91      0.92      0.92      6124\n",
      "         133       0.87      0.92      0.90      1878\n",
      "         134       0.57      0.89      0.70         9\n",
      "         135       1.00      1.00      1.00      7779\n",
      "         136       0.99      0.99      0.99      9921\n",
      "         137       0.94      0.94      0.94       433\n",
      "         138       0.00      0.00      0.00         1\n",
      "         139       0.79      0.66      0.72        58\n",
      "         140       0.00      0.00      0.00         6\n",
      "         141       1.00      0.50      0.67         4\n",
      "         142       0.00      0.00      0.00         1\n",
      "         143       0.90      0.89      0.90       314\n",
      "         144       0.94      0.89      0.92      1180\n",
      "         145       0.98      0.99      0.99      2522\n",
      "         146       0.97      0.90      0.93       269\n",
      "         147       0.98      0.98      0.98     24817\n",
      "         148       0.97      0.97      0.97     10017\n",
      "         149       0.86      0.85      0.86       306\n",
      "         150       0.87      0.82      0.84       765\n",
      "         151       0.79      0.85      0.82       239\n",
      "         152       0.75      0.58      0.66        36\n",
      "         153       1.00      0.67      0.80         3\n",
      "         154       0.66      0.64      0.65        33\n",
      "         155       0.98      0.98      0.98       141\n",
      "         156       0.79      0.54      0.64        61\n",
      "         157       0.63      0.71      0.67       385\n",
      "         158       0.57      0.54      0.55       103\n",
      "         159       0.63      0.49      0.55        75\n",
      "         160       0.97      0.98      0.98       827\n",
      "         161       0.70      0.77      0.73        30\n",
      "         162       0.82      0.85      0.83       211\n",
      "         163       0.87      0.89      0.88       333\n",
      "         164       0.00      0.00      0.00         1\n",
      "         165       0.81      0.71      0.76        31\n",
      "         166       0.86      0.76      0.81       244\n",
      "         167       0.91      0.89      0.90       389\n",
      "         168       0.89      0.93      0.91      1349\n",
      "         169       0.98      0.98      0.98      6621\n",
      "         170       0.81      0.77      0.79       313\n",
      "         171       0.63      0.63      0.63       101\n",
      "         172       0.97      0.97      0.97       802\n",
      "         173       0.99      0.98      0.99       631\n",
      "         174       0.85      0.89      0.87       599\n",
      "         175       0.87      0.68      0.76        19\n",
      "         176       0.86      0.85      0.85       662\n",
      "         177       0.80      0.42      0.55        19\n",
      "         178       0.92      0.90      0.91      1068\n",
      "         179       0.73      0.80      0.76       332\n",
      "         180       0.99      0.95      0.97       190\n",
      "         181       0.86      0.82      0.84       377\n",
      "         182       0.97      0.94      0.96       472\n",
      "         183       0.81      0.76      0.79       113\n",
      "         184       0.67      0.71      0.69       157\n",
      "         185       0.93      0.87      0.90       331\n",
      "         186       0.75      0.42      0.54        50\n",
      "         187       0.95      0.95      0.95       718\n",
      "         188       0.96      0.96      0.96       517\n",
      "         189       0.78      0.74      0.76        96\n",
      "         190       0.74      0.67      0.70       731\n",
      "         191       0.92      0.90      0.91       176\n",
      "         192       0.81      0.82      0.82       381\n",
      "         193       0.70      0.82      0.75       285\n",
      "         194       0.00      0.00      0.00         2\n",
      "         195       0.82      0.94      0.88       246\n",
      "         196       0.76      0.54      0.63        98\n",
      "         197       0.00      0.00      0.00         1\n",
      "         198       0.95      0.95      0.95       243\n",
      "         199       0.33      0.20      0.25         5\n",
      "         200       0.99      0.98      0.99       727\n",
      "         201       0.92      0.98      0.95       243\n",
      "         202       0.94      0.91      0.93        69\n",
      "         203       0.64      0.41      0.50        17\n",
      "         204       0.92      0.93      0.93      3300\n",
      "         205       0.88      0.90      0.89      4572\n",
      "         206       0.77      0.62      0.69       176\n",
      "         207       0.92      0.66      0.77       176\n",
      "         208       0.96      0.99      0.98      3027\n",
      "         209       0.97      0.95      0.96       200\n",
      "         210       0.66      0.71      0.68       251\n",
      "         211       0.92      0.84      0.88       424\n",
      "         212       0.90      0.96      0.93      3123\n",
      "         213       0.72      0.75      0.74       285\n",
      "         214       0.92      0.93      0.92       625\n",
      "         215       0.95      0.93      0.94      2012\n",
      "         216       0.94      0.98      0.96      3123\n",
      "         217       0.81      0.40      0.53       327\n",
      "         218       0.84      0.86      0.85        88\n",
      "         219       0.94      0.95      0.94      4313\n",
      "         220       0.89      0.91      0.90       288\n",
      "         221       0.97      0.98      0.97      2453\n",
      "         222       0.93      0.93      0.93      1373\n",
      "         223       0.99      0.99      0.99      8674\n",
      "         224       0.96      0.97      0.96      2662\n",
      "\n",
      "    accuracy                           0.91    200000\n",
      "   macro avg       0.72      0.65      0.67    200000\n",
      "weighted avg       0.91      0.91      0.91    200000\n",
      "\n"
     ]
    },
    {
     "name": "stderr",
     "output_type": "stream",
     "text": [
      "C:\\Users\\user\\anaconda3\\lib\\site-packages\\sklearn\\metrics\\_classification.py:1248: UndefinedMetricWarning: Precision and F-score are ill-defined and being set to 0.0 in labels with no predicted samples. Use `zero_division` parameter to control this behavior.\n",
      "  _warn_prf(average, modifier, msg_start, len(result))\n"
     ]
    }
   ],
   "source": [
    "print ('Here is the classification report:')\n",
    "print (classification_report(y_test, predict3))"
   ]
  },
  {
   "cell_type": "markdown",
   "id": "ec614811",
   "metadata": {},
   "source": [
    "# 모델개발용 데이터 예측 (digit_3)"
   ]
  },
  {
   "cell_type": "code",
   "execution_count": 50,
   "id": "59c1d48f",
   "metadata": {},
   "outputs": [
    {
     "name": "stderr",
     "output_type": "stream",
     "text": [
      "2022-04-13 05:00:45,593 - root - INFO - 모델개발용 자료 digit_3 예측\n"
     ]
    }
   ],
   "source": [
    "logging.info('모델개발용 자료 digit_3 예측')"
   ]
  },
  {
   "cell_type": "code",
   "execution_count": 51,
   "id": "c5d012c4",
   "metadata": {},
   "outputs": [
    {
     "data": {
      "text/plain": [
       "array([[6.2563634e-17, 1.9609120e-15, 3.0460039e-17, ..., 4.3088935e-11,\n",
       "        3.1479285e-08, 1.2519715e-07],\n",
       "       [1.5971837e-16, 2.0712687e-21, 5.5032541e-18, ..., 7.8964729e-10,\n",
       "        1.1279634e-09, 1.6028427e-11],\n",
       "       [6.3551639e-22, 2.7224877e-23, 4.8309474e-18, ..., 2.7037105e-14,\n",
       "        5.0249679e-12, 1.7237244e-06],\n",
       "       ...,\n",
       "       [2.4316460e-10, 3.9914166e-12, 1.2786231e-11, ..., 3.9645296e-05,\n",
       "        1.6685601e-05, 3.3624217e-04],\n",
       "       [6.9839100e-13, 4.3458348e-11, 2.4206608e-09, ..., 1.7648704e-08,\n",
       "        5.3350999e-07, 7.0620104e-07],\n",
       "       [2.3349277e-11, 1.3090670e-14, 2.5812559e-09, ..., 5.2324722e-09,\n",
       "        9.3080160e-10, 1.6271955e-05]], dtype=float32)"
      ]
     },
     "execution_count": 51,
     "metadata": {},
     "output_type": "execute_result"
    }
   ],
   "source": [
    "digit3_pred = model3.predict(test_data)\n",
    "digit3_pred"
   ]
  },
  {
   "cell_type": "code",
   "execution_count": 52,
   "id": "6628625f",
   "metadata": {},
   "outputs": [
    {
     "data": {
      "text/plain": [
       "array([147, 122, 219, ..., 132, 214, 169], dtype=int64)"
      ]
     },
     "execution_count": 52,
     "metadata": {},
     "output_type": "execute_result"
    }
   ],
   "source": [
    "digit3_predict = []\n",
    "for i in range(digit3_pred.shape[0]):\n",
    "    digit3_predict.append(digit3_pred[i].argmax())\n",
    "digit3_predict = np.array(digit3_predict)\n",
    "digit3_predict"
   ]
  },
  {
   "cell_type": "code",
   "execution_count": 53,
   "id": "8168dbb8",
   "metadata": {},
   "outputs": [
    {
     "data": {
      "text/plain": [
       "array([561., 466., 949., ..., 478., 902., 682.])"
      ]
     },
     "execution_count": 53,
     "metadata": {},
     "output_type": "execute_result"
    }
   ],
   "source": [
    "digit3_predict = encoder3.inverse_transform(digit3_predict)\n",
    "digit3_predict"
   ]
  },
  {
   "cell_type": "markdown",
   "id": "81cedaa7",
   "metadata": {},
   "source": [
    "# 답안 작성용 파일"
   ]
  },
  {
   "cell_type": "code",
   "execution_count": 54,
   "id": "88dd371e",
   "metadata": {},
   "outputs": [
    {
     "data": {
      "text/html": [
       "<div>\n",
       "<style scoped>\n",
       "    .dataframe tbody tr th:only-of-type {\n",
       "        vertical-align: middle;\n",
       "    }\n",
       "\n",
       "    .dataframe tbody tr th {\n",
       "        vertical-align: top;\n",
       "    }\n",
       "\n",
       "    .dataframe thead th {\n",
       "        text-align: right;\n",
       "    }\n",
       "</style>\n",
       "<table border=\"1\" class=\"dataframe\">\n",
       "  <thead>\n",
       "    <tr style=\"text-align: right;\">\n",
       "      <th></th>\n",
       "      <th>AI_id</th>\n",
       "      <th>digit_1</th>\n",
       "      <th>digit_2</th>\n",
       "      <th>digit_3</th>\n",
       "      <th>text_obj</th>\n",
       "      <th>text_mthd</th>\n",
       "      <th>text_deal</th>\n",
       "    </tr>\n",
       "  </thead>\n",
       "  <tbody>\n",
       "    <tr>\n",
       "      <th>0</th>\n",
       "      <td>id_000001</td>\n",
       "      <td>NaN</td>\n",
       "      <td>NaN</td>\n",
       "      <td>NaN</td>\n",
       "      <td>치킨전문점에서</td>\n",
       "      <td>고객의주문에의해</td>\n",
       "      <td>치킨판매</td>\n",
       "    </tr>\n",
       "    <tr>\n",
       "      <th>1</th>\n",
       "      <td>id_000002</td>\n",
       "      <td>NaN</td>\n",
       "      <td>NaN</td>\n",
       "      <td>NaN</td>\n",
       "      <td>산업공구</td>\n",
       "      <td>다른 소매업자에게</td>\n",
       "      <td>철물 수공구</td>\n",
       "    </tr>\n",
       "    <tr>\n",
       "      <th>2</th>\n",
       "      <td>id_000003</td>\n",
       "      <td>NaN</td>\n",
       "      <td>NaN</td>\n",
       "      <td>NaN</td>\n",
       "      <td>절에서</td>\n",
       "      <td>신도을 대상으로</td>\n",
       "      <td>불교단체운영</td>\n",
       "    </tr>\n",
       "    <tr>\n",
       "      <th>3</th>\n",
       "      <td>id_000004</td>\n",
       "      <td>NaN</td>\n",
       "      <td>NaN</td>\n",
       "      <td>NaN</td>\n",
       "      <td>영업장에서</td>\n",
       "      <td>고객요구로</td>\n",
       "      <td>자동차튜닝</td>\n",
       "    </tr>\n",
       "    <tr>\n",
       "      <th>4</th>\n",
       "      <td>id_000005</td>\n",
       "      <td>NaN</td>\n",
       "      <td>NaN</td>\n",
       "      <td>NaN</td>\n",
       "      <td>실내포장마차에서</td>\n",
       "      <td>접객시설을 갖추고</td>\n",
       "      <td>소주,맥주제공</td>\n",
       "    </tr>\n",
       "    <tr>\n",
       "      <th>...</th>\n",
       "      <td>...</td>\n",
       "      <td>...</td>\n",
       "      <td>...</td>\n",
       "      <td>...</td>\n",
       "      <td>...</td>\n",
       "      <td>...</td>\n",
       "      <td>...</td>\n",
       "    </tr>\n",
       "    <tr>\n",
       "      <th>99995</th>\n",
       "      <td>id_099996</td>\n",
       "      <td>NaN</td>\n",
       "      <td>NaN</td>\n",
       "      <td>NaN</td>\n",
       "      <td>사업장에서</td>\n",
       "      <td>일반인대상으로</td>\n",
       "      <td>버섯농장</td>\n",
       "    </tr>\n",
       "    <tr>\n",
       "      <th>99996</th>\n",
       "      <td>id_099997</td>\n",
       "      <td>NaN</td>\n",
       "      <td>NaN</td>\n",
       "      <td>NaN</td>\n",
       "      <td>한의원에서</td>\n",
       "      <td>외래환자위주고</td>\n",
       "      <td>치료</td>\n",
       "    </tr>\n",
       "    <tr>\n",
       "      <th>99997</th>\n",
       "      <td>id_099998</td>\n",
       "      <td>NaN</td>\n",
       "      <td>NaN</td>\n",
       "      <td>NaN</td>\n",
       "      <td>일반점포에서</td>\n",
       "      <td>소비자에게</td>\n",
       "      <td>그림판매</td>\n",
       "    </tr>\n",
       "    <tr>\n",
       "      <th>99998</th>\n",
       "      <td>id_099999</td>\n",
       "      <td>NaN</td>\n",
       "      <td>NaN</td>\n",
       "      <td>NaN</td>\n",
       "      <td>사업장에서</td>\n",
       "      <td>일반인.학생대상으로</td>\n",
       "      <td>학습공간제공</td>\n",
       "    </tr>\n",
       "    <tr>\n",
       "      <th>99999</th>\n",
       "      <td>id_100000</td>\n",
       "      <td>NaN</td>\n",
       "      <td>NaN</td>\n",
       "      <td>NaN</td>\n",
       "      <td>사업장에서</td>\n",
       "      <td>대리현대아파트를</td>\n",
       "      <td>관리</td>\n",
       "    </tr>\n",
       "  </tbody>\n",
       "</table>\n",
       "<p>100000 rows × 7 columns</p>\n",
       "</div>"
      ],
      "text/plain": [
       "           AI_id  digit_1  digit_2  digit_3  text_obj   text_mthd text_deal\n",
       "0      id_000001      NaN      NaN      NaN   치킨전문점에서    고객의주문에의해      치킨판매\n",
       "1      id_000002      NaN      NaN      NaN      산업공구   다른 소매업자에게    철물 수공구\n",
       "2      id_000003      NaN      NaN      NaN       절에서    신도을 대상으로    불교단체운영\n",
       "3      id_000004      NaN      NaN      NaN     영업장에서       고객요구로     자동차튜닝\n",
       "4      id_000005      NaN      NaN      NaN  실내포장마차에서   접객시설을 갖추고   소주,맥주제공\n",
       "...          ...      ...      ...      ...       ...         ...       ...\n",
       "99995  id_099996      NaN      NaN      NaN     사업장에서     일반인대상으로      버섯농장\n",
       "99996  id_099997      NaN      NaN      NaN     한의원에서     외래환자위주고        치료\n",
       "99997  id_099998      NaN      NaN      NaN    일반점포에서       소비자에게      그림판매\n",
       "99998  id_099999      NaN      NaN      NaN     사업장에서  일반인.학생대상으로    학습공간제공\n",
       "99999  id_100000      NaN      NaN      NaN     사업장에서    대리현대아파트를        관리\n",
       "\n",
       "[100000 rows x 7 columns]"
      ]
     },
     "execution_count": 54,
     "metadata": {},
     "output_type": "execute_result"
    }
   ],
   "source": [
    "submission = pd.read_csv('../답안 작성용 파일.csv', encoding='cp949')\n",
    "submission"
   ]
  },
  {
   "cell_type": "code",
   "execution_count": 55,
   "id": "d494b236",
   "metadata": {},
   "outputs": [],
   "source": [
    "submission['digit_1'] = digit1_predict\n",
    "submission['digit_2'] = digit2_predict\n",
    "submission['digit_3'] = digit3_predict"
   ]
  },
  {
   "cell_type": "code",
   "execution_count": 56,
   "id": "3c774d0d",
   "metadata": {},
   "outputs": [
    {
     "data": {
      "text/html": [
       "<div>\n",
       "<style scoped>\n",
       "    .dataframe tbody tr th:only-of-type {\n",
       "        vertical-align: middle;\n",
       "    }\n",
       "\n",
       "    .dataframe tbody tr th {\n",
       "        vertical-align: top;\n",
       "    }\n",
       "\n",
       "    .dataframe thead th {\n",
       "        text-align: right;\n",
       "    }\n",
       "</style>\n",
       "<table border=\"1\" class=\"dataframe\">\n",
       "  <thead>\n",
       "    <tr style=\"text-align: right;\">\n",
       "      <th></th>\n",
       "      <th>AI_id</th>\n",
       "      <th>digit_1</th>\n",
       "      <th>digit_2</th>\n",
       "      <th>digit_3</th>\n",
       "      <th>text_obj</th>\n",
       "      <th>text_mthd</th>\n",
       "      <th>text_deal</th>\n",
       "    </tr>\n",
       "  </thead>\n",
       "  <tbody>\n",
       "    <tr>\n",
       "      <th>0</th>\n",
       "      <td>id_000001</td>\n",
       "      <td>I</td>\n",
       "      <td>56.0</td>\n",
       "      <td>561.0</td>\n",
       "      <td>치킨전문점에서</td>\n",
       "      <td>고객의주문에의해</td>\n",
       "      <td>치킨판매</td>\n",
       "    </tr>\n",
       "    <tr>\n",
       "      <th>1</th>\n",
       "      <td>id_000002</td>\n",
       "      <td>G</td>\n",
       "      <td>46.0</td>\n",
       "      <td>466.0</td>\n",
       "      <td>산업공구</td>\n",
       "      <td>다른 소매업자에게</td>\n",
       "      <td>철물 수공구</td>\n",
       "    </tr>\n",
       "    <tr>\n",
       "      <th>2</th>\n",
       "      <td>id_000003</td>\n",
       "      <td>S</td>\n",
       "      <td>94.0</td>\n",
       "      <td>949.0</td>\n",
       "      <td>절에서</td>\n",
       "      <td>신도을 대상으로</td>\n",
       "      <td>불교단체운영</td>\n",
       "    </tr>\n",
       "    <tr>\n",
       "      <th>3</th>\n",
       "      <td>id_000004</td>\n",
       "      <td>G</td>\n",
       "      <td>95.0</td>\n",
       "      <td>952.0</td>\n",
       "      <td>영업장에서</td>\n",
       "      <td>고객요구로</td>\n",
       "      <td>자동차튜닝</td>\n",
       "    </tr>\n",
       "    <tr>\n",
       "      <th>4</th>\n",
       "      <td>id_000005</td>\n",
       "      <td>I</td>\n",
       "      <td>56.0</td>\n",
       "      <td>562.0</td>\n",
       "      <td>실내포장마차에서</td>\n",
       "      <td>접객시설을 갖추고</td>\n",
       "      <td>소주,맥주제공</td>\n",
       "    </tr>\n",
       "    <tr>\n",
       "      <th>...</th>\n",
       "      <td>...</td>\n",
       "      <td>...</td>\n",
       "      <td>...</td>\n",
       "      <td>...</td>\n",
       "      <td>...</td>\n",
       "      <td>...</td>\n",
       "      <td>...</td>\n",
       "    </tr>\n",
       "    <tr>\n",
       "      <th>99995</th>\n",
       "      <td>id_099996</td>\n",
       "      <td>G</td>\n",
       "      <td>47.0</td>\n",
       "      <td>472.0</td>\n",
       "      <td>사업장에서</td>\n",
       "      <td>일반인대상으로</td>\n",
       "      <td>버섯농장</td>\n",
       "    </tr>\n",
       "    <tr>\n",
       "      <th>99996</th>\n",
       "      <td>id_099997</td>\n",
       "      <td>Q</td>\n",
       "      <td>86.0</td>\n",
       "      <td>862.0</td>\n",
       "      <td>한의원에서</td>\n",
       "      <td>외래환자위주고</td>\n",
       "      <td>치료</td>\n",
       "    </tr>\n",
       "    <tr>\n",
       "      <th>99997</th>\n",
       "      <td>id_099998</td>\n",
       "      <td>G</td>\n",
       "      <td>47.0</td>\n",
       "      <td>478.0</td>\n",
       "      <td>일반점포에서</td>\n",
       "      <td>소비자에게</td>\n",
       "      <td>그림판매</td>\n",
       "    </tr>\n",
       "    <tr>\n",
       "      <th>99998</th>\n",
       "      <td>id_099999</td>\n",
       "      <td>R</td>\n",
       "      <td>90.0</td>\n",
       "      <td>902.0</td>\n",
       "      <td>사업장에서</td>\n",
       "      <td>일반인.학생대상으로</td>\n",
       "      <td>학습공간제공</td>\n",
       "    </tr>\n",
       "    <tr>\n",
       "      <th>99999</th>\n",
       "      <td>id_100000</td>\n",
       "      <td>L</td>\n",
       "      <td>68.0</td>\n",
       "      <td>682.0</td>\n",
       "      <td>사업장에서</td>\n",
       "      <td>대리현대아파트를</td>\n",
       "      <td>관리</td>\n",
       "    </tr>\n",
       "  </tbody>\n",
       "</table>\n",
       "<p>100000 rows × 7 columns</p>\n",
       "</div>"
      ],
      "text/plain": [
       "           AI_id digit_1  digit_2  digit_3  text_obj   text_mthd text_deal\n",
       "0      id_000001       I     56.0    561.0   치킨전문점에서    고객의주문에의해      치킨판매\n",
       "1      id_000002       G     46.0    466.0      산업공구   다른 소매업자에게    철물 수공구\n",
       "2      id_000003       S     94.0    949.0       절에서    신도을 대상으로    불교단체운영\n",
       "3      id_000004       G     95.0    952.0     영업장에서       고객요구로     자동차튜닝\n",
       "4      id_000005       I     56.0    562.0  실내포장마차에서   접객시설을 갖추고   소주,맥주제공\n",
       "...          ...     ...      ...      ...       ...         ...       ...\n",
       "99995  id_099996       G     47.0    472.0     사업장에서     일반인대상으로      버섯농장\n",
       "99996  id_099997       Q     86.0    862.0     한의원에서     외래환자위주고        치료\n",
       "99997  id_099998       G     47.0    478.0    일반점포에서       소비자에게      그림판매\n",
       "99998  id_099999       R     90.0    902.0     사업장에서  일반인.학생대상으로    학습공간제공\n",
       "99999  id_100000       L     68.0    682.0     사업장에서    대리현대아파트를        관리\n",
       "\n",
       "[100000 rows x 7 columns]"
      ]
     },
     "execution_count": 56,
     "metadata": {},
     "output_type": "execute_result"
    }
   ],
   "source": [
    "submission"
   ]
  },
  {
   "cell_type": "code",
   "execution_count": 57,
   "id": "10e99414",
   "metadata": {},
   "outputs": [],
   "source": [
    "submission.to_csv('답안 작성용 파일(attention).csv', index=False, encoding='utf-8-sig')"
   ]
  },
  {
   "cell_type": "code",
   "execution_count": null,
   "id": "ced1a000",
   "metadata": {},
   "outputs": [],
   "source": []
  }
 ],
 "metadata": {
  "kernelspec": {
   "display_name": "Python 3",
   "language": "python",
   "name": "python3"
  },
  "language_info": {
   "codemirror_mode": {
    "name": "ipython",
    "version": 3
   },
   "file_extension": ".py",
   "mimetype": "text/x-python",
   "name": "python",
   "nbconvert_exporter": "python",
   "pygments_lexer": "ipython3",
   "version": "3.8.8"
  }
 },
 "nbformat": 4,
 "nbformat_minor": 5
}
