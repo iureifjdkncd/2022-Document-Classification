{
 "cells": [
  {
   "cell_type": "code",
   "execution_count": 1,
   "id": "ecc0cf5b",
   "metadata": {},
   "outputs": [],
   "source": [
    "import pandas as pd\n",
    "import numpy as np "
   ]
  },
  {
   "cell_type": "markdown",
   "id": "b717228d",
   "metadata": {},
   "source": [
    "### 실습용자료 "
   ]
  },
  {
   "cell_type": "markdown",
   "id": "4941281a",
   "metadata": {},
   "source": [
    "#### 1. txt파일 csv로 변환 "
   ]
  },
  {
   "cell_type": "code",
   "execution_count": 2,
   "id": "f6a9231d",
   "metadata": {},
   "outputs": [],
   "source": [
    "file = pd.read_csv('문서분류/실습용자료.txt', sep = \"\\t\", encoding = \"cp949\")\n",
    "new_csv_file = file.to_csv('문서분류/실습용자료.csv',encoding = \"cp949\")"
   ]
  },
  {
   "cell_type": "markdown",
   "id": "64ce25a9",
   "metadata": {},
   "source": [
    "#### 2. 열 구분 재정렬 "
   ]
  },
  {
   "cell_type": "code",
   "execution_count": 3,
   "id": "5f3ab370",
   "metadata": {
    "scrolled": true
   },
   "outputs": [
    {
     "name": "stdout",
     "output_type": "stream",
     "text": [
      "문서 개수 1000000 개\n"
     ]
    },
    {
     "data": {
      "text/html": [
       "<div>\n",
       "<style scoped>\n",
       "    .dataframe tbody tr th:only-of-type {\n",
       "        vertical-align: middle;\n",
       "    }\n",
       "\n",
       "    .dataframe tbody tr th {\n",
       "        vertical-align: top;\n",
       "    }\n",
       "\n",
       "    .dataframe thead th {\n",
       "        text-align: right;\n",
       "    }\n",
       "</style>\n",
       "<table border=\"1\" class=\"dataframe\">\n",
       "  <thead>\n",
       "    <tr style=\"text-align: right;\">\n",
       "      <th></th>\n",
       "      <th>AI_id|digit_1|digit_2|digit_3|text_obj|text_mthd|text_deal</th>\n",
       "    </tr>\n",
       "  </thead>\n",
       "  <tbody>\n",
       "    <tr>\n",
       "      <th>0</th>\n",
       "      <td>id_0000001|S|95|952|카센터에서|자동차부분정비|타이어오일교환</td>\n",
       "    </tr>\n",
       "    <tr>\n",
       "      <th>1</th>\n",
       "      <td>id_0000002|G|47|472|상점내에서|일반인을 대상으로|채소.과일판매</td>\n",
       "    </tr>\n",
       "    <tr>\n",
       "      <th>2</th>\n",
       "      <td>id_0000003|G|46|467|절단하여사업체에도매|공업용고무를가지고|합성고무도매</td>\n",
       "    </tr>\n",
       "    <tr>\n",
       "      <th>3</th>\n",
       "      <td>id_0000004|G|47|475|영업점에서|일반소비자에게|열쇠잠금장치</td>\n",
       "    </tr>\n",
       "    <tr>\n",
       "      <th>4</th>\n",
       "      <td>id_0000005|Q|87|872|어린이집|보호자의 위탁을 받아|취학전아동보육</td>\n",
       "    </tr>\n",
       "  </tbody>\n",
       "</table>\n",
       "</div>"
      ],
      "text/plain": [
       "  AI_id|digit_1|digit_2|digit_3|text_obj|text_mthd|text_deal\n",
       "0          id_0000001|S|95|952|카센터에서|자동차부분정비|타이어오일교환        \n",
       "1        id_0000002|G|47|472|상점내에서|일반인을 대상으로|채소.과일판매        \n",
       "2    id_0000003|G|46|467|절단하여사업체에도매|공업용고무를가지고|합성고무도매        \n",
       "3           id_0000004|G|47|475|영업점에서|일반소비자에게|열쇠잠금장치        \n",
       "4       id_0000005|Q|87|872|어린이집|보호자의 위탁을 받아|취학전아동보육        "
      ]
     },
     "execution_count": 3,
     "metadata": {},
     "output_type": "execute_result"
    }
   ],
   "source": [
    "df1 = pd.read_csv('문서분류/실습용자료.csv', encoding = \"cp949\")\n",
    "df1 = df1.drop('Unnamed: 0',axis=1)\n",
    "print('문서 개수',len(df1),'개')\n",
    "df1.head()"
   ]
  },
  {
   "cell_type": "code",
   "execution_count": 4,
   "id": "856fd2f1",
   "metadata": {},
   "outputs": [
    {
     "data": {
      "text/plain": [
       "Index(['AI_id|digit_1|digit_2|digit_3|text_obj|text_mthd|text_deal'], dtype='object')"
      ]
     },
     "execution_count": 4,
     "metadata": {},
     "output_type": "execute_result"
    }
   ],
   "source": [
    "df1.columns"
   ]
  },
  {
   "cell_type": "code",
   "execution_count": 5,
   "id": "4d12ee16",
   "metadata": {},
   "outputs": [
    {
     "data": {
      "text/html": [
       "<div>\n",
       "<style scoped>\n",
       "    .dataframe tbody tr th:only-of-type {\n",
       "        vertical-align: middle;\n",
       "    }\n",
       "\n",
       "    .dataframe tbody tr th {\n",
       "        vertical-align: top;\n",
       "    }\n",
       "\n",
       "    .dataframe thead th {\n",
       "        text-align: right;\n",
       "    }\n",
       "</style>\n",
       "<table border=\"1\" class=\"dataframe\">\n",
       "  <thead>\n",
       "    <tr style=\"text-align: right;\">\n",
       "      <th></th>\n",
       "      <th>col</th>\n",
       "    </tr>\n",
       "  </thead>\n",
       "  <tbody>\n",
       "    <tr>\n",
       "      <th>0</th>\n",
       "      <td>id_0000001|S|95|952|카센터에서|자동차부분정비|타이어오일교환</td>\n",
       "    </tr>\n",
       "    <tr>\n",
       "      <th>1</th>\n",
       "      <td>id_0000002|G|47|472|상점내에서|일반인을 대상으로|채소.과일판매</td>\n",
       "    </tr>\n",
       "    <tr>\n",
       "      <th>2</th>\n",
       "      <td>id_0000003|G|46|467|절단하여사업체에도매|공업용고무를가지고|합성고무도매</td>\n",
       "    </tr>\n",
       "    <tr>\n",
       "      <th>3</th>\n",
       "      <td>id_0000004|G|47|475|영업점에서|일반소비자에게|열쇠잠금장치</td>\n",
       "    </tr>\n",
       "    <tr>\n",
       "      <th>4</th>\n",
       "      <td>id_0000005|Q|87|872|어린이집|보호자의 위탁을 받아|취학전아동보육</td>\n",
       "    </tr>\n",
       "  </tbody>\n",
       "</table>\n",
       "</div>"
      ],
      "text/plain": [
       "                                               col\n",
       "0        id_0000001|S|95|952|카센터에서|자동차부분정비|타이어오일교환\n",
       "1      id_0000002|G|47|472|상점내에서|일반인을 대상으로|채소.과일판매\n",
       "2  id_0000003|G|46|467|절단하여사업체에도매|공업용고무를가지고|합성고무도매\n",
       "3         id_0000004|G|47|475|영업점에서|일반소비자에게|열쇠잠금장치\n",
       "4     id_0000005|Q|87|872|어린이집|보호자의 위탁을 받아|취학전아동보육"
      ]
     },
     "execution_count": 5,
     "metadata": {},
     "output_type": "execute_result"
    }
   ],
   "source": [
    "df1 = df1.rename(columns={'AI_id|digit_1|digit_2|digit_3|text_obj|text_mthd|text_deal':'col'})\n",
    "df1.head()"
   ]
  },
  {
   "cell_type": "code",
   "execution_count": 6,
   "id": "db02eefe",
   "metadata": {},
   "outputs": [],
   "source": [
    "df1[['AI_id', 'digit_1', 'digit_2', 'digit_3','text_obj','text_mthd','text_deal']] = pd.DataFrame(df1.col.str.split('|', 6).tolist())"
   ]
  },
  {
   "cell_type": "code",
   "execution_count": 7,
   "id": "4c208880",
   "metadata": {
    "scrolled": true
   },
   "outputs": [
    {
     "data": {
      "text/plain": [
       "Index(['col', 'AI_id', 'digit_1', 'digit_2', 'digit_3', 'text_obj',\n",
       "       'text_mthd', 'text_deal'],\n",
       "      dtype='object')"
      ]
     },
     "execution_count": 7,
     "metadata": {},
     "output_type": "execute_result"
    }
   ],
   "source": [
    "df1.columns"
   ]
  },
  {
   "cell_type": "code",
   "execution_count": 8,
   "id": "c6f43a01",
   "metadata": {
    "scrolled": true
   },
   "outputs": [
    {
     "data": {
      "text/html": [
       "<div>\n",
       "<style scoped>\n",
       "    .dataframe tbody tr th:only-of-type {\n",
       "        vertical-align: middle;\n",
       "    }\n",
       "\n",
       "    .dataframe tbody tr th {\n",
       "        vertical-align: top;\n",
       "    }\n",
       "\n",
       "    .dataframe thead th {\n",
       "        text-align: right;\n",
       "    }\n",
       "</style>\n",
       "<table border=\"1\" class=\"dataframe\">\n",
       "  <thead>\n",
       "    <tr style=\"text-align: right;\">\n",
       "      <th></th>\n",
       "      <th>digit_1</th>\n",
       "      <th>digit_2</th>\n",
       "      <th>digit_3</th>\n",
       "      <th>text_obj</th>\n",
       "      <th>text_mthd</th>\n",
       "      <th>text_deal</th>\n",
       "    </tr>\n",
       "  </thead>\n",
       "  <tbody>\n",
       "    <tr>\n",
       "      <th>0</th>\n",
       "      <td>S</td>\n",
       "      <td>95</td>\n",
       "      <td>952</td>\n",
       "      <td>카센터에서</td>\n",
       "      <td>자동차부분정비</td>\n",
       "      <td>타이어오일교환</td>\n",
       "    </tr>\n",
       "    <tr>\n",
       "      <th>1</th>\n",
       "      <td>G</td>\n",
       "      <td>47</td>\n",
       "      <td>472</td>\n",
       "      <td>상점내에서</td>\n",
       "      <td>일반인을 대상으로</td>\n",
       "      <td>채소.과일판매</td>\n",
       "    </tr>\n",
       "    <tr>\n",
       "      <th>2</th>\n",
       "      <td>G</td>\n",
       "      <td>46</td>\n",
       "      <td>467</td>\n",
       "      <td>절단하여사업체에도매</td>\n",
       "      <td>공업용고무를가지고</td>\n",
       "      <td>합성고무도매</td>\n",
       "    </tr>\n",
       "    <tr>\n",
       "      <th>3</th>\n",
       "      <td>G</td>\n",
       "      <td>47</td>\n",
       "      <td>475</td>\n",
       "      <td>영업점에서</td>\n",
       "      <td>일반소비자에게</td>\n",
       "      <td>열쇠잠금장치</td>\n",
       "    </tr>\n",
       "    <tr>\n",
       "      <th>4</th>\n",
       "      <td>Q</td>\n",
       "      <td>87</td>\n",
       "      <td>872</td>\n",
       "      <td>어린이집</td>\n",
       "      <td>보호자의 위탁을 받아</td>\n",
       "      <td>취학전아동보육</td>\n",
       "    </tr>\n",
       "  </tbody>\n",
       "</table>\n",
       "</div>"
      ],
      "text/plain": [
       "  digit_1 digit_2 digit_3    text_obj    text_mthd text_deal\n",
       "0       S      95     952       카센터에서      자동차부분정비   타이어오일교환\n",
       "1       G      47     472       상점내에서    일반인을 대상으로   채소.과일판매\n",
       "2       G      46     467  절단하여사업체에도매    공업용고무를가지고    합성고무도매\n",
       "3       G      47     475       영업점에서      일반소비자에게    열쇠잠금장치\n",
       "4       Q      87     872        어린이집  보호자의 위탁을 받아   취학전아동보육"
      ]
     },
     "execution_count": 8,
     "metadata": {},
     "output_type": "execute_result"
    }
   ],
   "source": [
    "df1 = df1.drop(['col','AI_id'],axis=1)\n",
    "df1.head()"
   ]
  },
  {
   "cell_type": "markdown",
   "id": "8d22b757",
   "metadata": {},
   "source": [
    "#### 3. 텍스트 열 재통합"
   ]
  },
  {
   "cell_type": "code",
   "execution_count": 9,
   "id": "5ee3817b",
   "metadata": {},
   "outputs": [],
   "source": [
    "df1[\"Full Text\"] = df1[\"text_obj\"] + \" \" + df1[\"text_mthd\"] + \" \" + df1[\"text_deal\"]"
   ]
  },
  {
   "cell_type": "code",
   "execution_count": 10,
   "id": "7d43b3e9",
   "metadata": {
    "scrolled": true
   },
   "outputs": [
    {
     "data": {
      "text/html": [
       "<div>\n",
       "<style scoped>\n",
       "    .dataframe tbody tr th:only-of-type {\n",
       "        vertical-align: middle;\n",
       "    }\n",
       "\n",
       "    .dataframe tbody tr th {\n",
       "        vertical-align: top;\n",
       "    }\n",
       "\n",
       "    .dataframe thead th {\n",
       "        text-align: right;\n",
       "    }\n",
       "</style>\n",
       "<table border=\"1\" class=\"dataframe\">\n",
       "  <thead>\n",
       "    <tr style=\"text-align: right;\">\n",
       "      <th></th>\n",
       "      <th>digit_1</th>\n",
       "      <th>digit_2</th>\n",
       "      <th>digit_3</th>\n",
       "      <th>Full Text</th>\n",
       "    </tr>\n",
       "  </thead>\n",
       "  <tbody>\n",
       "    <tr>\n",
       "      <th>0</th>\n",
       "      <td>S</td>\n",
       "      <td>95</td>\n",
       "      <td>952</td>\n",
       "      <td>카센터에서 자동차부분정비 타이어오일교환</td>\n",
       "    </tr>\n",
       "    <tr>\n",
       "      <th>1</th>\n",
       "      <td>G</td>\n",
       "      <td>47</td>\n",
       "      <td>472</td>\n",
       "      <td>상점내에서 일반인을 대상으로 채소.과일판매</td>\n",
       "    </tr>\n",
       "    <tr>\n",
       "      <th>2</th>\n",
       "      <td>G</td>\n",
       "      <td>46</td>\n",
       "      <td>467</td>\n",
       "      <td>절단하여사업체에도매 공업용고무를가지고 합성고무도매</td>\n",
       "    </tr>\n",
       "    <tr>\n",
       "      <th>3</th>\n",
       "      <td>G</td>\n",
       "      <td>47</td>\n",
       "      <td>475</td>\n",
       "      <td>영업점에서 일반소비자에게 열쇠잠금장치</td>\n",
       "    </tr>\n",
       "    <tr>\n",
       "      <th>4</th>\n",
       "      <td>Q</td>\n",
       "      <td>87</td>\n",
       "      <td>872</td>\n",
       "      <td>어린이집 보호자의 위탁을 받아 취학전아동보육</td>\n",
       "    </tr>\n",
       "  </tbody>\n",
       "</table>\n",
       "</div>"
      ],
      "text/plain": [
       "  digit_1 digit_2 digit_3                    Full Text\n",
       "0       S      95     952        카센터에서 자동차부분정비 타이어오일교환\n",
       "1       G      47     472      상점내에서 일반인을 대상으로 채소.과일판매\n",
       "2       G      46     467  절단하여사업체에도매 공업용고무를가지고 합성고무도매\n",
       "3       G      47     475         영업점에서 일반소비자에게 열쇠잠금장치\n",
       "4       Q      87     872     어린이집 보호자의 위탁을 받아 취학전아동보육"
      ]
     },
     "execution_count": 10,
     "metadata": {},
     "output_type": "execute_result"
    }
   ],
   "source": [
    "df1 = df1.drop(['text_obj','text_mthd','text_deal'],axis=1)\n",
    "df1.head()"
   ]
  },
  {
   "cell_type": "markdown",
   "id": "570441e6",
   "metadata": {},
   "source": [
    "#### 4.파일 추출 "
   ]
  },
  {
   "cell_type": "code",
   "execution_count": 11,
   "id": "9c9a7197",
   "metadata": {},
   "outputs": [],
   "source": [
    "df1.to_csv('실습용.csv', encoding = \"cp949\",index=False)"
   ]
  },
  {
   "cell_type": "code",
   "execution_count": 12,
   "id": "fbe1029a",
   "metadata": {},
   "outputs": [],
   "source": [
    "data1 = pd.read_csv('실습용.csv', sep=',',encoding = \"cp949\")"
   ]
  },
  {
   "cell_type": "code",
   "execution_count": 13,
   "id": "b3b21dd7",
   "metadata": {
    "scrolled": true
   },
   "outputs": [
    {
     "data": {
      "text/html": [
       "<div>\n",
       "<style scoped>\n",
       "    .dataframe tbody tr th:only-of-type {\n",
       "        vertical-align: middle;\n",
       "    }\n",
       "\n",
       "    .dataframe tbody tr th {\n",
       "        vertical-align: top;\n",
       "    }\n",
       "\n",
       "    .dataframe thead th {\n",
       "        text-align: right;\n",
       "    }\n",
       "</style>\n",
       "<table border=\"1\" class=\"dataframe\">\n",
       "  <thead>\n",
       "    <tr style=\"text-align: right;\">\n",
       "      <th></th>\n",
       "      <th>digit_1</th>\n",
       "      <th>digit_2</th>\n",
       "      <th>digit_3</th>\n",
       "      <th>Full Text</th>\n",
       "    </tr>\n",
       "  </thead>\n",
       "  <tbody>\n",
       "    <tr>\n",
       "      <th>0</th>\n",
       "      <td>S</td>\n",
       "      <td>95</td>\n",
       "      <td>952</td>\n",
       "      <td>카센터에서 자동차부분정비 타이어오일교환</td>\n",
       "    </tr>\n",
       "    <tr>\n",
       "      <th>1</th>\n",
       "      <td>G</td>\n",
       "      <td>47</td>\n",
       "      <td>472</td>\n",
       "      <td>상점내에서 일반인을 대상으로 채소.과일판매</td>\n",
       "    </tr>\n",
       "    <tr>\n",
       "      <th>2</th>\n",
       "      <td>G</td>\n",
       "      <td>46</td>\n",
       "      <td>467</td>\n",
       "      <td>절단하여사업체에도매 공업용고무를가지고 합성고무도매</td>\n",
       "    </tr>\n",
       "    <tr>\n",
       "      <th>3</th>\n",
       "      <td>G</td>\n",
       "      <td>47</td>\n",
       "      <td>475</td>\n",
       "      <td>영업점에서 일반소비자에게 열쇠잠금장치</td>\n",
       "    </tr>\n",
       "    <tr>\n",
       "      <th>4</th>\n",
       "      <td>Q</td>\n",
       "      <td>87</td>\n",
       "      <td>872</td>\n",
       "      <td>어린이집 보호자의 위탁을 받아 취학전아동보육</td>\n",
       "    </tr>\n",
       "  </tbody>\n",
       "</table>\n",
       "</div>"
      ],
      "text/plain": [
       "  digit_1  digit_2  digit_3                    Full Text\n",
       "0       S       95      952        카센터에서 자동차부분정비 타이어오일교환\n",
       "1       G       47      472      상점내에서 일반인을 대상으로 채소.과일판매\n",
       "2       G       46      467  절단하여사업체에도매 공업용고무를가지고 합성고무도매\n",
       "3       G       47      475         영업점에서 일반소비자에게 열쇠잠금장치\n",
       "4       Q       87      872     어린이집 보호자의 위탁을 받아 취학전아동보육"
      ]
     },
     "execution_count": 13,
     "metadata": {},
     "output_type": "execute_result"
    }
   ],
   "source": [
    "data1.head()"
   ]
  },
  {
   "cell_type": "markdown",
   "id": "485b6c1f",
   "metadata": {},
   "source": [
    "### 모델개발용 자료"
   ]
  },
  {
   "cell_type": "markdown",
   "id": "0827fe84",
   "metadata": {},
   "source": [
    "#### 1. txt파일 csv로 변환 "
   ]
  },
  {
   "cell_type": "code",
   "execution_count": 14,
   "id": "be57d6ab",
   "metadata": {},
   "outputs": [],
   "source": [
    "file = pd.read_csv('문서분류/모델개발용자료.txt', sep = \"\\t\", encoding = \"cp949\")\n",
    "new_csv_file = file.to_csv('문서분류/모델개발용자료.csv',encoding = \"cp949\")"
   ]
  },
  {
   "cell_type": "markdown",
   "id": "b945c5ca",
   "metadata": {},
   "source": [
    "#### 2. 열 구분 재정렬 "
   ]
  },
  {
   "cell_type": "code",
   "execution_count": 15,
   "id": "38d5759c",
   "metadata": {
    "scrolled": false
   },
   "outputs": [
    {
     "name": "stdout",
     "output_type": "stream",
     "text": [
      "문서 개수 100000 개\n"
     ]
    },
    {
     "data": {
      "text/html": [
       "<div>\n",
       "<style scoped>\n",
       "    .dataframe tbody tr th:only-of-type {\n",
       "        vertical-align: middle;\n",
       "    }\n",
       "\n",
       "    .dataframe tbody tr th {\n",
       "        vertical-align: top;\n",
       "    }\n",
       "\n",
       "    .dataframe thead th {\n",
       "        text-align: right;\n",
       "    }\n",
       "</style>\n",
       "<table border=\"1\" class=\"dataframe\">\n",
       "  <thead>\n",
       "    <tr style=\"text-align: right;\">\n",
       "      <th></th>\n",
       "      <th>AI_id|digit_1|digit_2|digit_3|text_obj|text_mthd|text_deal</th>\n",
       "    </tr>\n",
       "  </thead>\n",
       "  <tbody>\n",
       "    <tr>\n",
       "      <th>0</th>\n",
       "      <td>id_000001||||치킨전문점에서|고객의주문에의해|치킨판매</td>\n",
       "    </tr>\n",
       "    <tr>\n",
       "      <th>1</th>\n",
       "      <td>id_000002||||산업공구|다른 소매업자에게|철물 수공구</td>\n",
       "    </tr>\n",
       "    <tr>\n",
       "      <th>2</th>\n",
       "      <td>id_000003||||절에서|신도을 대상으로|불교단체운영</td>\n",
       "    </tr>\n",
       "    <tr>\n",
       "      <th>3</th>\n",
       "      <td>id_000004||||영업장에서|고객요구로|자동차튜닝</td>\n",
       "    </tr>\n",
       "    <tr>\n",
       "      <th>4</th>\n",
       "      <td>id_000005||||실내포장마차에서|접객시설을 갖추고|소주,맥주제공</td>\n",
       "    </tr>\n",
       "  </tbody>\n",
       "</table>\n",
       "</div>"
      ],
      "text/plain": [
       "  AI_id|digit_1|digit_2|digit_3|text_obj|text_mthd|text_deal\n",
       "0                 id_000001||||치킨전문점에서|고객의주문에의해|치킨판매        \n",
       "1                 id_000002||||산업공구|다른 소매업자에게|철물 수공구        \n",
       "2                   id_000003||||절에서|신도을 대상으로|불교단체운영        \n",
       "3                     id_000004||||영업장에서|고객요구로|자동차튜닝        \n",
       "4            id_000005||||실내포장마차에서|접객시설을 갖추고|소주,맥주제공        "
      ]
     },
     "execution_count": 15,
     "metadata": {},
     "output_type": "execute_result"
    }
   ],
   "source": [
    "df2 = pd.read_csv('문서분류/모델개발용자료.csv', encoding = \"cp949\")\n",
    "df2 = df2.drop('Unnamed: 0',axis=1)\n",
    "print('문서 개수',len(df2),'개')\n",
    "df2.head()"
   ]
  },
  {
   "cell_type": "code",
   "execution_count": 16,
   "id": "f0c8add3",
   "metadata": {},
   "outputs": [
    {
     "data": {
      "text/plain": [
       "Index(['AI_id|digit_1|digit_2|digit_3|text_obj|text_mthd|text_deal'], dtype='object')"
      ]
     },
     "execution_count": 16,
     "metadata": {},
     "output_type": "execute_result"
    }
   ],
   "source": [
    "df2.columns"
   ]
  },
  {
   "cell_type": "code",
   "execution_count": 17,
   "id": "e8e56586",
   "metadata": {},
   "outputs": [
    {
     "data": {
      "text/html": [
       "<div>\n",
       "<style scoped>\n",
       "    .dataframe tbody tr th:only-of-type {\n",
       "        vertical-align: middle;\n",
       "    }\n",
       "\n",
       "    .dataframe tbody tr th {\n",
       "        vertical-align: top;\n",
       "    }\n",
       "\n",
       "    .dataframe thead th {\n",
       "        text-align: right;\n",
       "    }\n",
       "</style>\n",
       "<table border=\"1\" class=\"dataframe\">\n",
       "  <thead>\n",
       "    <tr style=\"text-align: right;\">\n",
       "      <th></th>\n",
       "      <th>col</th>\n",
       "    </tr>\n",
       "  </thead>\n",
       "  <tbody>\n",
       "    <tr>\n",
       "      <th>0</th>\n",
       "      <td>id_000001||||치킨전문점에서|고객의주문에의해|치킨판매</td>\n",
       "    </tr>\n",
       "    <tr>\n",
       "      <th>1</th>\n",
       "      <td>id_000002||||산업공구|다른 소매업자에게|철물 수공구</td>\n",
       "    </tr>\n",
       "    <tr>\n",
       "      <th>2</th>\n",
       "      <td>id_000003||||절에서|신도을 대상으로|불교단체운영</td>\n",
       "    </tr>\n",
       "    <tr>\n",
       "      <th>3</th>\n",
       "      <td>id_000004||||영업장에서|고객요구로|자동차튜닝</td>\n",
       "    </tr>\n",
       "    <tr>\n",
       "      <th>4</th>\n",
       "      <td>id_000005||||실내포장마차에서|접객시설을 갖추고|소주,맥주제공</td>\n",
       "    </tr>\n",
       "  </tbody>\n",
       "</table>\n",
       "</div>"
      ],
      "text/plain": [
       "                                       col\n",
       "0       id_000001||||치킨전문점에서|고객의주문에의해|치킨판매\n",
       "1       id_000002||||산업공구|다른 소매업자에게|철물 수공구\n",
       "2         id_000003||||절에서|신도을 대상으로|불교단체운영\n",
       "3           id_000004||||영업장에서|고객요구로|자동차튜닝\n",
       "4  id_000005||||실내포장마차에서|접객시설을 갖추고|소주,맥주제공"
      ]
     },
     "execution_count": 17,
     "metadata": {},
     "output_type": "execute_result"
    }
   ],
   "source": [
    "df2 = df2.rename(columns={'AI_id|digit_1|digit_2|digit_3|text_obj|text_mthd|text_deal':'col'})\n",
    "df2.head()"
   ]
  },
  {
   "cell_type": "code",
   "execution_count": 18,
   "id": "900bf92b",
   "metadata": {},
   "outputs": [],
   "source": [
    "df2[['AI_id', 'digit_1', 'digit_2', 'digit_3','text_obj','text_mthd','text_deal']] = pd.DataFrame(df2.col.str.split('|', 6).tolist())"
   ]
  },
  {
   "cell_type": "code",
   "execution_count": 19,
   "id": "da1ce4d9",
   "metadata": {},
   "outputs": [
    {
     "data": {
      "text/plain": [
       "Index(['col', 'AI_id', 'digit_1', 'digit_2', 'digit_3', 'text_obj',\n",
       "       'text_mthd', 'text_deal'],\n",
       "      dtype='object')"
      ]
     },
     "execution_count": 19,
     "metadata": {},
     "output_type": "execute_result"
    }
   ],
   "source": [
    "df2.columns"
   ]
  },
  {
   "cell_type": "code",
   "execution_count": 20,
   "id": "a6171f37",
   "metadata": {
    "scrolled": true
   },
   "outputs": [
    {
     "data": {
      "text/html": [
       "<div>\n",
       "<style scoped>\n",
       "    .dataframe tbody tr th:only-of-type {\n",
       "        vertical-align: middle;\n",
       "    }\n",
       "\n",
       "    .dataframe tbody tr th {\n",
       "        vertical-align: top;\n",
       "    }\n",
       "\n",
       "    .dataframe thead th {\n",
       "        text-align: right;\n",
       "    }\n",
       "</style>\n",
       "<table border=\"1\" class=\"dataframe\">\n",
       "  <thead>\n",
       "    <tr style=\"text-align: right;\">\n",
       "      <th></th>\n",
       "      <th>digit_1</th>\n",
       "      <th>digit_2</th>\n",
       "      <th>digit_3</th>\n",
       "      <th>text_obj</th>\n",
       "      <th>text_mthd</th>\n",
       "      <th>text_deal</th>\n",
       "    </tr>\n",
       "  </thead>\n",
       "  <tbody>\n",
       "    <tr>\n",
       "      <th>0</th>\n",
       "      <td></td>\n",
       "      <td></td>\n",
       "      <td></td>\n",
       "      <td>치킨전문점에서</td>\n",
       "      <td>고객의주문에의해</td>\n",
       "      <td>치킨판매</td>\n",
       "    </tr>\n",
       "    <tr>\n",
       "      <th>1</th>\n",
       "      <td></td>\n",
       "      <td></td>\n",
       "      <td></td>\n",
       "      <td>산업공구</td>\n",
       "      <td>다른 소매업자에게</td>\n",
       "      <td>철물 수공구</td>\n",
       "    </tr>\n",
       "    <tr>\n",
       "      <th>2</th>\n",
       "      <td></td>\n",
       "      <td></td>\n",
       "      <td></td>\n",
       "      <td>절에서</td>\n",
       "      <td>신도을 대상으로</td>\n",
       "      <td>불교단체운영</td>\n",
       "    </tr>\n",
       "    <tr>\n",
       "      <th>3</th>\n",
       "      <td></td>\n",
       "      <td></td>\n",
       "      <td></td>\n",
       "      <td>영업장에서</td>\n",
       "      <td>고객요구로</td>\n",
       "      <td>자동차튜닝</td>\n",
       "    </tr>\n",
       "    <tr>\n",
       "      <th>4</th>\n",
       "      <td></td>\n",
       "      <td></td>\n",
       "      <td></td>\n",
       "      <td>실내포장마차에서</td>\n",
       "      <td>접객시설을 갖추고</td>\n",
       "      <td>소주,맥주제공</td>\n",
       "    </tr>\n",
       "  </tbody>\n",
       "</table>\n",
       "</div>"
      ],
      "text/plain": [
       "  digit_1 digit_2 digit_3  text_obj  text_mthd text_deal\n",
       "0                           치킨전문점에서   고객의주문에의해      치킨판매\n",
       "1                              산업공구  다른 소매업자에게    철물 수공구\n",
       "2                               절에서   신도을 대상으로    불교단체운영\n",
       "3                             영업장에서      고객요구로     자동차튜닝\n",
       "4                          실내포장마차에서  접객시설을 갖추고   소주,맥주제공"
      ]
     },
     "execution_count": 20,
     "metadata": {},
     "output_type": "execute_result"
    }
   ],
   "source": [
    "df2 = df2.drop(['col','AI_id'],axis=1)\n",
    "df2.head()"
   ]
  },
  {
   "cell_type": "markdown",
   "id": "56238452",
   "metadata": {},
   "source": [
    "#### 3. 텍스트 열 재통합"
   ]
  },
  {
   "cell_type": "code",
   "execution_count": 21,
   "id": "fe870b25",
   "metadata": {},
   "outputs": [],
   "source": [
    "df2[\"Full Text\"] = df2[\"text_obj\"] + \" \" + df2[\"text_mthd\"] + \" \" + df2[\"text_deal\"]"
   ]
  },
  {
   "cell_type": "code",
   "execution_count": 22,
   "id": "f302041c",
   "metadata": {},
   "outputs": [
    {
     "data": {
      "text/html": [
       "<div>\n",
       "<style scoped>\n",
       "    .dataframe tbody tr th:only-of-type {\n",
       "        vertical-align: middle;\n",
       "    }\n",
       "\n",
       "    .dataframe tbody tr th {\n",
       "        vertical-align: top;\n",
       "    }\n",
       "\n",
       "    .dataframe thead th {\n",
       "        text-align: right;\n",
       "    }\n",
       "</style>\n",
       "<table border=\"1\" class=\"dataframe\">\n",
       "  <thead>\n",
       "    <tr style=\"text-align: right;\">\n",
       "      <th></th>\n",
       "      <th>digit_1</th>\n",
       "      <th>digit_2</th>\n",
       "      <th>digit_3</th>\n",
       "      <th>Full Text</th>\n",
       "    </tr>\n",
       "  </thead>\n",
       "  <tbody>\n",
       "    <tr>\n",
       "      <th>0</th>\n",
       "      <td></td>\n",
       "      <td></td>\n",
       "      <td></td>\n",
       "      <td>치킨전문점에서 고객의주문에의해 치킨판매</td>\n",
       "    </tr>\n",
       "    <tr>\n",
       "      <th>1</th>\n",
       "      <td></td>\n",
       "      <td></td>\n",
       "      <td></td>\n",
       "      <td>산업공구 다른 소매업자에게 철물 수공구</td>\n",
       "    </tr>\n",
       "    <tr>\n",
       "      <th>2</th>\n",
       "      <td></td>\n",
       "      <td></td>\n",
       "      <td></td>\n",
       "      <td>절에서 신도을 대상으로 불교단체운영</td>\n",
       "    </tr>\n",
       "    <tr>\n",
       "      <th>3</th>\n",
       "      <td></td>\n",
       "      <td></td>\n",
       "      <td></td>\n",
       "      <td>영업장에서 고객요구로 자동차튜닝</td>\n",
       "    </tr>\n",
       "    <tr>\n",
       "      <th>4</th>\n",
       "      <td></td>\n",
       "      <td></td>\n",
       "      <td></td>\n",
       "      <td>실내포장마차에서 접객시설을 갖추고 소주,맥주제공</td>\n",
       "    </tr>\n",
       "  </tbody>\n",
       "</table>\n",
       "</div>"
      ],
      "text/plain": [
       "  digit_1 digit_2 digit_3                   Full Text\n",
       "0                               치킨전문점에서 고객의주문에의해 치킨판매\n",
       "1                               산업공구 다른 소매업자에게 철물 수공구\n",
       "2                                 절에서 신도을 대상으로 불교단체운영\n",
       "3                                   영업장에서 고객요구로 자동차튜닝\n",
       "4                          실내포장마차에서 접객시설을 갖추고 소주,맥주제공"
      ]
     },
     "execution_count": 22,
     "metadata": {},
     "output_type": "execute_result"
    }
   ],
   "source": [
    "df2 = df2.drop(['text_obj','text_mthd','text_deal'],axis=1)\n",
    "df2.head()"
   ]
  },
  {
   "cell_type": "markdown",
   "id": "2255b902",
   "metadata": {},
   "source": [
    "#### 4.파일 추출 "
   ]
  },
  {
   "cell_type": "code",
   "execution_count": 23,
   "id": "7d0f8154",
   "metadata": {},
   "outputs": [],
   "source": [
    "df2.to_csv('모델개발용.csv', encoding = \"cp949\",index=False)"
   ]
  },
  {
   "cell_type": "code",
   "execution_count": 24,
   "id": "c15aa826",
   "metadata": {},
   "outputs": [],
   "source": [
    "data2 = pd.read_csv('모델개발용.csv', sep=',',encoding = \"cp949\")"
   ]
  },
  {
   "cell_type": "code",
   "execution_count": 25,
   "id": "0f92bb0c",
   "metadata": {},
   "outputs": [],
   "source": [
    "data2 = data2.fillna('')"
   ]
  },
  {
   "cell_type": "code",
   "execution_count": 26,
   "id": "00c6643d",
   "metadata": {},
   "outputs": [
    {
     "data": {
      "text/html": [
       "<div>\n",
       "<style scoped>\n",
       "    .dataframe tbody tr th:only-of-type {\n",
       "        vertical-align: middle;\n",
       "    }\n",
       "\n",
       "    .dataframe tbody tr th {\n",
       "        vertical-align: top;\n",
       "    }\n",
       "\n",
       "    .dataframe thead th {\n",
       "        text-align: right;\n",
       "    }\n",
       "</style>\n",
       "<table border=\"1\" class=\"dataframe\">\n",
       "  <thead>\n",
       "    <tr style=\"text-align: right;\">\n",
       "      <th></th>\n",
       "      <th>digit_1</th>\n",
       "      <th>digit_2</th>\n",
       "      <th>digit_3</th>\n",
       "      <th>Full Text</th>\n",
       "    </tr>\n",
       "  </thead>\n",
       "  <tbody>\n",
       "    <tr>\n",
       "      <th>0</th>\n",
       "      <td></td>\n",
       "      <td></td>\n",
       "      <td></td>\n",
       "      <td>치킨전문점에서 고객의주문에의해 치킨판매</td>\n",
       "    </tr>\n",
       "    <tr>\n",
       "      <th>1</th>\n",
       "      <td></td>\n",
       "      <td></td>\n",
       "      <td></td>\n",
       "      <td>산업공구 다른 소매업자에게 철물 수공구</td>\n",
       "    </tr>\n",
       "    <tr>\n",
       "      <th>2</th>\n",
       "      <td></td>\n",
       "      <td></td>\n",
       "      <td></td>\n",
       "      <td>절에서 신도을 대상으로 불교단체운영</td>\n",
       "    </tr>\n",
       "    <tr>\n",
       "      <th>3</th>\n",
       "      <td></td>\n",
       "      <td></td>\n",
       "      <td></td>\n",
       "      <td>영업장에서 고객요구로 자동차튜닝</td>\n",
       "    </tr>\n",
       "    <tr>\n",
       "      <th>4</th>\n",
       "      <td></td>\n",
       "      <td></td>\n",
       "      <td></td>\n",
       "      <td>실내포장마차에서 접객시설을 갖추고 소주,맥주제공</td>\n",
       "    </tr>\n",
       "  </tbody>\n",
       "</table>\n",
       "</div>"
      ],
      "text/plain": [
       "  digit_1 digit_2 digit_3                   Full Text\n",
       "0                               치킨전문점에서 고객의주문에의해 치킨판매\n",
       "1                               산업공구 다른 소매업자에게 철물 수공구\n",
       "2                                 절에서 신도을 대상으로 불교단체운영\n",
       "3                                   영업장에서 고객요구로 자동차튜닝\n",
       "4                          실내포장마차에서 접객시설을 갖추고 소주,맥주제공"
      ]
     },
     "execution_count": 26,
     "metadata": {},
     "output_type": "execute_result"
    }
   ],
   "source": [
    "data2.head()"
   ]
  }
 ],
 "metadata": {
  "kernelspec": {
   "display_name": "Python 3",
   "language": "python",
   "name": "python3"
  },
  "language_info": {
   "codemirror_mode": {
    "name": "ipython",
    "version": 3
   },
   "file_extension": ".py",
   "mimetype": "text/x-python",
   "name": "python",
   "nbconvert_exporter": "python",
   "pygments_lexer": "ipython3",
   "version": "3.8.8"
  }
 },
 "nbformat": 4,
 "nbformat_minor": 5
}
