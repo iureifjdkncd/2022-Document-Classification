{
 "cells": [
  {
   "cell_type": "code",
   "execution_count": 2,
   "id": "a6c14cbc",
   "metadata": {},
   "outputs": [],
   "source": [
    "import pandas as pd\n",
    "import numpy as np\n",
    "from sklearn.model_selection import train_test_split\n",
    "from sklearn.metrics import classification_report\n",
    "from sklearn.preprocessing import LabelEncoder\n",
    "import tensorflow as tf\n",
    "from tensorflow.keras.models import Sequential\n",
    "from tensorflow.keras.layers import Dense, LSTM, Embedding, Dropout\n",
    "from tensorflow.keras.callbacks import ModelCheckpoint, EarlyStopping\n",
    "import logging\n",
    "import datetime"
   ]
  },
  {
   "cell_type": "code",
   "execution_count": 2,
   "id": "1fe0d584",
   "metadata": {},
   "outputs": [],
   "source": [
    "# 로그 생성\n",
    "logger = logging.getLogger()\n",
    "\n",
    "# 로그의 출력 기준 설정\n",
    "logger.setLevel(logging.INFO)\n",
    "\n",
    "# log 출력 형식\n",
    "formatter = logging.Formatter('%(asctime)s - %(name)s - %(levelname)s - %(message)s')\n",
    "\n",
    "# log 출력\n",
    "stream_handler = logging.StreamHandler()\n",
    "stream_handler.setFormatter(formatter)\n",
    "logger.addHandler(stream_handler)\n",
    "\n",
    "# log를 파일에 출력\n",
    "file_handler = logging.FileHandler('D:\\\\통계청 공모전\\\\코드\\\\모델학습및예측(lstm)_{:%Y%m%d}.log'.format(datetime.datetime.now()), \n",
    "                                   encoding='utf-8')\n",
    "file_handler.setFormatter(formatter)\n",
    "logger.addHandler(file_handler)"
   ]
  },
  {
   "cell_type": "code",
   "execution_count": 3,
   "id": "3ac6cfcb",
   "metadata": {},
   "outputs": [
    {
     "name": "stderr",
     "output_type": "stream",
     "text": [
      "C:\\Users\\user\\anaconda3\\lib\\site-packages\\IPython\\core\\interactiveshell.py:3444: DtypeWarning: Columns (0) have mixed types.Specify dtype option on import or set low_memory=False.\n",
      "  exec(code_obj, self.user_global_ns, self.user_ns)\n"
     ]
    },
    {
     "data": {
      "text/html": [
       "<div>\n",
       "<style scoped>\n",
       "    .dataframe tbody tr th:only-of-type {\n",
       "        vertical-align: middle;\n",
       "    }\n",
       "\n",
       "    .dataframe tbody tr th {\n",
       "        vertical-align: top;\n",
       "    }\n",
       "\n",
       "    .dataframe thead th {\n",
       "        text-align: right;\n",
       "    }\n",
       "</style>\n",
       "<table border=\"1\" class=\"dataframe\">\n",
       "  <thead>\n",
       "    <tr style=\"text-align: right;\">\n",
       "      <th></th>\n",
       "      <th>digit_1</th>\n",
       "      <th>digit_2</th>\n",
       "      <th>digit_3</th>\n",
       "      <th>Full Text</th>\n",
       "      <th>clean_text</th>\n",
       "    </tr>\n",
       "  </thead>\n",
       "  <tbody>\n",
       "    <tr>\n",
       "      <th>0</th>\n",
       "      <td>S</td>\n",
       "      <td>95.0</td>\n",
       "      <td>952.0</td>\n",
       "      <td>카센터에서 자동차부분정비 타이어오일교환</td>\n",
       "      <td>카 센터 자동차 부분 정비 타이어 오일 교환</td>\n",
       "    </tr>\n",
       "    <tr>\n",
       "      <th>1</th>\n",
       "      <td>G</td>\n",
       "      <td>47.0</td>\n",
       "      <td>472.0</td>\n",
       "      <td>상점내에서 일반인을 대상으로 채소 과일판매</td>\n",
       "      <td>상점 내 일반인 대상 채소 과일 판매</td>\n",
       "    </tr>\n",
       "    <tr>\n",
       "      <th>2</th>\n",
       "      <td>G</td>\n",
       "      <td>46.0</td>\n",
       "      <td>467.0</td>\n",
       "      <td>절단하여사업체에도매 공업용고무를가지고 합성고무도매</td>\n",
       "      <td>절단 하여사 업체 에도 매 공업 용 고무 가지 고 합성 고무 도매</td>\n",
       "    </tr>\n",
       "    <tr>\n",
       "      <th>3</th>\n",
       "      <td>G</td>\n",
       "      <td>47.0</td>\n",
       "      <td>475.0</td>\n",
       "      <td>영업점에서 일반소비자에게 열쇠잠금장치</td>\n",
       "      <td>영업 점 일 반 소비자 열쇠 잠금장치</td>\n",
       "    </tr>\n",
       "    <tr>\n",
       "      <th>4</th>\n",
       "      <td>Q</td>\n",
       "      <td>87.0</td>\n",
       "      <td>872.0</td>\n",
       "      <td>어린이집 보호자의 위탁을 받아 취학전아동보육</td>\n",
       "      <td>어린이집 보호자 위탁 받아 취학 전 아동 보육</td>\n",
       "    </tr>\n",
       "    <tr>\n",
       "      <th>...</th>\n",
       "      <td>...</td>\n",
       "      <td>...</td>\n",
       "      <td>...</td>\n",
       "      <td>...</td>\n",
       "      <td>...</td>\n",
       "    </tr>\n",
       "    <tr>\n",
       "      <th>1099995</th>\n",
       "      <td>NaN</td>\n",
       "      <td>NaN</td>\n",
       "      <td>NaN</td>\n",
       "      <td>사업장에서 일반인대상으로 버섯농장</td>\n",
       "      <td>사업 장 일반인 대상 버섯 농장</td>\n",
       "    </tr>\n",
       "    <tr>\n",
       "      <th>1099996</th>\n",
       "      <td>NaN</td>\n",
       "      <td>NaN</td>\n",
       "      <td>NaN</td>\n",
       "      <td>한의원에서 외래환자위주고 치료</td>\n",
       "      <td>한의원 외래 환자 위주 고 치료</td>\n",
       "    </tr>\n",
       "    <tr>\n",
       "      <th>1099997</th>\n",
       "      <td>NaN</td>\n",
       "      <td>NaN</td>\n",
       "      <td>NaN</td>\n",
       "      <td>일반점포에서 소비자에게 그림판매</td>\n",
       "      <td>일 반 점포 소비자 그림 판매</td>\n",
       "    </tr>\n",
       "    <tr>\n",
       "      <th>1099998</th>\n",
       "      <td>NaN</td>\n",
       "      <td>NaN</td>\n",
       "      <td>NaN</td>\n",
       "      <td>사업장에서 일반인 학생대상으로 학습공간제공</td>\n",
       "      <td>사업 장 일반인 학생 대상 학습 공간 제공</td>\n",
       "    </tr>\n",
       "    <tr>\n",
       "      <th>1099999</th>\n",
       "      <td>NaN</td>\n",
       "      <td>NaN</td>\n",
       "      <td>NaN</td>\n",
       "      <td>사업장에서 대리현대아파트를 관리</td>\n",
       "      <td>사업 장 대리 현 대 아파트 관리</td>\n",
       "    </tr>\n",
       "  </tbody>\n",
       "</table>\n",
       "<p>1100000 rows × 5 columns</p>\n",
       "</div>"
      ],
      "text/plain": [
       "        digit_1  digit_2  digit_3                    Full Text  \\\n",
       "0             S     95.0    952.0        카센터에서 자동차부분정비 타이어오일교환   \n",
       "1             G     47.0    472.0      상점내에서 일반인을 대상으로 채소 과일판매   \n",
       "2             G     46.0    467.0  절단하여사업체에도매 공업용고무를가지고 합성고무도매   \n",
       "3             G     47.0    475.0         영업점에서 일반소비자에게 열쇠잠금장치   \n",
       "4             Q     87.0    872.0     어린이집 보호자의 위탁을 받아 취학전아동보육   \n",
       "...         ...      ...      ...                          ...   \n",
       "1099995     NaN      NaN      NaN           사업장에서 일반인대상으로 버섯농장   \n",
       "1099996     NaN      NaN      NaN             한의원에서 외래환자위주고 치료   \n",
       "1099997     NaN      NaN      NaN            일반점포에서 소비자에게 그림판매   \n",
       "1099998     NaN      NaN      NaN      사업장에서 일반인 학생대상으로 학습공간제공   \n",
       "1099999     NaN      NaN      NaN            사업장에서 대리현대아파트를 관리   \n",
       "\n",
       "                                   clean_text  \n",
       "0                    카 센터 자동차 부분 정비 타이어 오일 교환  \n",
       "1                        상점 내 일반인 대상 채소 과일 판매  \n",
       "2        절단 하여사 업체 에도 매 공업 용 고무 가지 고 합성 고무 도매  \n",
       "3                        영업 점 일 반 소비자 열쇠 잠금장치  \n",
       "4                   어린이집 보호자 위탁 받아 취학 전 아동 보육  \n",
       "...                                       ...  \n",
       "1099995                     사업 장 일반인 대상 버섯 농장  \n",
       "1099996                     한의원 외래 환자 위주 고 치료  \n",
       "1099997                      일 반 점포 소비자 그림 판매  \n",
       "1099998               사업 장 일반인 학생 대상 학습 공간 제공  \n",
       "1099999                    사업 장 대리 현 대 아파트 관리  \n",
       "\n",
       "[1100000 rows x 5 columns]"
      ]
     },
     "execution_count": 3,
     "metadata": {},
     "output_type": "execute_result"
    }
   ],
   "source": [
    "df = pd.read_csv('../최종 전처리.csv')\n",
    "df"
   ]
  },
  {
   "cell_type": "code",
   "execution_count": 4,
   "id": "2fe6a41a",
   "metadata": {},
   "outputs": [
    {
     "data": {
      "text/html": [
       "<div>\n",
       "<style scoped>\n",
       "    .dataframe tbody tr th:only-of-type {\n",
       "        vertical-align: middle;\n",
       "    }\n",
       "\n",
       "    .dataframe tbody tr th {\n",
       "        vertical-align: top;\n",
       "    }\n",
       "\n",
       "    .dataframe thead th {\n",
       "        text-align: right;\n",
       "    }\n",
       "</style>\n",
       "<table border=\"1\" class=\"dataframe\">\n",
       "  <thead>\n",
       "    <tr style=\"text-align: right;\">\n",
       "      <th></th>\n",
       "      <th>digit_1</th>\n",
       "      <th>digit_2</th>\n",
       "      <th>digit_3</th>\n",
       "      <th>Full Text</th>\n",
       "      <th>clean_text</th>\n",
       "    </tr>\n",
       "  </thead>\n",
       "  <tbody>\n",
       "    <tr>\n",
       "      <th>0</th>\n",
       "      <td>S</td>\n",
       "      <td>95.0</td>\n",
       "      <td>952.0</td>\n",
       "      <td>카센터에서 자동차부분정비 타이어오일교환</td>\n",
       "      <td>카 센터 자동차 부분 정비 타이어 오일 교환</td>\n",
       "    </tr>\n",
       "    <tr>\n",
       "      <th>1</th>\n",
       "      <td>G</td>\n",
       "      <td>47.0</td>\n",
       "      <td>472.0</td>\n",
       "      <td>상점내에서 일반인을 대상으로 채소 과일판매</td>\n",
       "      <td>상점 내 일반인 대상 채소 과일 판매</td>\n",
       "    </tr>\n",
       "    <tr>\n",
       "      <th>2</th>\n",
       "      <td>G</td>\n",
       "      <td>46.0</td>\n",
       "      <td>467.0</td>\n",
       "      <td>절단하여사업체에도매 공업용고무를가지고 합성고무도매</td>\n",
       "      <td>절단 하여사 업체 에도 매 공업 용 고무 가지 고 합성 고무 도매</td>\n",
       "    </tr>\n",
       "    <tr>\n",
       "      <th>3</th>\n",
       "      <td>G</td>\n",
       "      <td>47.0</td>\n",
       "      <td>475.0</td>\n",
       "      <td>영업점에서 일반소비자에게 열쇠잠금장치</td>\n",
       "      <td>영업 점 일 반 소비자 열쇠 잠금장치</td>\n",
       "    </tr>\n",
       "    <tr>\n",
       "      <th>4</th>\n",
       "      <td>Q</td>\n",
       "      <td>87.0</td>\n",
       "      <td>872.0</td>\n",
       "      <td>어린이집 보호자의 위탁을 받아 취학전아동보육</td>\n",
       "      <td>어린이집 보호자 위탁 받아 취학 전 아동 보육</td>\n",
       "    </tr>\n",
       "    <tr>\n",
       "      <th>...</th>\n",
       "      <td>...</td>\n",
       "      <td>...</td>\n",
       "      <td>...</td>\n",
       "      <td>...</td>\n",
       "      <td>...</td>\n",
       "    </tr>\n",
       "    <tr>\n",
       "      <th>999995</th>\n",
       "      <td>C</td>\n",
       "      <td>13.0</td>\n",
       "      <td>134.0</td>\n",
       "      <td>제품입고 워싱 청바지워싱</td>\n",
       "      <td>제품 입고 워싱 청바지 워싱</td>\n",
       "    </tr>\n",
       "    <tr>\n",
       "      <th>999996</th>\n",
       "      <td>F</td>\n",
       "      <td>42.0</td>\n",
       "      <td>424.0</td>\n",
       "      <td>현장에서 고객의요청에의해 실내인테리어</td>\n",
       "      <td>현장 고객 요청 에의 해 실내 인테리어</td>\n",
       "    </tr>\n",
       "    <tr>\n",
       "      <th>999997</th>\n",
       "      <td>G</td>\n",
       "      <td>47.0</td>\n",
       "      <td>474.0</td>\n",
       "      <td>영업점에서 일반소비자에게 여성의류 판매</td>\n",
       "      <td>영업 점 일 반 소비자 여성 의류 판매</td>\n",
       "    </tr>\n",
       "    <tr>\n",
       "      <th>999998</th>\n",
       "      <td>P</td>\n",
       "      <td>85.0</td>\n",
       "      <td>856.0</td>\n",
       "      <td>사업장에서 일반고객을대상으로 필라테스</td>\n",
       "      <td>사업 장 일 반 고객 대상 필라테스</td>\n",
       "    </tr>\n",
       "    <tr>\n",
       "      <th>999999</th>\n",
       "      <td>I</td>\n",
       "      <td>56.0</td>\n",
       "      <td>561.0</td>\n",
       "      <td>사업장에서 접객시설을 갖추고 한식 미역구 판매</td>\n",
       "      <td>사업 장 접객 시설 갖추고 한식 미역 구 판매</td>\n",
       "    </tr>\n",
       "  </tbody>\n",
       "</table>\n",
       "<p>1000000 rows × 5 columns</p>\n",
       "</div>"
      ],
      "text/plain": [
       "       digit_1  digit_2  digit_3                    Full Text  \\\n",
       "0            S     95.0    952.0        카센터에서 자동차부분정비 타이어오일교환   \n",
       "1            G     47.0    472.0      상점내에서 일반인을 대상으로 채소 과일판매   \n",
       "2            G     46.0    467.0  절단하여사업체에도매 공업용고무를가지고 합성고무도매   \n",
       "3            G     47.0    475.0         영업점에서 일반소비자에게 열쇠잠금장치   \n",
       "4            Q     87.0    872.0     어린이집 보호자의 위탁을 받아 취학전아동보육   \n",
       "...        ...      ...      ...                          ...   \n",
       "999995       C     13.0    134.0                제품입고 워싱 청바지워싱   \n",
       "999996       F     42.0    424.0         현장에서 고객의요청에의해 실내인테리어   \n",
       "999997       G     47.0    474.0        영업점에서 일반소비자에게 여성의류 판매   \n",
       "999998       P     85.0    856.0         사업장에서 일반고객을대상으로 필라테스   \n",
       "999999       I     56.0    561.0    사업장에서 접객시설을 갖추고 한식 미역구 판매   \n",
       "\n",
       "                                  clean_text  \n",
       "0                   카 센터 자동차 부분 정비 타이어 오일 교환  \n",
       "1                       상점 내 일반인 대상 채소 과일 판매  \n",
       "2       절단 하여사 업체 에도 매 공업 용 고무 가지 고 합성 고무 도매  \n",
       "3                       영업 점 일 반 소비자 열쇠 잠금장치  \n",
       "4                  어린이집 보호자 위탁 받아 취학 전 아동 보육  \n",
       "...                                      ...  \n",
       "999995                       제품 입고 워싱 청바지 워싱  \n",
       "999996                 현장 고객 요청 에의 해 실내 인테리어  \n",
       "999997                 영업 점 일 반 소비자 여성 의류 판매  \n",
       "999998                   사업 장 일 반 고객 대상 필라테스  \n",
       "999999             사업 장 접객 시설 갖추고 한식 미역 구 판매  \n",
       "\n",
       "[1000000 rows x 5 columns]"
      ]
     },
     "execution_count": 4,
     "metadata": {},
     "output_type": "execute_result"
    }
   ],
   "source": [
    "train = df[:1000000]\n",
    "train"
   ]
  },
  {
   "cell_type": "code",
   "execution_count": 5,
   "id": "72d9965b",
   "metadata": {},
   "outputs": [
    {
     "name": "stderr",
     "output_type": "stream",
     "text": [
      "C:\\Users\\user\\AppData\\Local\\Temp/ipykernel_10088/3867300257.py:2: SettingWithCopyWarning: \n",
      "A value is trying to be set on a copy of a slice from a DataFrame.\n",
      "Try using .loc[row_indexer,col_indexer] = value instead\n",
      "\n",
      "See the caveats in the documentation: https://pandas.pydata.org/pandas-docs/stable/user_guide/indexing.html#returning-a-view-versus-a-copy\n",
      "  train['digit_1'] = encoder1.fit_transform(train['digit_1'])\n"
     ]
    },
    {
     "data": {
      "text/plain": [
       "19"
      ]
     },
     "execution_count": 5,
     "metadata": {},
     "output_type": "execute_result"
    }
   ],
   "source": [
    "encoder1 = LabelEncoder()\n",
    "train['digit_1'] = encoder1.fit_transform(train['digit_1'])\n",
    "train['digit_1'].nunique()"
   ]
  },
  {
   "cell_type": "code",
   "execution_count": 6,
   "id": "6563ccd2",
   "metadata": {},
   "outputs": [
    {
     "name": "stderr",
     "output_type": "stream",
     "text": [
      "C:\\Users\\user\\AppData\\Local\\Temp/ipykernel_10088/2282110248.py:2: SettingWithCopyWarning: \n",
      "A value is trying to be set on a copy of a slice from a DataFrame.\n",
      "Try using .loc[row_indexer,col_indexer] = value instead\n",
      "\n",
      "See the caveats in the documentation: https://pandas.pydata.org/pandas-docs/stable/user_guide/indexing.html#returning-a-view-versus-a-copy\n",
      "  train['digit_2'] = encoder2.fit_transform(train['digit_2'])\n"
     ]
    },
    {
     "data": {
      "text/plain": [
       "74"
      ]
     },
     "execution_count": 6,
     "metadata": {},
     "output_type": "execute_result"
    }
   ],
   "source": [
    "encoder2 = LabelEncoder()\n",
    "train['digit_2'] = encoder2.fit_transform(train['digit_2'])\n",
    "train['digit_2'].nunique()"
   ]
  },
  {
   "cell_type": "code",
   "execution_count": 7,
   "id": "a3d90e0c",
   "metadata": {},
   "outputs": [
    {
     "name": "stderr",
     "output_type": "stream",
     "text": [
      "C:\\Users\\user\\AppData\\Local\\Temp/ipykernel_10088/781095071.py:2: SettingWithCopyWarning: \n",
      "A value is trying to be set on a copy of a slice from a DataFrame.\n",
      "Try using .loc[row_indexer,col_indexer] = value instead\n",
      "\n",
      "See the caveats in the documentation: https://pandas.pydata.org/pandas-docs/stable/user_guide/indexing.html#returning-a-view-versus-a-copy\n",
      "  train['digit_3'] = encoder3.fit_transform(train['digit_3'])\n"
     ]
    },
    {
     "data": {
      "text/plain": [
       "225"
      ]
     },
     "execution_count": 7,
     "metadata": {},
     "output_type": "execute_result"
    }
   ],
   "source": [
    "encoder3 = LabelEncoder()\n",
    "train['digit_3'] = encoder3.fit_transform(train['digit_3'])\n",
    "train['digit_3'].nunique()"
   ]
  },
  {
   "cell_type": "code",
   "execution_count": 8,
   "id": "8a4de6c0",
   "metadata": {},
   "outputs": [],
   "source": [
    "text = np.load('D:/통계청 공모전/text.npy', allow_pickle=True)"
   ]
  },
  {
   "cell_type": "markdown",
   "id": "c962a885",
   "metadata": {},
   "source": [
    "# 시퀀스 패딩"
   ]
  },
  {
   "cell_type": "code",
   "execution_count": 9,
   "id": "c8ab27ed",
   "metadata": {},
   "outputs": [
    {
     "name": "stderr",
     "output_type": "stream",
     "text": [
      "2022-04-13 00:15:48,588 - root - INFO - 시퀀스 패딩\n"
     ]
    }
   ],
   "source": [
    "logging.info('시퀀스 패딩')"
   ]
  },
  {
   "cell_type": "code",
   "execution_count": 10,
   "id": "e327888a",
   "metadata": {},
   "outputs": [
    {
     "data": {
      "text/plain": [
       "array([[   0,    0,    0, ...,  633, 1945, 3832],\n",
       "       [   0,    0,    0, ...,  296,  147,   12],\n",
       "       [   0,    0,    0, ..., 1304,  608,   23],\n",
       "       ...,\n",
       "       [   0,    0,    0, ..., 1444, 1030,   12],\n",
       "       [   0,    0,    0, ..., 1434, 1726,   49],\n",
       "       [   0,    0,    0, ...,   44, 1310,  203]])"
      ]
     },
     "execution_count": 10,
     "metadata": {},
     "output_type": "execute_result"
    }
   ],
   "source": [
    "max_len = 21 # 단어 개수 최댓값\n",
    "\n",
    "text = tf.keras.preprocessing.sequence.pad_sequences(text, maxlen=max_len)\n",
    "text"
   ]
  },
  {
   "cell_type": "code",
   "execution_count": 11,
   "id": "0863303c",
   "metadata": {},
   "outputs": [],
   "source": [
    "train_data = text[:1000000]\n",
    "test_data = text[1000000:]\n",
    "target1 = train['digit_1']\n",
    "\n",
    "X_train, X_test, y_train, y_test = train_test_split(train_data, target1, test_size=0.2, shuffle=True, stratify=target1)"
   ]
  },
  {
   "cell_type": "code",
   "execution_count": 12,
   "id": "1fbdecde",
   "metadata": {},
   "outputs": [
    {
     "data": {
      "text/plain": [
       "array([[    0,     0,     0, ...,   962,   359,   213],\n",
       "       [    0,     0,     0, ...,   876,   912,   368],\n",
       "       [    0,     0,     0, ...,   161, 10055,  1172],\n",
       "       ...,\n",
       "       [    0,     0,     0, ...,  2897,  1676,   208],\n",
       "       [    0,     0,     0, ...,  1290,     6, 10186],\n",
       "       [    0,     0,     0, ...,   342,   378,   130]])"
      ]
     },
     "execution_count": 12,
     "metadata": {},
     "output_type": "execute_result"
    }
   ],
   "source": [
    "X_train"
   ]
  },
  {
   "cell_type": "markdown",
   "id": "8393f5a4",
   "metadata": {},
   "source": [
    "# LSTM 학습 (digit_1)"
   ]
  },
  {
   "cell_type": "code",
   "execution_count": 13,
   "id": "c29bf3c5",
   "metadata": {},
   "outputs": [
    {
     "name": "stderr",
     "output_type": "stream",
     "text": [
      "2022-04-13 00:15:51,700 - root - INFO - digit_1 학습\n"
     ]
    }
   ],
   "source": [
    "logging.info('digit_1 학습')"
   ]
  },
  {
   "cell_type": "code",
   "execution_count": 14,
   "id": "8e5169ea",
   "metadata": {},
   "outputs": [],
   "source": [
    "vocab_size = 10760\n",
    "embedding_dim = 128\n",
    "hidden_units = 128\n",
    "num_classes = 19 # digit_1 19개 카테고리\n",
    "\n",
    "model1 = Sequential()\n",
    "model1.add(Embedding(vocab_size, embedding_dim))\n",
    "model1.add(LSTM(hidden_units, return_sequences=True))\n",
    "model1.add(LSTM(hidden_units))\n",
    "model1.add(Dropout(0.2))\n",
    "model1.add(Dense(hidden_units, activation='tanh'))\n",
    "model1.add(Dense(num_classes, activation='softmax'))"
   ]
  },
  {
   "cell_type": "code",
   "execution_count": 15,
   "id": "c0788822",
   "metadata": {},
   "outputs": [],
   "source": [
    "es = EarlyStopping(monitor='accuracy', mode = 'auto', verbose=3, patience=4)\n",
    "mc1 = ModelCheckpoint('best_model1.h5', monitor='val_accuracy', mode = 'auto', verbose=1, save_best_only=True)"
   ]
  },
  {
   "cell_type": "code",
   "execution_count": 16,
   "id": "0945d920",
   "metadata": {},
   "outputs": [
    {
     "name": "stdout",
     "output_type": "stream",
     "text": [
      "Epoch 1/10\n",
      "20000/20000 [==============================] - 229s 11ms/step - loss: 0.1526 - accuracy: 0.9582 - val_loss: 0.1055 - val_accuracy: 0.9710\n",
      "\n",
      "Epoch 00001: val_accuracy improved from -inf to 0.97099, saving model to best_model1.h5\n",
      "Epoch 2/10\n",
      "20000/20000 [==============================] - 228s 11ms/step - loss: 0.0938 - accuracy: 0.9739 - val_loss: 0.0952 - val_accuracy: 0.9737\n",
      "\n",
      "Epoch 00002: val_accuracy improved from 0.97099 to 0.97373, saving model to best_model1.h5\n",
      "Epoch 3/10\n",
      "20000/20000 [==============================] - 227s 11ms/step - loss: 0.0792 - accuracy: 0.9777 - val_loss: 0.0950 - val_accuracy: 0.9744\n",
      "\n",
      "Epoch 00003: val_accuracy improved from 0.97373 to 0.97443, saving model to best_model1.h5\n",
      "Epoch 4/10\n",
      "20000/20000 [==============================] - 226s 11ms/step - loss: 0.0684 - accuracy: 0.9806 - val_loss: 0.0961 - val_accuracy: 0.9742\n",
      "\n",
      "Epoch 00004: val_accuracy did not improve from 0.97443\n",
      "Epoch 5/10\n",
      "20000/20000 [==============================] - 226s 11ms/step - loss: 0.0599 - accuracy: 0.9828 - val_loss: 0.0980 - val_accuracy: 0.9743\n",
      "\n",
      "Epoch 00005: val_accuracy did not improve from 0.97443\n",
      "Epoch 6/10\n",
      "20000/20000 [==============================] - 226s 11ms/step - loss: 0.0526 - accuracy: 0.9848 - val_loss: 0.1052 - val_accuracy: 0.9740\n",
      "\n",
      "Epoch 00006: val_accuracy did not improve from 0.97443\n",
      "Epoch 7/10\n",
      "20000/20000 [==============================] - 227s 11ms/step - loss: 0.0468 - accuracy: 0.9864 - val_loss: 0.1066 - val_accuracy: 0.9738\n",
      "\n",
      "Epoch 00007: val_accuracy did not improve from 0.97443\n",
      "Epoch 8/10\n",
      "20000/20000 [==============================] - 234s 12ms/step - loss: 0.0417 - accuracy: 0.9876 - val_loss: 0.1125 - val_accuracy: 0.9729\n",
      "\n",
      "Epoch 00008: val_accuracy did not improve from 0.97443\n",
      "Epoch 9/10\n",
      "20000/20000 [==============================] - 224s 11ms/step - loss: 0.0383 - accuracy: 0.9888 - val_loss: 0.1172 - val_accuracy: 0.9727\n",
      "\n",
      "Epoch 00009: val_accuracy did not improve from 0.97443\n",
      "Epoch 10/10\n",
      "20000/20000 [==============================] - 239s 12ms/step - loss: 0.0356 - accuracy: 0.9895 - val_loss: 0.1228 - val_accuracy: 0.9725\n",
      "\n",
      "Epoch 00010: val_accuracy did not improve from 0.97443\n"
     ]
    }
   ],
   "source": [
    "model1.compile(loss='sparse_categorical_crossentropy', optimizer='adam', metrics=['accuracy'])\n",
    "history1 = model1.fit(X_train, y_train, batch_size=32, epochs=10, callbacks=[es, mc1], validation_split=0.2)"
   ]
  },
  {
   "cell_type": "code",
   "execution_count": 17,
   "id": "48f25875",
   "metadata": {},
   "outputs": [
    {
     "name": "stdout",
     "output_type": "stream",
     "text": [
      "6250/6250 [==============================] - 25s 4ms/step - loss: 0.1195 - accuracy: 0.9730\n",
      "테스트 정확도: 0.9730\n"
     ]
    }
   ],
   "source": [
    "print(\"테스트 정확도: %.4f\" % (model1.evaluate(X_test, y_test)[1]))"
   ]
  },
  {
   "cell_type": "code",
   "execution_count": 18,
   "id": "a8702188",
   "metadata": {},
   "outputs": [
    {
     "data": {
      "text/plain": [
       "array([[6.9883629e-07, 2.4844311e-07, 6.6598644e-04, ..., 6.1408698e-04,\n",
       "        8.7202556e-05, 8.1487827e-04],\n",
       "       [3.2612425e-07, 1.1765203e-08, 2.4451787e-04, ..., 1.8926039e-06,\n",
       "        3.4461982e-07, 1.7408744e-05],\n",
       "       [7.2490758e-07, 5.3425038e-07, 3.4294712e-06, ..., 1.6159751e-05,\n",
       "        6.2710856e-04, 9.0763432e-01],\n",
       "       ...,\n",
       "       [1.3670962e-06, 6.4736383e-07, 2.4603941e-03, ..., 1.1289111e-05,\n",
       "        2.4027265e-06, 8.7655553e-06],\n",
       "       [1.2555717e-04, 1.1325633e-06, 7.0165278e-04, ..., 9.0080666e-06,\n",
       "        6.5614469e-05, 1.5543710e-04],\n",
       "       [4.9201390e-07, 1.2400878e-07, 9.9979836e-01, ..., 2.1282709e-07,\n",
       "        2.8064923e-07, 3.4877053e-06]], dtype=float32)"
      ]
     },
     "execution_count": 18,
     "metadata": {},
     "output_type": "execute_result"
    }
   ],
   "source": [
    "pred1 = model1.predict(X_test)\n",
    "pred1"
   ]
  },
  {
   "cell_type": "code",
   "execution_count": 19,
   "id": "3b95612d",
   "metadata": {},
   "outputs": [
    {
     "data": {
      "text/plain": [
       "array([ 7,  6, 18, ...,  8,  6,  2], dtype=int64)"
      ]
     },
     "execution_count": 19,
     "metadata": {},
     "output_type": "execute_result"
    }
   ],
   "source": [
    "predict1 = []\n",
    "for i in range(pred1.shape[0]):\n",
    "    predict1.append(pred1[i].argmax())\n",
    "predict1 = np.array(predict1)\n",
    "predict1"
   ]
  },
  {
   "cell_type": "code",
   "execution_count": 20,
   "id": "42cef86c",
   "metadata": {},
   "outputs": [
    {
     "name": "stdout",
     "output_type": "stream",
     "text": [
      "Here is the classification report:\n",
      "              precision    recall  f1-score   support\n",
      "\n",
      "           0       0.67      0.76      0.71       213\n",
      "           1       0.85      0.78      0.81        85\n",
      "           2       0.96      0.95      0.96     21038\n",
      "           3       0.88      0.89      0.89       151\n",
      "           4       0.85      0.85      0.85       451\n",
      "           5       0.96      0.94      0.95      7010\n",
      "           6       0.98      0.98      0.98     49294\n",
      "           7       0.99      0.99      0.99     19608\n",
      "           8       0.99      0.99      0.99     37485\n",
      "           9       0.91      0.93      0.92      2172\n",
      "          10       0.98      0.98      0.98      2076\n",
      "          11       0.98      0.99      0.99      8028\n",
      "          12       0.94      0.92      0.93      5687\n",
      "          13       0.87      0.89      0.88      3540\n",
      "          14       0.92      0.92      0.92       593\n",
      "          15       0.96      0.98      0.97      9322\n",
      "          16       0.97      0.98      0.98      7218\n",
      "          17       0.95      0.95      0.95      5950\n",
      "          18       0.98      0.97      0.97     20079\n",
      "\n",
      "    accuracy                           0.97    200000\n",
      "   macro avg       0.93      0.93      0.93    200000\n",
      "weighted avg       0.97      0.97      0.97    200000\n",
      "\n"
     ]
    }
   ],
   "source": [
    "print ('Here is the classification report:')\n",
    "print (classification_report(y_test, predict1))"
   ]
  },
  {
   "cell_type": "markdown",
   "id": "b2ae65f4",
   "metadata": {},
   "source": [
    "# 모델개발용 데이터 예측 (digit_1)"
   ]
  },
  {
   "cell_type": "code",
   "execution_count": 21,
   "id": "cbff843e",
   "metadata": {},
   "outputs": [
    {
     "name": "stderr",
     "output_type": "stream",
     "text": [
      "2022-04-13 00:54:43,330 - root - INFO - 모델개발용 자료 digit_1 예측\n"
     ]
    }
   ],
   "source": [
    "logging.info('모델개발용 자료 digit_1 예측')"
   ]
  },
  {
   "cell_type": "code",
   "execution_count": 22,
   "id": "5d318894",
   "metadata": {},
   "outputs": [
    {
     "data": {
      "text/plain": [
       "array([[1.37430929e-08, 7.90150584e-11, 1.02092381e-05, ...,\n",
       "        1.75690133e-07, 3.80742762e-07, 7.83322633e-08],\n",
       "       [7.87294880e-07, 4.32514078e-08, 3.07427021e-04, ...,\n",
       "        1.60957461e-06, 1.15444934e-07, 4.17101137e-06],\n",
       "       [1.80622350e-09, 1.16270542e-07, 6.31914509e-06, ...,\n",
       "        1.98250800e-05, 6.60189426e-06, 9.99749243e-01],\n",
       "       ...,\n",
       "       [7.20637502e-07, 1.10725594e-07, 2.44410330e-04, ...,\n",
       "        1.99272176e-06, 2.20471543e-06, 1.05357476e-05],\n",
       "       [1.96741908e-04, 1.35982418e-05, 1.55816838e-06, ...,\n",
       "        1.52214825e-05, 9.99191821e-01, 9.67380911e-05],\n",
       "       [6.50538198e-07, 3.65955835e-08, 2.62947628e-06, ...,\n",
       "        1.33284868e-06, 7.75577646e-05, 8.09871301e-04]], dtype=float32)"
      ]
     },
     "execution_count": 22,
     "metadata": {},
     "output_type": "execute_result"
    }
   ],
   "source": [
    "digit1_pred = model1.predict(test_data)\n",
    "digit1_pred"
   ]
  },
  {
   "cell_type": "code",
   "execution_count": 23,
   "id": "07fe8cc7",
   "metadata": {},
   "outputs": [
    {
     "data": {
      "text/plain": [
       "array([ 8,  6, 18, ...,  6, 17, 11], dtype=int64)"
      ]
     },
     "execution_count": 23,
     "metadata": {},
     "output_type": "execute_result"
    }
   ],
   "source": [
    "digit1_predict = []\n",
    "for i in range(digit1_pred.shape[0]):\n",
    "    digit1_predict.append(digit1_pred[i].argmax())\n",
    "digit1_predict = np.array(digit1_predict)\n",
    "digit1_predict"
   ]
  },
  {
   "cell_type": "code",
   "execution_count": 24,
   "id": "b88cf75b",
   "metadata": {},
   "outputs": [
    {
     "data": {
      "text/plain": [
       "array(['I', 'G', 'S', ..., 'G', 'R', 'L'], dtype=object)"
      ]
     },
     "execution_count": 24,
     "metadata": {},
     "output_type": "execute_result"
    }
   ],
   "source": [
    "digit1_predict = encoder1.inverse_transform(digit1_predict)\n",
    "digit1_predict"
   ]
  },
  {
   "cell_type": "markdown",
   "id": "125bdcd1",
   "metadata": {},
   "source": [
    "# LSTM 학습 (digit_2)"
   ]
  },
  {
   "cell_type": "code",
   "execution_count": 25,
   "id": "e8ccdf8b",
   "metadata": {},
   "outputs": [
    {
     "name": "stderr",
     "output_type": "stream",
     "text": [
      "2022-04-13 00:54:53,275 - root - INFO - digit_2 학습\n"
     ]
    }
   ],
   "source": [
    "logging.info('digit_2 학습')"
   ]
  },
  {
   "cell_type": "code",
   "execution_count": 26,
   "id": "1ff599dd",
   "metadata": {},
   "outputs": [],
   "source": [
    "target2 = train['digit_2']\n",
    "# digit_2에 1개만 가지고 있는 카테고리 존재하므로 stratify=target2하면 에러 발생\n",
    "X_train, X_test, y_train, y_test = train_test_split(train_data, target2, test_size=0.2, shuffle=True)"
   ]
  },
  {
   "cell_type": "code",
   "execution_count": 27,
   "id": "371044b5",
   "metadata": {},
   "outputs": [],
   "source": [
    "vocab_size = 10760\n",
    "embedding_dim = 128\n",
    "hidden_units = 128\n",
    "num_classes = 74 # digit_2 74개 카테고리\n",
    "\n",
    "model2 = Sequential()\n",
    "model2.add(Embedding(vocab_size, embedding_dim))\n",
    "model2.add(LSTM(hidden_units, return_sequences=True))\n",
    "model2.add(LSTM(hidden_units))\n",
    "model2.add(Dropout(0.2))\n",
    "model2.add(Dense(hidden_units, activation='tanh'))\n",
    "model2.add(Dense(num_classes, activation='softmax'))"
   ]
  },
  {
   "cell_type": "code",
   "execution_count": 28,
   "id": "684f91ad",
   "metadata": {},
   "outputs": [],
   "source": [
    "# earlystopping은 위에 정의되었으므로 checkpoint만 정의\n",
    "mc2 = ModelCheckpoint('best_model2.h5', monitor='val_accuracy', mode = 'auto', verbose=1, save_best_only=True)"
   ]
  },
  {
   "cell_type": "code",
   "execution_count": 29,
   "id": "70ae729b",
   "metadata": {},
   "outputs": [
    {
     "name": "stdout",
     "output_type": "stream",
     "text": [
      "Epoch 1/10\n",
      "20000/20000 [==============================] - 249s 12ms/step - loss: 0.3689 - accuracy: 0.9025 - val_loss: 0.2457 - val_accuracy: 0.9322\n",
      "\n",
      "Epoch 00001: val_accuracy improved from -inf to 0.93222, saving model to best_model2.h5\n",
      "Epoch 2/10\n",
      "20000/20000 [==============================] - 246s 12ms/step - loss: 0.2279 - accuracy: 0.9370 - val_loss: 0.2260 - val_accuracy: 0.9368\n",
      "\n",
      "Epoch 00002: val_accuracy improved from 0.93222 to 0.93683, saving model to best_model2.h5\n",
      "Epoch 3/10\n",
      "20000/20000 [==============================] - 243s 12ms/step - loss: 0.1983 - accuracy: 0.9440 - val_loss: 0.2186 - val_accuracy: 0.9400\n",
      "\n",
      "Epoch 00003: val_accuracy improved from 0.93683 to 0.93998, saving model to best_model2.h5\n",
      "Epoch 4/10\n",
      "20000/20000 [==============================] - 244s 12ms/step - loss: 0.1786 - accuracy: 0.9486 - val_loss: 0.2183 - val_accuracy: 0.9408\n",
      "\n",
      "Epoch 00004: val_accuracy improved from 0.93998 to 0.94077, saving model to best_model2.h5\n",
      "Epoch 5/10\n",
      "20000/20000 [==============================] - 245s 12ms/step - loss: 0.1626 - accuracy: 0.9526 - val_loss: 0.2205 - val_accuracy: 0.9405\n",
      "\n",
      "Epoch 00005: val_accuracy did not improve from 0.94077\n",
      "Epoch 6/10\n",
      "20000/20000 [==============================] - 244s 12ms/step - loss: 0.1482 - accuracy: 0.9564 - val_loss: 0.2297 - val_accuracy: 0.9400\n",
      "\n",
      "Epoch 00006: val_accuracy did not improve from 0.94077\n",
      "Epoch 7/10\n",
      "20000/20000 [==============================] - 244s 12ms/step - loss: 0.1372 - accuracy: 0.9595 - val_loss: 0.2356 - val_accuracy: 0.9397\n",
      "\n",
      "Epoch 00007: val_accuracy did not improve from 0.94077\n",
      "Epoch 8/10\n",
      "20000/20000 [==============================] - 245s 12ms/step - loss: 0.1282 - accuracy: 0.9615 - val_loss: 0.2418 - val_accuracy: 0.9394\n",
      "\n",
      "Epoch 00008: val_accuracy did not improve from 0.94077\n",
      "Epoch 9/10\n",
      "20000/20000 [==============================] - 245s 12ms/step - loss: 0.1202 - accuracy: 0.9638 - val_loss: 0.2516 - val_accuracy: 0.9392\n",
      "\n",
      "Epoch 00009: val_accuracy did not improve from 0.94077\n",
      "Epoch 10/10\n",
      "20000/20000 [==============================] - 244s 12ms/step - loss: 0.1142 - accuracy: 0.9655 - val_loss: 0.2573 - val_accuracy: 0.9390\n",
      "\n",
      "Epoch 00010: val_accuracy did not improve from 0.94077\n"
     ]
    }
   ],
   "source": [
    "model2.compile(loss='sparse_categorical_crossentropy', optimizer='adam', metrics=['accuracy'])\n",
    "history2 = model2.fit(X_train, y_train, batch_size=32, epochs=10, callbacks=[es, mc2], validation_split=0.2)"
   ]
  },
  {
   "cell_type": "code",
   "execution_count": 30,
   "id": "4937e968",
   "metadata": {},
   "outputs": [
    {
     "name": "stdout",
     "output_type": "stream",
     "text": [
      "6250/6250 [==============================] - 25s 4ms/step - loss: 0.2551 - accuracy: 0.9393\n",
      "테스트 정확도: 0.9393\n"
     ]
    }
   ],
   "source": [
    "print(\"테스트 정확도: %.4f\" % (model2.evaluate(X_test, y_test)[1]))"
   ]
  },
  {
   "cell_type": "code",
   "execution_count": 31,
   "id": "013cd1c0",
   "metadata": {},
   "outputs": [
    {
     "data": {
      "text/plain": [
       "array([[1.19474022e-08, 4.93510177e-10, 2.05680735e-08, ...,\n",
       "        3.46893003e-09, 1.37759990e-08, 2.55191435e-06],\n",
       "       [5.29249007e-07, 6.24676177e-09, 1.48969370e-09, ...,\n",
       "        1.39136418e-07, 4.45581236e-06, 2.96120197e-06],\n",
       "       [1.40814240e-08, 6.71311284e-10, 5.23657550e-12, ...,\n",
       "        1.33741503e-06, 2.74308178e-07, 4.38621464e-06],\n",
       "       ...,\n",
       "       [5.53973720e-08, 3.42950579e-09, 1.00011315e-08, ...,\n",
       "        9.05878551e-06, 2.85068541e-06, 1.06095243e-07],\n",
       "       [2.32562190e-12, 9.48925716e-10, 6.81325307e-09, ...,\n",
       "        8.80663453e-09, 2.23348223e-07, 4.04246876e-08],\n",
       "       [5.00154917e-10, 8.07001310e-09, 3.68304356e-08, ...,\n",
       "        4.67868766e-09, 6.64208777e-09, 1.11203383e-06]], dtype=float32)"
      ]
     },
     "execution_count": 31,
     "metadata": {},
     "output_type": "execute_result"
    }
   ],
   "source": [
    "pred2 = model2.predict(X_test)\n",
    "pred2"
   ]
  },
  {
   "cell_type": "code",
   "execution_count": 32,
   "id": "d309b8cc",
   "metadata": {},
   "outputs": [
    {
     "data": {
      "text/plain": [
       "array([47, 41, 41, ..., 22, 42, 47], dtype=int64)"
      ]
     },
     "execution_count": 32,
     "metadata": {},
     "output_type": "execute_result"
    }
   ],
   "source": [
    "predict2 = []\n",
    "for i in range(pred2.shape[0]):\n",
    "    predict2.append(pred2[i].argmax())\n",
    "predict2 = np.array(predict2)\n",
    "predict2"
   ]
  },
  {
   "cell_type": "code",
   "execution_count": 33,
   "id": "853401fc",
   "metadata": {},
   "outputs": [
    {
     "name": "stdout",
     "output_type": "stream",
     "text": [
      "Here is the classification report:\n",
      "              precision    recall  f1-score   support\n",
      "\n",
      "           0       0.74      0.72      0.73       176\n",
      "           1       0.89      0.64      0.74        25\n",
      "           2       0.81      0.61      0.69        28\n",
      "           3       0.00      0.00      0.00         1\n",
      "           5       0.86      0.86      0.86        85\n",
      "           7       0.90      0.92      0.91      2918\n",
      "           8       0.85      0.58      0.69        69\n",
      "           9       0.00      0.00      0.00         2\n",
      "          10       0.85      0.81      0.83      1026\n",
      "          11       0.93      0.86      0.89      1089\n",
      "          12       0.77      0.82      0.79       299\n",
      "          13       0.70      0.72      0.71       323\n",
      "          14       0.82      0.77      0.79       378\n",
      "          15       0.90      0.89      0.89       801\n",
      "          16       0.45      0.28      0.34        18\n",
      "          17       0.65      0.67      0.66       598\n",
      "          18       0.44      0.20      0.28        59\n",
      "          19       0.71      0.73      0.72      1119\n",
      "          20       0.77      0.77      0.77       530\n",
      "          21       0.58      0.45      0.51       478\n",
      "          22       0.74      0.76      0.75      3363\n",
      "          23       0.73      0.57      0.64       654\n",
      "          24       0.67      0.57      0.62       629\n",
      "          25       0.71      0.70      0.71      1090\n",
      "          26       0.65      0.73      0.69      2360\n",
      "          27       0.50      0.52      0.51       544\n",
      "          28       0.71      0.57      0.63       210\n",
      "          29       0.82      0.82      0.82       645\n",
      "          30       0.81      0.69      0.74       972\n",
      "          31       0.86      0.84      0.85       650\n",
      "          32       0.92      0.84      0.88       134\n",
      "          33       0.88      0.79      0.83        28\n",
      "          34       0.91      0.80      0.85        89\n",
      "          35       0.83      0.78      0.81       324\n",
      "          36       1.00      0.25      0.40         8\n",
      "          37       0.83      0.79      0.81      1349\n",
      "          38       0.90      0.93      0.91      5747\n",
      "          39       0.94      0.95      0.94      1490\n",
      "          40       0.93      0.91      0.92     15399\n",
      "          41       0.95      0.96      0.96     32360\n",
      "          42       0.99      1.00      0.99     18254\n",
      "          43       0.73      0.78      0.75        72\n",
      "          44       1.00      0.17      0.29         6\n",
      "          45       0.94      0.90      0.92      1427\n",
      "          46       1.00      0.98      0.99      2831\n",
      "          47       0.99      0.99      0.99     34554\n",
      "          48       0.89      0.88      0.89      1060\n",
      "          49       0.86      0.80      0.83       297\n",
      "          50       0.72      0.90      0.80        42\n",
      "          51       0.97      0.88      0.92       230\n",
      "          52       0.74      0.73      0.73       363\n",
      "          53       0.69      0.73      0.71       164\n",
      "          54       0.95      0.97      0.96      1060\n",
      "          55       0.89      0.87      0.88       380\n",
      "          56       0.88      0.86      0.87       649\n",
      "          57       0.98      0.99      0.98      8095\n",
      "          58       0.83      0.85      0.84       394\n",
      "          59       0.92      0.93      0.93      2692\n",
      "          60       0.89      0.94      0.91      1462\n",
      "          61       0.91      0.89      0.90      1126\n",
      "          62       0.83      0.85      0.84       568\n",
      "          63       0.91      0.85      0.88      2123\n",
      "          64       0.88      0.88      0.88       838\n",
      "          65       0.93      0.89      0.91       590\n",
      "          66       0.97      0.97      0.97      9344\n",
      "          67       0.98      0.97      0.97      3660\n",
      "          68       0.96      0.95      0.96      3576\n",
      "          69       0.93      0.87      0.90       917\n",
      "          70       0.96      0.96      0.96      5121\n",
      "          71       0.95      0.95      0.95      4739\n",
      "          72       0.96      0.95      0.96      3948\n",
      "          73       0.98      0.99      0.99     11351\n",
      "\n",
      "    accuracy                           0.94    200000\n",
      "   macro avg       0.82      0.77      0.78    200000\n",
      "weighted avg       0.94      0.94      0.94    200000\n",
      "\n"
     ]
    },
    {
     "name": "stderr",
     "output_type": "stream",
     "text": [
      "C:\\Users\\user\\anaconda3\\lib\\site-packages\\sklearn\\metrics\\_classification.py:1248: UndefinedMetricWarning: Precision and F-score are ill-defined and being set to 0.0 in labels with no predicted samples. Use `zero_division` parameter to control this behavior.\n",
      "  _warn_prf(average, modifier, msg_start, len(result))\n",
      "C:\\Users\\user\\anaconda3\\lib\\site-packages\\sklearn\\metrics\\_classification.py:1248: UndefinedMetricWarning: Precision and F-score are ill-defined and being set to 0.0 in labels with no predicted samples. Use `zero_division` parameter to control this behavior.\n",
      "  _warn_prf(average, modifier, msg_start, len(result))\n",
      "C:\\Users\\user\\anaconda3\\lib\\site-packages\\sklearn\\metrics\\_classification.py:1248: UndefinedMetricWarning: Precision and F-score are ill-defined and being set to 0.0 in labels with no predicted samples. Use `zero_division` parameter to control this behavior.\n",
      "  _warn_prf(average, modifier, msg_start, len(result))\n"
     ]
    }
   ],
   "source": [
    "print ('Here is the classification report:')\n",
    "print (classification_report(y_test, predict2))"
   ]
  },
  {
   "cell_type": "markdown",
   "id": "13372b62",
   "metadata": {},
   "source": [
    "# 모델개발용 데이터 예측 (digit_2)"
   ]
  },
  {
   "cell_type": "code",
   "execution_count": 34,
   "id": "d9ce4373",
   "metadata": {},
   "outputs": [
    {
     "name": "stderr",
     "output_type": "stream",
     "text": [
      "2022-04-13 01:36:26,663 - root - INFO - 모델개발용 자료 digit_2 예측\n"
     ]
    }
   ],
   "source": [
    "logging.info('모델개발용 자료 digit_2 예측')"
   ]
  },
  {
   "cell_type": "code",
   "execution_count": 35,
   "id": "7aaa4038",
   "metadata": {},
   "outputs": [
    {
     "data": {
      "text/plain": [
       "array([[1.91625542e-08, 2.21354357e-09, 1.07710598e-07, ...,\n",
       "        1.37286493e-08, 6.06073911e-08, 6.20841865e-06],\n",
       "       [2.92120944e-07, 2.31803798e-09, 6.55163959e-08, ...,\n",
       "        2.94064262e-06, 5.65277332e-07, 2.36343951e-07],\n",
       "       [4.47696742e-08, 5.23249533e-09, 5.54991217e-08, ...,\n",
       "        9.99602377e-01, 1.97504528e-06, 4.77241374e-05],\n",
       "       ...,\n",
       "       [1.14656764e-07, 1.30519351e-09, 2.37035236e-09, ...,\n",
       "        1.96912268e-07, 7.17825333e-06, 4.45856531e-05],\n",
       "       [9.31479320e-08, 4.44242615e-10, 3.96934396e-09, ...,\n",
       "        7.17288367e-06, 9.46736023e-09, 1.52708653e-05],\n",
       "       [2.51691472e-06, 4.68308379e-08, 9.12375867e-07, ...,\n",
       "        5.29535115e-04, 4.68985081e-06, 1.23229896e-04]], dtype=float32)"
      ]
     },
     "execution_count": 35,
     "metadata": {},
     "output_type": "execute_result"
    }
   ],
   "source": [
    "digit2_pred = model2.predict(test_data)\n",
    "digit2_pred"
   ]
  },
  {
   "cell_type": "code",
   "execution_count": 36,
   "id": "1a6e5b59",
   "metadata": {},
   "outputs": [
    {
     "data": {
      "text/plain": [
       "array([47, 40, 71, ..., 41, 69, 57], dtype=int64)"
      ]
     },
     "execution_count": 36,
     "metadata": {},
     "output_type": "execute_result"
    }
   ],
   "source": [
    "digit2_predict = []\n",
    "for i in range(digit2_pred.shape[0]):\n",
    "    digit2_predict.append(digit2_pred[i].argmax())\n",
    "digit2_predict = np.array(digit2_predict)\n",
    "digit2_predict"
   ]
  },
  {
   "cell_type": "code",
   "execution_count": 37,
   "id": "fb715919",
   "metadata": {},
   "outputs": [
    {
     "data": {
      "text/plain": [
       "array([56., 46., 94., ..., 47., 90., 68.])"
      ]
     },
     "execution_count": 37,
     "metadata": {},
     "output_type": "execute_result"
    }
   ],
   "source": [
    "digit2_predict = encoder2.inverse_transform(digit2_predict)\n",
    "digit2_predict"
   ]
  },
  {
   "cell_type": "markdown",
   "id": "f05fb4c8",
   "metadata": {},
   "source": [
    "# LSTM 학습 (digit_3)"
   ]
  },
  {
   "cell_type": "code",
   "execution_count": 38,
   "id": "5cb78f00",
   "metadata": {},
   "outputs": [
    {
     "name": "stderr",
     "output_type": "stream",
     "text": [
      "2022-04-13 01:36:35,768 - root - INFO - digit_3 학습\n"
     ]
    }
   ],
   "source": [
    "logging.info('digit_3 학습')"
   ]
  },
  {
   "cell_type": "code",
   "execution_count": 39,
   "id": "85a1631e",
   "metadata": {},
   "outputs": [],
   "source": [
    "target3 = train['digit_3']\n",
    "# digit_3에 1개만 가지고 있는 카테고리 존재하므로 stratify=target3하면 에러 발생\n",
    "X_train, X_test, y_train, y_test = train_test_split(train_data, target3, test_size=0.2, shuffle=True)"
   ]
  },
  {
   "cell_type": "code",
   "execution_count": 40,
   "id": "9aa7c215",
   "metadata": {},
   "outputs": [],
   "source": [
    "vocab_size = 10760\n",
    "embedding_dim = 128\n",
    "hidden_units = 128\n",
    "num_classes = 225 # digit_3 225개 카테고리\n",
    "\n",
    "model3 = Sequential()\n",
    "model3.add(Embedding(vocab_size, embedding_dim))\n",
    "model3.add(LSTM(hidden_units, return_sequences=True))\n",
    "model3.add(LSTM(hidden_units))\n",
    "model3.add(Dropout(0.2))\n",
    "model3.add(Dense(hidden_units, activation='tanh'))\n",
    "model3.add(Dense(num_classes, activation='softmax'))"
   ]
  },
  {
   "cell_type": "code",
   "execution_count": 41,
   "id": "90c2ef9c",
   "metadata": {},
   "outputs": [],
   "source": [
    "# earlystopping은 위에 정의되었으므로 checkpoint만 정의\n",
    "mc3 = ModelCheckpoint('best_model3.h5', monitor='val_accuracy', mode = 'auto', verbose=1, save_best_only=True)"
   ]
  },
  {
   "cell_type": "code",
   "execution_count": 42,
   "id": "4eede754",
   "metadata": {},
   "outputs": [
    {
     "name": "stdout",
     "output_type": "stream",
     "text": [
      "Epoch 1/10\n",
      "20000/20000 [==============================] - 249s 12ms/step - loss: 0.7203 - accuracy: 0.8233 - val_loss: 0.4169 - val_accuracy: 0.8937\n",
      "\n",
      "Epoch 00001: val_accuracy improved from -inf to 0.89370, saving model to best_model3.h5\n",
      "Epoch 2/10\n",
      "20000/20000 [==============================] - 253s 13ms/step - loss: 0.3882 - accuracy: 0.8997 - val_loss: 0.3633 - val_accuracy: 0.9061\n",
      "\n",
      "Epoch 00002: val_accuracy improved from 0.89370 to 0.90608, saving model to best_model3.h5\n",
      "Epoch 3/10\n",
      "20000/20000 [==============================] - 252s 13ms/step - loss: 0.3390 - accuracy: 0.9108 - val_loss: 0.3543 - val_accuracy: 0.9081\n",
      "\n",
      "Epoch 00003: val_accuracy improved from 0.90608 to 0.90812, saving model to best_model3.h5\n",
      "Epoch 4/10\n",
      "20000/20000 [==============================] - 250s 13ms/step - loss: 0.3095 - accuracy: 0.9172 - val_loss: 0.3450 - val_accuracy: 0.9108\n",
      "\n",
      "Epoch 00004: val_accuracy improved from 0.90812 to 0.91078, saving model to best_model3.h5\n",
      "Epoch 5/10\n",
      "20000/20000 [==============================] - 260s 13ms/step - loss: 0.2853 - accuracy: 0.9228 - val_loss: 0.3426 - val_accuracy: 0.9119\n",
      "\n",
      "Epoch 00005: val_accuracy improved from 0.91078 to 0.91190, saving model to best_model3.h5\n",
      "Epoch 6/10\n",
      "20000/20000 [==============================] - 260s 13ms/step - loss: 0.2677 - accuracy: 0.9269 - val_loss: 0.3473 - val_accuracy: 0.9119\n",
      "\n",
      "Epoch 00006: val_accuracy improved from 0.91190 to 0.91191, saving model to best_model3.h5\n",
      "Epoch 7/10\n",
      "20000/20000 [==============================] - 253s 13ms/step - loss: 0.2529 - accuracy: 0.9305 - val_loss: 0.3549 - val_accuracy: 0.9116\n",
      "\n",
      "Epoch 00007: val_accuracy did not improve from 0.91191\n",
      "Epoch 8/10\n",
      "20000/20000 [==============================] - 248s 12ms/step - loss: 0.2394 - accuracy: 0.9337 - val_loss: 0.3585 - val_accuracy: 0.9117\n",
      "\n",
      "Epoch 00008: val_accuracy did not improve from 0.91191\n",
      "Epoch 9/10\n",
      "20000/20000 [==============================] - 248s 12ms/step - loss: 0.2281 - accuracy: 0.9362 - val_loss: 0.3698 - val_accuracy: 0.9104\n",
      "\n",
      "Epoch 00009: val_accuracy did not improve from 0.91191\n",
      "Epoch 10/10\n",
      "20000/20000 [==============================] - 250s 12ms/step - loss: 0.2193 - accuracy: 0.9381 - val_loss: 0.3743 - val_accuracy: 0.9106\n",
      "\n",
      "Epoch 00010: val_accuracy did not improve from 0.91191\n"
     ]
    }
   ],
   "source": [
    "model3.compile(loss='sparse_categorical_crossentropy', optimizer='adam', metrics=['accuracy'])\n",
    "history3 = model3.fit(X_train, y_train, batch_size=32, epochs=10, callbacks=[es, mc3], validation_split=0.2)"
   ]
  },
  {
   "cell_type": "code",
   "execution_count": 43,
   "id": "1f5fb62b",
   "metadata": {},
   "outputs": [
    {
     "name": "stdout",
     "output_type": "stream",
     "text": [
      "6250/6250 [==============================] - 25s 4ms/step - loss: 0.3793 - accuracy: 0.9113\n",
      "테스트 정확도: 0.9113\n"
     ]
    }
   ],
   "source": [
    "print(\"테스트 정확도: %.4f\" % (model3.evaluate(X_test, y_test)[1]))"
   ]
  },
  {
   "cell_type": "code",
   "execution_count": 44,
   "id": "ed8fdcb3",
   "metadata": {},
   "outputs": [
    {
     "data": {
      "text/plain": [
       "array([[2.8775269e-11, 1.9274854e-11, 3.5644287e-12, ..., 4.3376843e-12,\n",
       "        1.9709182e-08, 1.3547105e-07],\n",
       "       [8.8529492e-07, 6.7842706e-07, 2.5420679e-06, ..., 6.6587295e-06,\n",
       "        2.4459110e-05, 8.0973469e-04],\n",
       "       [5.9085209e-11, 3.5672328e-13, 1.4264279e-10, ..., 1.6722839e-15,\n",
       "        2.9657141e-11, 4.7867808e-12],\n",
       "       ...,\n",
       "       [9.4860830e-08, 4.0570061e-08, 9.0867243e-09, ..., 1.0331454e-05,\n",
       "        2.1838214e-07, 1.1351282e-06],\n",
       "       [1.0293895e-09, 4.5614765e-08, 5.7656987e-11, ..., 1.3124403e-08,\n",
       "        2.1571807e-08, 5.6025495e-09],\n",
       "       [3.5986128e-07, 2.9418045e-08, 1.8597814e-07, ..., 3.1765248e-05,\n",
       "        8.4453973e-07, 2.4934064e-07]], dtype=float32)"
      ]
     },
     "execution_count": 44,
     "metadata": {},
     "output_type": "execute_result"
    }
   ],
   "source": [
    "pred3 = model3.predict(X_test)\n",
    "pred3"
   ]
  },
  {
   "cell_type": "code",
   "execution_count": 45,
   "id": "441d6fa2",
   "metadata": {},
   "outputs": [
    {
     "data": {
      "text/plain": [
       "array([147, 182, 201, ..., 120, 148,  81], dtype=int64)"
      ]
     },
     "execution_count": 45,
     "metadata": {},
     "output_type": "execute_result"
    }
   ],
   "source": [
    "predict3 = []\n",
    "for i in range(pred3.shape[0]):\n",
    "    predict3.append(pred3[i].argmax())\n",
    "predict3 = np.array(predict3)\n",
    "predict3"
   ]
  },
  {
   "cell_type": "code",
   "execution_count": 46,
   "id": "3b53603a",
   "metadata": {},
   "outputs": [
    {
     "name": "stdout",
     "output_type": "stream",
     "text": [
      "Here is the classification report:\n",
      "              precision    recall  f1-score   support\n",
      "\n",
      "           0       0.67      0.62      0.65        82\n",
      "           1       0.87      0.75      0.81        53\n",
      "           2       0.31      0.50      0.38        30\n",
      "           3       0.59      0.70      0.64        27\n",
      "           4       0.00      0.00      0.00         3\n",
      "           5       0.73      0.48      0.58        23\n",
      "           8       0.00      0.00      0.00         2\n",
      "           9       0.70      0.60      0.65        35\n",
      "          10       0.98      0.92      0.95        52\n",
      "          12       0.69      0.80      0.75       133\n",
      "          13       0.84      0.86      0.85       197\n",
      "          14       0.67      0.60      0.63       218\n",
      "          15       0.81      0.93      0.86       149\n",
      "          16       0.50      0.16      0.24        19\n",
      "          17       0.82      0.77      0.80       255\n",
      "          18       0.88      0.88      0.88      1811\n",
      "          19       0.83      0.70      0.76        61\n",
      "          20       0.75      0.72      0.73        53\n",
      "          21       0.33      0.07      0.11        29\n",
      "          23       0.70      0.76      0.72        94\n",
      "          24       0.76      0.79      0.77       560\n",
      "          25       0.89      0.36      0.52        47\n",
      "          26       0.77      0.64      0.70       193\n",
      "          27       0.56      0.55      0.55       171\n",
      "          28       0.92      0.86      0.89       894\n",
      "          29       0.89      0.57      0.70        14\n",
      "          30       0.55      0.72      0.63        64\n",
      "          31       0.57      0.75      0.65       129\n",
      "          32       0.78      0.77      0.78       168\n",
      "          33       0.72      0.84      0.78        97\n",
      "          34       0.54      0.69      0.60        70\n",
      "          35       0.70      0.62      0.66       241\n",
      "          36       1.00      0.10      0.18        10\n",
      "          37       0.28      0.14      0.18        37\n",
      "          38       0.71      0.88      0.79       216\n",
      "          39       0.61      0.49      0.54       128\n",
      "          40       0.86      0.90      0.88       821\n",
      "          41       0.00      0.00      0.00        16\n",
      "          42       1.00      0.50      0.67         4\n",
      "          43       0.82      0.47      0.60        19\n",
      "          44       0.30      0.40      0.34        58\n",
      "          45       0.55      0.53      0.54       133\n",
      "          46       0.71      0.75      0.73        65\n",
      "          47       0.70      0.56      0.62       331\n",
      "          48       0.29      0.25      0.27         8\n",
      "          49       0.00      0.00      0.00         8\n",
      "          50       0.26      0.48      0.34        23\n",
      "          51       0.00      0.00      0.00        21\n",
      "          52       0.75      0.69      0.72       177\n",
      "          53       0.67      0.75      0.71       994\n",
      "          54       0.76      0.64      0.70       107\n",
      "          55       0.73      0.69      0.71       140\n",
      "          56       0.82      0.72      0.77       156\n",
      "          57       0.71      0.75      0.73       178\n",
      "          58       0.42      0.39      0.40       250\n",
      "          59       0.62      0.19      0.29        97\n",
      "          60       0.55      0.48      0.51        87\n",
      "          61       0.65      0.69      0.67       846\n",
      "          62       0.00      0.00      0.00        10\n",
      "          63       0.65      0.74      0.70      2508\n",
      "          64       0.41      0.35      0.38        69\n",
      "          65       0.54      0.65      0.59       331\n",
      "          66       0.44      0.32      0.37        66\n",
      "          67       0.60      0.41      0.49       140\n",
      "          68       0.39      0.30      0.34        56\n",
      "          69       0.00      0.00      0.00         1\n",
      "          70       0.76      0.73      0.74       304\n",
      "          71       0.51      0.41      0.45       293\n",
      "          72       0.64      0.47      0.55        38\n",
      "          73       0.57      0.57      0.57         7\n",
      "          74       0.66      0.75      0.70       552\n",
      "          75       0.50      0.15      0.23        20\n",
      "          76       0.76      0.39      0.52        82\n",
      "          77       0.81      0.66      0.73       257\n",
      "          78       0.55      0.24      0.34       119\n",
      "          79       0.19      0.11      0.14        76\n",
      "          80       0.52      0.61      0.56       978\n",
      "          81       0.66      0.56      0.61      1390\n",
      "          82       0.00      0.00      0.00         4\n",
      "          83       0.65      0.38      0.48        68\n",
      "          84       0.44      0.45      0.45       467\n",
      "          85       0.00      0.00      0.00         4\n",
      "          86       0.69      0.60      0.64       139\n",
      "          87       0.41      0.35      0.38        20\n",
      "          88       0.33      0.21      0.26        19\n",
      "          89       0.57      0.24      0.33        17\n",
      "          90       0.82      0.84      0.83       673\n",
      "          91       0.94      0.64      0.76       127\n",
      "          92       0.75      0.18      0.29        17\n",
      "          93       0.72      0.61      0.66        54\n",
      "          94       0.61      0.54      0.57        41\n",
      "          95       0.79      0.74      0.76       711\n",
      "          96       0.87      0.86      0.86       679\n",
      "          97       0.92      0.92      0.92       142\n",
      "          98       0.80      0.57      0.67        14\n",
      "          99       0.80      0.80      0.80         5\n",
      "         100       0.70      0.88      0.78        26\n",
      "         101       0.76      0.91      0.83        75\n",
      "         102       0.84      0.89      0.86       148\n",
      "         103       0.75      0.77      0.76        75\n",
      "         104       0.61      0.71      0.66       108\n",
      "         105       0.00      0.00      0.00         5\n",
      "         106       0.92      0.87      0.89       710\n",
      "         107       0.71      0.74      0.72       670\n",
      "         108       0.85      0.80      0.82       961\n",
      "         109       0.84      0.82      0.83      1145\n",
      "         110       0.89      0.95      0.92       832\n",
      "         111       0.89      0.93      0.91      2240\n",
      "         112       0.68      0.48      0.56       114\n",
      "         113       0.79      0.88      0.83       312\n",
      "         114       0.98      0.97      0.97       455\n",
      "         115       0.92      0.93      0.92       967\n",
      "         116       0.84      0.87      0.85        94\n",
      "         117       0.85      0.63      0.72       469\n",
      "         118       0.85      0.74      0.79       524\n",
      "         119       0.91      0.91      0.91      3661\n",
      "         120       0.83      0.81      0.82      3617\n",
      "         121       0.84      0.86      0.85      3031\n",
      "         122       0.84      0.82      0.83      1642\n",
      "         123       0.88      0.84      0.86      2442\n",
      "         124       0.65      0.67      0.66       138\n",
      "         125       0.95      0.95      0.95      5212\n",
      "         126       0.89      0.89      0.89      5078\n",
      "         127       0.89      0.93      0.91      1825\n",
      "         128       0.94      0.96      0.95      7294\n",
      "         129       0.85      0.87      0.86      2684\n",
      "         130       0.87      0.88      0.87      1406\n",
      "         131       0.95      0.98      0.97       930\n",
      "         132       0.92      0.91      0.92      6010\n",
      "         133       0.86      0.93      0.89      1861\n",
      "         134       0.74      0.93      0.82        15\n",
      "         135       1.00      1.00      1.00      7759\n",
      "         136       0.99      0.99      0.99      9796\n",
      "         137       0.94      0.92      0.93       425\n",
      "         139       0.80      0.75      0.78        60\n",
      "         140       0.17      0.20      0.18         5\n",
      "         141       0.80      0.57      0.67         7\n",
      "         143       0.89      0.90      0.89       312\n",
      "         144       0.91      0.91      0.91      1106\n",
      "         145       0.98      0.99      0.99      2549\n",
      "         146       0.96      0.86      0.91       311\n",
      "         147       0.98      0.98      0.98     24552\n",
      "         148       0.97      0.97      0.97     10042\n",
      "         149       0.85      0.89      0.87       329\n",
      "         150       0.85      0.83      0.84       749\n",
      "         151       0.91      0.76      0.83       272\n",
      "         152       0.76      0.89      0.82        44\n",
      "         153       1.00      0.29      0.44         7\n",
      "         154       0.71      0.81      0.76        27\n",
      "         155       0.99      0.99      0.99       156\n",
      "         156       0.76      0.65      0.70        80\n",
      "         157       0.67      0.70      0.68       396\n",
      "         158       0.60      0.57      0.59        82\n",
      "         159       0.69      0.61      0.65        69\n",
      "         160       0.99      0.97      0.98       872\n",
      "         161       0.74      0.71      0.72        35\n",
      "         162       0.76      0.91      0.83       204\n",
      "         163       0.92      0.88      0.90       361\n",
      "         165       0.74      0.62      0.68        37\n",
      "         166       0.88      0.75      0.81       230\n",
      "         167       0.91      0.94      0.93       377\n",
      "         168       0.94      0.91      0.92      1384\n",
      "         169       0.98      0.99      0.98      6670\n",
      "         170       0.78      0.86      0.82       286\n",
      "         171       0.58      0.62      0.60        77\n",
      "         172       0.95      0.98      0.97       784\n",
      "         173       0.99      0.99      0.99       645\n",
      "         174       0.84      0.91      0.87       600\n",
      "         175       0.68      0.81      0.74        21\n",
      "         176       0.85      0.86      0.86       639\n",
      "         177       0.91      0.40      0.56        25\n",
      "         178       0.92      0.91      0.91      1155\n",
      "         179       0.76      0.81      0.78       314\n",
      "         180       0.95      1.00      0.97       210\n",
      "         181       0.90      0.81      0.85       360\n",
      "         182       0.97      0.97      0.97       477\n",
      "         183       0.83      0.68      0.75       117\n",
      "         184       0.81      0.68      0.73       160\n",
      "         185       0.93      0.93      0.93       398\n",
      "         186       0.82      0.67      0.74        55\n",
      "         187       0.95      0.93      0.94       737\n",
      "         188       0.97      0.95      0.96       485\n",
      "         189       0.79      0.85      0.82        97\n",
      "         190       0.70      0.69      0.69       682\n",
      "         191       0.93      0.90      0.91       202\n",
      "         192       0.88      0.83      0.86       393\n",
      "         193       0.80      0.76      0.78       278\n",
      "         194       0.00      0.00      0.00         4\n",
      "         195       0.94      0.89      0.91       242\n",
      "         196       0.73      0.62      0.67        96\n",
      "         197       0.00      0.00      0.00         1\n",
      "         198       0.96      0.95      0.96       282\n",
      "         199       0.40      0.29      0.33         7\n",
      "         200       0.99      1.00      0.99       641\n",
      "         201       0.93      0.97      0.95       278\n",
      "         202       0.88      0.87      0.88        78\n",
      "         203       0.56      0.50      0.53        10\n",
      "         204       0.94      0.92      0.93      3403\n",
      "         205       0.88      0.92      0.90      4725\n",
      "         206       0.83      0.61      0.70       180\n",
      "         207       0.81      0.84      0.82       167\n",
      "         208       0.99      0.98      0.99      3083\n",
      "         209       0.97      0.99      0.98       179\n",
      "         210       0.66      0.73      0.70       245\n",
      "         211       0.92      0.87      0.89       434\n",
      "         212       0.93      0.94      0.94      3151\n",
      "         213       0.75      0.78      0.77       268\n",
      "         214       0.94      0.91      0.92       571\n",
      "         215       0.97      0.94      0.95      1933\n",
      "         216       0.96      0.97      0.96      3104\n",
      "         217       0.64      0.67      0.65       337\n",
      "         218       0.89      0.83      0.86        86\n",
      "         219       0.95      0.94      0.95      4300\n",
      "         220       0.94      0.90      0.92       309\n",
      "         221       0.98      0.98      0.98      2388\n",
      "         222       0.93      0.92      0.92      1433\n",
      "         223       1.00      0.99      0.99      8700\n",
      "         224       0.97      0.97      0.97      2685\n",
      "\n",
      "    accuracy                           0.91    200000\n",
      "   macro avg       0.73      0.68      0.69    200000\n",
      "weighted avg       0.91      0.91      0.91    200000\n",
      "\n"
     ]
    },
    {
     "name": "stderr",
     "output_type": "stream",
     "text": [
      "C:\\Users\\user\\anaconda3\\lib\\site-packages\\sklearn\\metrics\\_classification.py:1248: UndefinedMetricWarning: Precision and F-score are ill-defined and being set to 0.0 in labels with no predicted samples. Use `zero_division` parameter to control this behavior.\n",
      "  _warn_prf(average, modifier, msg_start, len(result))\n",
      "C:\\Users\\user\\anaconda3\\lib\\site-packages\\sklearn\\metrics\\_classification.py:1248: UndefinedMetricWarning: Precision and F-score are ill-defined and being set to 0.0 in labels with no predicted samples. Use `zero_division` parameter to control this behavior.\n",
      "  _warn_prf(average, modifier, msg_start, len(result))\n",
      "C:\\Users\\user\\anaconda3\\lib\\site-packages\\sklearn\\metrics\\_classification.py:1248: UndefinedMetricWarning: Precision and F-score are ill-defined and being set to 0.0 in labels with no predicted samples. Use `zero_division` parameter to control this behavior.\n",
      "  _warn_prf(average, modifier, msg_start, len(result))\n"
     ]
    }
   ],
   "source": [
    "print ('Here is the classification report:')\n",
    "print (classification_report(y_test, predict3))"
   ]
  },
  {
   "cell_type": "markdown",
   "id": "ec614811",
   "metadata": {},
   "source": [
    "# 모델개발용 데이터 예측 (digit_3)"
   ]
  },
  {
   "cell_type": "code",
   "execution_count": 47,
   "id": "59c1d48f",
   "metadata": {},
   "outputs": [
    {
     "name": "stderr",
     "output_type": "stream",
     "text": [
      "2022-04-13 02:19:24,809 - root - INFO - 모델개발용 자료 digit_3 예측\n"
     ]
    }
   ],
   "source": [
    "logging.info('모델개발용 자료 digit_3 예측')"
   ]
  },
  {
   "cell_type": "code",
   "execution_count": 48,
   "id": "c5d012c4",
   "metadata": {},
   "outputs": [
    {
     "data": {
      "text/plain": [
       "array([[4.5779464e-11, 9.8811535e-11, 2.3729187e-12, ..., 5.7348262e-12,\n",
       "        8.8199798e-08, 4.3648907e-08],\n",
       "       [1.0991066e-08, 4.3618029e-11, 3.6106276e-09, ..., 5.3547950e-07,\n",
       "        5.7488808e-10, 1.2982049e-08],\n",
       "       [2.4743588e-10, 9.2898524e-09, 1.8151720e-10, ..., 3.3744507e-10,\n",
       "        6.3231391e-06, 1.3851150e-06],\n",
       "       ...,\n",
       "       [2.5813802e-07, 2.0584719e-05, 4.4609926e-08, ..., 3.6329996e-06,\n",
       "        1.7594053e-05, 6.4062748e-05],\n",
       "       [3.6091736e-09, 7.0136483e-09, 7.0622415e-09, ..., 9.4707495e-09,\n",
       "        1.2231033e-07, 1.6740410e-06],\n",
       "       [3.7810317e-08, 6.6466242e-07, 1.7333912e-07, ..., 6.4274678e-07,\n",
       "        4.2939300e-05, 3.5970946e-04]], dtype=float32)"
      ]
     },
     "execution_count": 48,
     "metadata": {},
     "output_type": "execute_result"
    }
   ],
   "source": [
    "digit3_pred = model3.predict(test_data)\n",
    "digit3_pred"
   ]
  },
  {
   "cell_type": "code",
   "execution_count": 49,
   "id": "6628625f",
   "metadata": {},
   "outputs": [
    {
     "data": {
      "text/plain": [
       "array([147, 122, 219, ..., 132, 214, 169], dtype=int64)"
      ]
     },
     "execution_count": 49,
     "metadata": {},
     "output_type": "execute_result"
    }
   ],
   "source": [
    "digit3_predict = []\n",
    "for i in range(digit3_pred.shape[0]):\n",
    "    digit3_predict.append(digit3_pred[i].argmax())\n",
    "digit3_predict = np.array(digit3_predict)\n",
    "digit3_predict"
   ]
  },
  {
   "cell_type": "code",
   "execution_count": 50,
   "id": "8168dbb8",
   "metadata": {},
   "outputs": [
    {
     "data": {
      "text/plain": [
       "array([561., 466., 949., ..., 478., 902., 682.])"
      ]
     },
     "execution_count": 50,
     "metadata": {},
     "output_type": "execute_result"
    }
   ],
   "source": [
    "digit3_predict = encoder3.inverse_transform(digit3_predict)\n",
    "digit3_predict"
   ]
  },
  {
   "cell_type": "markdown",
   "id": "81cedaa7",
   "metadata": {},
   "source": [
    "# 답안 작성용 파일"
   ]
  },
  {
   "cell_type": "code",
   "execution_count": 51,
   "id": "88dd371e",
   "metadata": {},
   "outputs": [
    {
     "data": {
      "text/html": [
       "<div>\n",
       "<style scoped>\n",
       "    .dataframe tbody tr th:only-of-type {\n",
       "        vertical-align: middle;\n",
       "    }\n",
       "\n",
       "    .dataframe tbody tr th {\n",
       "        vertical-align: top;\n",
       "    }\n",
       "\n",
       "    .dataframe thead th {\n",
       "        text-align: right;\n",
       "    }\n",
       "</style>\n",
       "<table border=\"1\" class=\"dataframe\">\n",
       "  <thead>\n",
       "    <tr style=\"text-align: right;\">\n",
       "      <th></th>\n",
       "      <th>AI_id</th>\n",
       "      <th>digit_1</th>\n",
       "      <th>digit_2</th>\n",
       "      <th>digit_3</th>\n",
       "      <th>text_obj</th>\n",
       "      <th>text_mthd</th>\n",
       "      <th>text_deal</th>\n",
       "    </tr>\n",
       "  </thead>\n",
       "  <tbody>\n",
       "    <tr>\n",
       "      <th>0</th>\n",
       "      <td>id_000001</td>\n",
       "      <td>NaN</td>\n",
       "      <td>NaN</td>\n",
       "      <td>NaN</td>\n",
       "      <td>치킨전문점에서</td>\n",
       "      <td>고객의주문에의해</td>\n",
       "      <td>치킨판매</td>\n",
       "    </tr>\n",
       "    <tr>\n",
       "      <th>1</th>\n",
       "      <td>id_000002</td>\n",
       "      <td>NaN</td>\n",
       "      <td>NaN</td>\n",
       "      <td>NaN</td>\n",
       "      <td>산업공구</td>\n",
       "      <td>다른 소매업자에게</td>\n",
       "      <td>철물 수공구</td>\n",
       "    </tr>\n",
       "    <tr>\n",
       "      <th>2</th>\n",
       "      <td>id_000003</td>\n",
       "      <td>NaN</td>\n",
       "      <td>NaN</td>\n",
       "      <td>NaN</td>\n",
       "      <td>절에서</td>\n",
       "      <td>신도을 대상으로</td>\n",
       "      <td>불교단체운영</td>\n",
       "    </tr>\n",
       "    <tr>\n",
       "      <th>3</th>\n",
       "      <td>id_000004</td>\n",
       "      <td>NaN</td>\n",
       "      <td>NaN</td>\n",
       "      <td>NaN</td>\n",
       "      <td>영업장에서</td>\n",
       "      <td>고객요구로</td>\n",
       "      <td>자동차튜닝</td>\n",
       "    </tr>\n",
       "    <tr>\n",
       "      <th>4</th>\n",
       "      <td>id_000005</td>\n",
       "      <td>NaN</td>\n",
       "      <td>NaN</td>\n",
       "      <td>NaN</td>\n",
       "      <td>실내포장마차에서</td>\n",
       "      <td>접객시설을 갖추고</td>\n",
       "      <td>소주,맥주제공</td>\n",
       "    </tr>\n",
       "    <tr>\n",
       "      <th>...</th>\n",
       "      <td>...</td>\n",
       "      <td>...</td>\n",
       "      <td>...</td>\n",
       "      <td>...</td>\n",
       "      <td>...</td>\n",
       "      <td>...</td>\n",
       "      <td>...</td>\n",
       "    </tr>\n",
       "    <tr>\n",
       "      <th>99995</th>\n",
       "      <td>id_099996</td>\n",
       "      <td>NaN</td>\n",
       "      <td>NaN</td>\n",
       "      <td>NaN</td>\n",
       "      <td>사업장에서</td>\n",
       "      <td>일반인대상으로</td>\n",
       "      <td>버섯농장</td>\n",
       "    </tr>\n",
       "    <tr>\n",
       "      <th>99996</th>\n",
       "      <td>id_099997</td>\n",
       "      <td>NaN</td>\n",
       "      <td>NaN</td>\n",
       "      <td>NaN</td>\n",
       "      <td>한의원에서</td>\n",
       "      <td>외래환자위주고</td>\n",
       "      <td>치료</td>\n",
       "    </tr>\n",
       "    <tr>\n",
       "      <th>99997</th>\n",
       "      <td>id_099998</td>\n",
       "      <td>NaN</td>\n",
       "      <td>NaN</td>\n",
       "      <td>NaN</td>\n",
       "      <td>일반점포에서</td>\n",
       "      <td>소비자에게</td>\n",
       "      <td>그림판매</td>\n",
       "    </tr>\n",
       "    <tr>\n",
       "      <th>99998</th>\n",
       "      <td>id_099999</td>\n",
       "      <td>NaN</td>\n",
       "      <td>NaN</td>\n",
       "      <td>NaN</td>\n",
       "      <td>사업장에서</td>\n",
       "      <td>일반인.학생대상으로</td>\n",
       "      <td>학습공간제공</td>\n",
       "    </tr>\n",
       "    <tr>\n",
       "      <th>99999</th>\n",
       "      <td>id_100000</td>\n",
       "      <td>NaN</td>\n",
       "      <td>NaN</td>\n",
       "      <td>NaN</td>\n",
       "      <td>사업장에서</td>\n",
       "      <td>대리현대아파트를</td>\n",
       "      <td>관리</td>\n",
       "    </tr>\n",
       "  </tbody>\n",
       "</table>\n",
       "<p>100000 rows × 7 columns</p>\n",
       "</div>"
      ],
      "text/plain": [
       "           AI_id  digit_1  digit_2  digit_3  text_obj   text_mthd text_deal\n",
       "0      id_000001      NaN      NaN      NaN   치킨전문점에서    고객의주문에의해      치킨판매\n",
       "1      id_000002      NaN      NaN      NaN      산업공구   다른 소매업자에게    철물 수공구\n",
       "2      id_000003      NaN      NaN      NaN       절에서    신도을 대상으로    불교단체운영\n",
       "3      id_000004      NaN      NaN      NaN     영업장에서       고객요구로     자동차튜닝\n",
       "4      id_000005      NaN      NaN      NaN  실내포장마차에서   접객시설을 갖추고   소주,맥주제공\n",
       "...          ...      ...      ...      ...       ...         ...       ...\n",
       "99995  id_099996      NaN      NaN      NaN     사업장에서     일반인대상으로      버섯농장\n",
       "99996  id_099997      NaN      NaN      NaN     한의원에서     외래환자위주고        치료\n",
       "99997  id_099998      NaN      NaN      NaN    일반점포에서       소비자에게      그림판매\n",
       "99998  id_099999      NaN      NaN      NaN     사업장에서  일반인.학생대상으로    학습공간제공\n",
       "99999  id_100000      NaN      NaN      NaN     사업장에서    대리현대아파트를        관리\n",
       "\n",
       "[100000 rows x 7 columns]"
      ]
     },
     "execution_count": 51,
     "metadata": {},
     "output_type": "execute_result"
    }
   ],
   "source": [
    "submission = pd.read_csv('../답안 작성용 파일.csv', encoding='cp949')\n",
    "submission"
   ]
  },
  {
   "cell_type": "code",
   "execution_count": 52,
   "id": "d494b236",
   "metadata": {},
   "outputs": [],
   "source": [
    "submission['digit_1'] = digit1_predict\n",
    "submission['digit_2'] = digit2_predict\n",
    "submission['digit_3'] = digit3_predict"
   ]
  },
  {
   "cell_type": "code",
   "execution_count": 53,
   "id": "3c774d0d",
   "metadata": {},
   "outputs": [
    {
     "data": {
      "text/html": [
       "<div>\n",
       "<style scoped>\n",
       "    .dataframe tbody tr th:only-of-type {\n",
       "        vertical-align: middle;\n",
       "    }\n",
       "\n",
       "    .dataframe tbody tr th {\n",
       "        vertical-align: top;\n",
       "    }\n",
       "\n",
       "    .dataframe thead th {\n",
       "        text-align: right;\n",
       "    }\n",
       "</style>\n",
       "<table border=\"1\" class=\"dataframe\">\n",
       "  <thead>\n",
       "    <tr style=\"text-align: right;\">\n",
       "      <th></th>\n",
       "      <th>AI_id</th>\n",
       "      <th>digit_1</th>\n",
       "      <th>digit_2</th>\n",
       "      <th>digit_3</th>\n",
       "      <th>text_obj</th>\n",
       "      <th>text_mthd</th>\n",
       "      <th>text_deal</th>\n",
       "    </tr>\n",
       "  </thead>\n",
       "  <tbody>\n",
       "    <tr>\n",
       "      <th>0</th>\n",
       "      <td>id_000001</td>\n",
       "      <td>I</td>\n",
       "      <td>56.0</td>\n",
       "      <td>561.0</td>\n",
       "      <td>치킨전문점에서</td>\n",
       "      <td>고객의주문에의해</td>\n",
       "      <td>치킨판매</td>\n",
       "    </tr>\n",
       "    <tr>\n",
       "      <th>1</th>\n",
       "      <td>id_000002</td>\n",
       "      <td>G</td>\n",
       "      <td>46.0</td>\n",
       "      <td>466.0</td>\n",
       "      <td>산업공구</td>\n",
       "      <td>다른 소매업자에게</td>\n",
       "      <td>철물 수공구</td>\n",
       "    </tr>\n",
       "    <tr>\n",
       "      <th>2</th>\n",
       "      <td>id_000003</td>\n",
       "      <td>S</td>\n",
       "      <td>94.0</td>\n",
       "      <td>949.0</td>\n",
       "      <td>절에서</td>\n",
       "      <td>신도을 대상으로</td>\n",
       "      <td>불교단체운영</td>\n",
       "    </tr>\n",
       "    <tr>\n",
       "      <th>3</th>\n",
       "      <td>id_000004</td>\n",
       "      <td>C</td>\n",
       "      <td>95.0</td>\n",
       "      <td>302.0</td>\n",
       "      <td>영업장에서</td>\n",
       "      <td>고객요구로</td>\n",
       "      <td>자동차튜닝</td>\n",
       "    </tr>\n",
       "    <tr>\n",
       "      <th>4</th>\n",
       "      <td>id_000005</td>\n",
       "      <td>I</td>\n",
       "      <td>56.0</td>\n",
       "      <td>562.0</td>\n",
       "      <td>실내포장마차에서</td>\n",
       "      <td>접객시설을 갖추고</td>\n",
       "      <td>소주,맥주제공</td>\n",
       "    </tr>\n",
       "    <tr>\n",
       "      <th>...</th>\n",
       "      <td>...</td>\n",
       "      <td>...</td>\n",
       "      <td>...</td>\n",
       "      <td>...</td>\n",
       "      <td>...</td>\n",
       "      <td>...</td>\n",
       "      <td>...</td>\n",
       "    </tr>\n",
       "    <tr>\n",
       "      <th>99995</th>\n",
       "      <td>id_099996</td>\n",
       "      <td>A</td>\n",
       "      <td>47.0</td>\n",
       "      <td>869.0</td>\n",
       "      <td>사업장에서</td>\n",
       "      <td>일반인대상으로</td>\n",
       "      <td>버섯농장</td>\n",
       "    </tr>\n",
       "    <tr>\n",
       "      <th>99996</th>\n",
       "      <td>id_099997</td>\n",
       "      <td>Q</td>\n",
       "      <td>86.0</td>\n",
       "      <td>862.0</td>\n",
       "      <td>한의원에서</td>\n",
       "      <td>외래환자위주고</td>\n",
       "      <td>치료</td>\n",
       "    </tr>\n",
       "    <tr>\n",
       "      <th>99997</th>\n",
       "      <td>id_099998</td>\n",
       "      <td>G</td>\n",
       "      <td>47.0</td>\n",
       "      <td>478.0</td>\n",
       "      <td>일반점포에서</td>\n",
       "      <td>소비자에게</td>\n",
       "      <td>그림판매</td>\n",
       "    </tr>\n",
       "    <tr>\n",
       "      <th>99998</th>\n",
       "      <td>id_099999</td>\n",
       "      <td>R</td>\n",
       "      <td>90.0</td>\n",
       "      <td>902.0</td>\n",
       "      <td>사업장에서</td>\n",
       "      <td>일반인.학생대상으로</td>\n",
       "      <td>학습공간제공</td>\n",
       "    </tr>\n",
       "    <tr>\n",
       "      <th>99999</th>\n",
       "      <td>id_100000</td>\n",
       "      <td>L</td>\n",
       "      <td>68.0</td>\n",
       "      <td>682.0</td>\n",
       "      <td>사업장에서</td>\n",
       "      <td>대리현대아파트를</td>\n",
       "      <td>관리</td>\n",
       "    </tr>\n",
       "  </tbody>\n",
       "</table>\n",
       "<p>100000 rows × 7 columns</p>\n",
       "</div>"
      ],
      "text/plain": [
       "           AI_id digit_1  digit_2  digit_3  text_obj   text_mthd text_deal\n",
       "0      id_000001       I     56.0    561.0   치킨전문점에서    고객의주문에의해      치킨판매\n",
       "1      id_000002       G     46.0    466.0      산업공구   다른 소매업자에게    철물 수공구\n",
       "2      id_000003       S     94.0    949.0       절에서    신도을 대상으로    불교단체운영\n",
       "3      id_000004       C     95.0    302.0     영업장에서       고객요구로     자동차튜닝\n",
       "4      id_000005       I     56.0    562.0  실내포장마차에서   접객시설을 갖추고   소주,맥주제공\n",
       "...          ...     ...      ...      ...       ...         ...       ...\n",
       "99995  id_099996       A     47.0    869.0     사업장에서     일반인대상으로      버섯농장\n",
       "99996  id_099997       Q     86.0    862.0     한의원에서     외래환자위주고        치료\n",
       "99997  id_099998       G     47.0    478.0    일반점포에서       소비자에게      그림판매\n",
       "99998  id_099999       R     90.0    902.0     사업장에서  일반인.학생대상으로    학습공간제공\n",
       "99999  id_100000       L     68.0    682.0     사업장에서    대리현대아파트를        관리\n",
       "\n",
       "[100000 rows x 7 columns]"
      ]
     },
     "execution_count": 53,
     "metadata": {},
     "output_type": "execute_result"
    }
   ],
   "source": [
    "submission"
   ]
  },
  {
   "cell_type": "code",
   "execution_count": 54,
   "id": "10e99414",
   "metadata": {},
   "outputs": [],
   "source": [
    "submission.to_csv('답안 작성용 파일(lstm).csv', index=False, encoding='utf-8-sig')"
   ]
  },
  {
   "cell_type": "code",
   "execution_count": null,
   "id": "ced1a000",
   "metadata": {},
   "outputs": [],
   "source": []
  }
 ],
 "metadata": {
  "kernelspec": {
   "display_name": "Python 3",
   "language": "python",
   "name": "python3"
  },
  "language_info": {
   "codemirror_mode": {
    "name": "ipython",
    "version": 3
   },
   "file_extension": ".py",
   "mimetype": "text/x-python",
   "name": "python",
   "nbconvert_exporter": "python",
   "pygments_lexer": "ipython3",
   "version": "3.8.8"
  }
 },
 "nbformat": 4,
 "nbformat_minor": 5
}
